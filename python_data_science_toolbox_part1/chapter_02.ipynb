{
 "cells": [
  {
   "cell_type": "markdown",
   "id": "7b36c971",
   "metadata": {},
   "source": [
    "# Default and flexible arguments"
   ]
  },
  {
   "cell_type": "markdown",
   "id": "9cd20885",
   "metadata": {},
   "source": [
    "## Add a default argument"
   ]
  },
  {
   "cell_type": "code",
   "execution_count": 1,
   "id": "1e06a5cf",
   "metadata": {},
   "outputs": [],
   "source": [
    "def power(number, pow=1):\n",
    "    \"\"\"Raise to the power of pow.\"\"\"\n",
    "    new_value = number ** pow\n",
    "    return new_value"
   ]
  },
  {
   "cell_type": "code",
   "execution_count": 2,
   "id": "a9b20b4d",
   "metadata": {},
   "outputs": [
    {
     "data": {
      "text/plain": [
       "2"
      ]
     },
     "execution_count": 2,
     "metadata": {},
     "output_type": "execute_result"
    }
   ],
   "source": [
    "power(2) # use the default pow = 1"
   ]
  },
  {
   "cell_type": "code",
   "execution_count": 3,
   "id": "0eeeb5a1",
   "metadata": {},
   "outputs": [
    {
     "data": {
      "text/plain": [
       "4"
      ]
     },
     "execution_count": 3,
     "metadata": {},
     "output_type": "execute_result"
    }
   ],
   "source": [
    "power(2, 2)"
   ]
  },
  {
   "cell_type": "markdown",
   "id": "908b2f6a",
   "metadata": {},
   "source": [
    "## Flexible arguments: *args(1)"
   ]
  },
  {
   "cell_type": "code",
   "execution_count": 5,
   "id": "b0f2c2e7",
   "metadata": {},
   "outputs": [],
   "source": [
    "def add_all(*args):\n",
    "    \"\"\"Sum all values in *args together.\"\"\"\n",
    "    \n",
    "    # Initialize sum\n",
    "    sum_all = 0\n",
    "    \n",
    "    # Accumulate the sum\n",
    "    for num in args:\n",
    "        sum_all += num\n",
    "        \n",
    "    return sum_all"
   ]
  },
  {
   "cell_type": "code",
   "execution_count": 6,
   "id": "2d69fc5d",
   "metadata": {},
   "outputs": [
    {
     "data": {
      "text/plain": [
       "1"
      ]
     },
     "execution_count": 6,
     "metadata": {},
     "output_type": "execute_result"
    }
   ],
   "source": [
    "add_all(1)"
   ]
  },
  {
   "cell_type": "code",
   "execution_count": 8,
   "id": "4949eeae",
   "metadata": {},
   "outputs": [
    {
     "data": {
      "text/plain": [
       "4"
      ]
     },
     "execution_count": 8,
     "metadata": {},
     "output_type": "execute_result"
    }
   ],
   "source": [
    "add_all(1, 3)"
   ]
  },
  {
   "cell_type": "code",
   "execution_count": 9,
   "id": "5fe0c253",
   "metadata": {},
   "outputs": [
    {
     "data": {
      "text/plain": [
       "50"
      ]
     },
     "execution_count": 9,
     "metadata": {},
     "output_type": "execute_result"
    }
   ],
   "source": [
    "add_all(5, 10, 15, 20)"
   ]
  },
  {
   "cell_type": "markdown",
   "id": "81eefa99",
   "metadata": {},
   "source": [
    "## Flexible arguments: **kwargs"
   ]
  },
  {
   "cell_type": "markdown",
   "id": "f14b896b",
   "metadata": {},
   "source": [
    "- We have to identify the argument."
   ]
  },
  {
   "cell_type": "code",
   "execution_count": 10,
   "id": "5b27501a",
   "metadata": {},
   "outputs": [],
   "source": [
    "def print_all(**kwargs):\n",
    "    \"\"\"Print out key-value pairs in **kwargs.\"\"\"\n",
    "    \n",
    "    # Print out the key-value pairs\n",
    "    for key, value in kwargs.items():\n",
    "        print(key + \" : \" + value)"
   ]
  },
  {
   "cell_type": "code",
   "execution_count": 13,
   "id": "d016ad85",
   "metadata": {},
   "outputs": [
    {
     "name": "stdout",
     "output_type": "stream",
     "text": [
      "name : dumbledore\n",
      "job : headmaster\n",
      "movie : Harry Potter\n"
     ]
    }
   ],
   "source": [
    "print_all(name=\"dumbledore\", job=\"headmaster\", movie=\"Harry Potter\")"
   ]
  },
  {
   "cell_type": "markdown",
   "id": "52e7512a",
   "metadata": {},
   "source": [
    "# Exercises"
   ]
  },
  {
   "cell_type": "markdown",
   "id": "9f1904d8",
   "metadata": {},
   "source": [
    "> ## 1. Functions with one default argument\n",
    "\n",
    "In the previous chapter, you've learned to define functions with more than one parameter and then calling those functions by passing the required number of arguments. In the last video, Hugo built on this idea by showing you how to define functions with default arguments. You will practice that skill in this exercise by writing a function that uses a default argument and then calling the function a couple of times.\n",
    "\n",
    "- Complete the function header with the function name shout_echo. It accepts an argument word1 and a default argument echo with default value 1, in that order.\n",
    "- Use the * operator to concatenate echo copies of word1. Assign the result to echo_word.\n",
    "- Call shout_echo() with just the string, \"Hey\". Assign the result to no_echo.\n",
    "- Call shout_echo() with the string \"Hey\" and the value 5 for the default argument, echo. Assign the result to with_echo."
   ]
  },
  {
   "cell_type": "code",
   "execution_count": 15,
   "id": "5025fe4b",
   "metadata": {},
   "outputs": [
    {
     "name": "stdout",
     "output_type": "stream",
     "text": [
      "Hey!!!\n",
      "Hey Hey Hey Hey Hey !!!\n"
     ]
    }
   ],
   "source": [
    "# Define shout_echo\n",
    "def shout_echo(word1, echo = 1):\n",
    "    \"\"\"Concatenate echo copies of word1 and three\n",
    "     exclamation marks at the end of the string.\"\"\"\n",
    "\n",
    "    # Concatenate echo copies of word1 using *: echo_word\n",
    "    echo_word = echo * word1\n",
    " \n",
    "    # Concatenate '!!!' to echo_word: shout_word\n",
    "    shout_word = echo_word + '!!!'\n",
    "\n",
    "    # Return shout_word\n",
    "    return shout_word\n",
    "\n",
    "# Call shout_echo() with \"Hey\": no_echo\n",
    "no_echo = shout_echo(\"Hey\")\n",
    "\n",
    "# Call shout_echo() with \"Hey\" and echo=5: with_echo\n",
    "with_echo = shout_echo(\"Hey \", echo = 5)\n",
    "\n",
    "# Print no_echo and with_echo\n",
    "print(no_echo)\n",
    "print(with_echo)"
   ]
  },
  {
   "cell_type": "markdown",
   "id": "20a82f01",
   "metadata": {},
   "source": [
    "> ## 2. Functions with multiple default arguments\n",
    "\n",
    "You've now defined a function that uses a default argument - don't stop there just yet! You will now try your hand at defining a function with more than one default argument and then calling this function in various ways.\n",
    "\n",
    "After defining the function, you will call it by supplying values to all the default arguments of the function. Additionally, you will call the function by not passing a value to one of the default arguments - see how that changes the output of your function!\n",
    "\n",
    "- Complete the function header with the function name shout_echo. It accepts an argument word1, a default argument echo with default value 1 and a default argument intense with default value False, in that order.\n",
    "- In the body of the if statement, make the string object echo_word upper case by applying the method .upper() on it.\n",
    "- Call shout_echo() with the string, \"Hey\", the value 5 for echo and the value True for intense. Assign the result to with_big_echo.\n",
    "- Call shout_echo() with the string \"Hey\" and the value True for intense. Assign the result to big_no_echo."
   ]
  },
  {
   "cell_type": "code",
   "execution_count": 16,
   "id": "68a97b5d",
   "metadata": {},
   "outputs": [
    {
     "name": "stdout",
     "output_type": "stream",
     "text": [
      "HEYHEYHEYHEYHEY!!!\n",
      "HEY!!!\n"
     ]
    }
   ],
   "source": [
    "# Define shout_echo\n",
    "def shout_echo(word1, echo = 1, intense = False):\n",
    "    \"\"\"Concatenate echo copies of word1 and three\n",
    "    exclamation marks at the end of the string.\"\"\"\n",
    "\n",
    "    # Concatenate echo copies of word1 using *: echo_word\n",
    "    echo_word = word1 * echo\n",
    "\n",
    "    # Make echo_word uppercase if intense is True\n",
    "    if intense is True:\n",
    "        # Make uppercase and concatenate '!!!': echo_word_new\n",
    "        echo_word_new = echo_word.upper() + '!!!'\n",
    "    else:\n",
    "        # Concatenate '!!!' to echo_word: echo_word_new\n",
    "        echo_word_new = echo_word + '!!!'\n",
    "\n",
    "    # Return echo_word_new\n",
    "    return echo_word_new\n",
    "\n",
    "# Call shout_echo() with \"Hey\", echo=5 and intense=True: with_big_echo\n",
    "with_big_echo = shout_echo(\"Hey\", echo=5, intense=True)\n",
    "\n",
    "# Call shout_echo() with \"Hey\" and intense=True: big_no_echo\n",
    "big_no_echo = shout_echo(\"Hey\", intense=True)\n",
    "\n",
    "# Print values\n",
    "print(with_big_echo)\n",
    "print(big_no_echo)"
   ]
  },
  {
   "cell_type": "markdown",
   "id": "943f6e61",
   "metadata": {},
   "source": [
    "> ## 3. Functions with variable-length arguments (*args)\n",
    "\n",
    "Flexible arguments enable you to pass a variable number of arguments to a function. In this exercise, you will practice defining a function that accepts a variable number of string arguments.\n",
    "\n",
    "The function you will define is gibberish() which can accept a variable number of string values. Its return value is a single string composed of all the string arguments concatenated together in the order they were passed to the function call. You will call the function with a single string argument and see how the output changes with another call using more than one string argument. Recall from the previous video that, within the function definition, args is a tuple.\n",
    "\n",
    "- Complete the function header with the function name gibberish. It accepts a single flexible argument *args.\n",
    "- Initialize a variable hodgepodge to an empty string.\n",
    "- Return the variable hodgepodge at the end of the function body.\n",
    "- Call gibberish() with the single string, \"luke\". Assign the result to one_word.\n",
    "- Hit the Submit button to call gibberish() with multiple arguments and to print the value to the Shell."
   ]
  },
  {
   "cell_type": "code",
   "execution_count": 18,
   "id": "009cc223",
   "metadata": {},
   "outputs": [
    {
     "name": "stdout",
     "output_type": "stream",
     "text": [
      "luke\n",
      "lukeleiahanobidarth\n"
     ]
    }
   ],
   "source": [
    "# Define gibberish\n",
    "def gibberish(*args):\n",
    "    \"\"\"Concatenate strings in *args together.\"\"\"\n",
    "\n",
    "    # Initialize an empty string: hodgepodge\n",
    "    hodgepodge = \"\"\n",
    "\n",
    "    # Concatenate the strings in args\n",
    "    for word in args:\n",
    "        hodgepodge += word\n",
    "\n",
    "    # Return hodgepodge\n",
    "    return hodgepodge\n",
    "\n",
    "# Call gibberish() with one string: one_word\n",
    "one_word = gibberish(\"luke\")\n",
    "\n",
    "# Call gibberish() with five strings: many_words\n",
    "many_words = gibberish(\"luke\", \"leia\", \"han\", \"obi\", \"darth\")\n",
    "\n",
    "# Print one_word and many_words\n",
    "print(one_word)\n",
    "print(many_words)"
   ]
  },
  {
   "cell_type": "markdown",
   "id": "4788cd77",
   "metadata": {},
   "source": [
    "> ## 4. Functions with variable-length keyword arguments (**kwargs)\n",
    "\n",
    "Let's push further on what you've learned about flexible arguments - you've used *args, you're now going to use ***kwargs. What makes \\*\\*kwargs different is that it allows you to pass a variable number of keyword arguments to functions. Recall from the previous video that, within the function definition, kwargs is a dictionary.\n",
    "\n",
    "To understand this idea better, you're going to use \\*\\*kwargs in this exercise to define a function that accepts a variable number of keyword arguments. The function simulates a simple status report system that prints out the status of a character in a movie.\n",
    "\n",
    "- Complete the function header with the function name report_status. It accepts a single flexible argument \\*\\*kwargs.\n",
    "- Iterate over the key-value pairs of kwargs to print out the keys and values, separated by a colon ':'.\n",
    "- In the first call to report_status(), pass the following keyword-value pairs: name=\"luke\", affiliation=\"jedi\" and status=\"missing\".\n",
    "- In the second call to report_status(), pass the following keyword-value pairs: name=\"anakin\", affiliation=\"sith lord\" and status=\"deceased\"."
   ]
  },
  {
   "cell_type": "code",
   "execution_count": 20,
   "id": "f08d2fbe",
   "metadata": {},
   "outputs": [
    {
     "name": "stdout",
     "output_type": "stream",
     "text": [
      "\n",
      "BEGIN: REPORT\n",
      "\n",
      "name: luke\n",
      "affiliation: jedi\n",
      "status: missing\n",
      "\n",
      "END REPORT\n",
      "\n",
      "BEGIN: REPORT\n",
      "\n",
      "name: anakin\n",
      "affiliation: sith lord\n",
      "status: deceased\n",
      "\n",
      "END REPORT\n"
     ]
    }
   ],
   "source": [
    "# Define report_status\n",
    "def report_status(**kwargs):\n",
    "    \"\"\"Print out the status of a movie character.\"\"\"\n",
    "\n",
    "    print(\"\\nBEGIN: REPORT\\n\")\n",
    "\n",
    "    # Iterate over the key-value pairs of kwargs\n",
    "    for key, value in kwargs.items():\n",
    "        # Print out the keys and values, separated by a colon ':'\n",
    "        print(key + \": \" + value)\n",
    "\n",
    "    print(\"\\nEND REPORT\")\n",
    "\n",
    "# First call to report_status()\n",
    "report_status(name=\"luke\", affiliation=\"jedi\", status=\"missing\")\n",
    "\n",
    "# Second call to report_status()\n",
    "report_status(name=\"anakin\", affiliation=\"sith lord\", status=\"deceased\")"
   ]
  },
  {
   "cell_type": "markdown",
   "id": "9bb20b74",
   "metadata": {},
   "source": [
    "# Bringing it all together"
   ]
  },
  {
   "cell_type": "markdown",
   "id": "15eefe31",
   "metadata": {},
   "source": [
    "> # 💻 Bringing it all together (1)\n",
    "\n",
    "Recall the Bringing it all together exercise in the previous chapter where you did a simple Twitter analysis by developing a function that counts how many tweets are in certain languages. The output of your function was a dictionary that had the language as the keys and the counts of tweets in that language as the value.\n",
    "\n",
    "In this exercise, we will generalize the Twitter language analysis that you did in the previous chapter. You will do that by including a default argument that takes a column name.\n",
    "\n",
    "For your convenience, pandas has been imported as pd and the 'tweets.csv' file has been imported into the DataFrame tweets_df. Parts of the code from your previous work are also provided.\n",
    "\n",
    "- Complete the function header by supplying the parameter for a DataFrame `df` and the parameter `col_name` with a default value of 'lang' for the DataFrame column name.\n",
    "- Call `count_entries()` by passing the `tweets_df` DataFrame and the column name `'lang'`. Assign the result to `result1`. Note that since `'lang'` is the default value of the `col_name` parameter, you don't have to specify it here.\n",
    "- Call `count_entries()` by passing the `tweets_df` DataFrame and the column name `'source'`. Assign the result to `result2`.\n",
    "\n"
   ]
  },
  {
   "cell_type": "code",
   "execution_count": 6,
   "id": "cfc3f565",
   "metadata": {},
   "outputs": [],
   "source": [
    "# Importing course packages; you can add more too!\n",
    "import pandas as pd\n",
    "from functools import reduce\n",
    "\n",
    "# Importing course datasets as DataFrames\n",
    "tweets_df = pd.read_csv('datasets/tweets.csv')"
   ]
  },
  {
   "cell_type": "code",
   "execution_count": 7,
   "id": "af97a574",
   "metadata": {},
   "outputs": [
    {
     "data": {
      "text/html": [
       "<div>\n",
       "<style scoped>\n",
       "    .dataframe tbody tr th:only-of-type {\n",
       "        vertical-align: middle;\n",
       "    }\n",
       "\n",
       "    .dataframe tbody tr th {\n",
       "        vertical-align: top;\n",
       "    }\n",
       "\n",
       "    .dataframe thead th {\n",
       "        text-align: right;\n",
       "    }\n",
       "</style>\n",
       "<table border=\"1\" class=\"dataframe\">\n",
       "  <thead>\n",
       "    <tr style=\"text-align: right;\">\n",
       "      <th></th>\n",
       "      <th>contributors</th>\n",
       "      <th>coordinates</th>\n",
       "      <th>created_at</th>\n",
       "      <th>entities</th>\n",
       "      <th>extended_entities</th>\n",
       "      <th>favorite_count</th>\n",
       "      <th>favorited</th>\n",
       "      <th>filter_level</th>\n",
       "      <th>geo</th>\n",
       "      <th>id</th>\n",
       "      <th>...</th>\n",
       "      <th>quoted_status_id</th>\n",
       "      <th>quoted_status_id_str</th>\n",
       "      <th>retweet_count</th>\n",
       "      <th>retweeted</th>\n",
       "      <th>retweeted_status</th>\n",
       "      <th>source</th>\n",
       "      <th>text</th>\n",
       "      <th>timestamp_ms</th>\n",
       "      <th>truncated</th>\n",
       "      <th>user</th>\n",
       "    </tr>\n",
       "  </thead>\n",
       "  <tbody>\n",
       "    <tr>\n",
       "      <th>0</th>\n",
       "      <td>NaN</td>\n",
       "      <td>NaN</td>\n",
       "      <td>Tue Mar 29 23:40:17 +0000 2016</td>\n",
       "      <td>\"{'hashtags': [], 'user_mentions': [{'screen_n...</td>\n",
       "      <td>\"{'media': [{'sizes': {'large': {'w': 1024, 'h...</td>\n",
       "      <td>0</td>\n",
       "      <td>False</td>\n",
       "      <td>low</td>\n",
       "      <td>NaN</td>\n",
       "      <td>714960401759387600</td>\n",
       "      <td>...</td>\n",
       "      <td>NaN</td>\n",
       "      <td>NaN</td>\n",
       "      <td>0</td>\n",
       "      <td>False</td>\n",
       "      <td>\"{'retweeted': False, 'text': \\\".@krollbondrat...</td>\n",
       "      <td>&lt;a href=\\http://twitter.com\\\" rel=\\\"nofollow\\\"...</td>\n",
       "      <td>RT @bpolitics: .@krollbondrating's Christopher...</td>\n",
       "      <td>1459294817758</td>\n",
       "      <td>False</td>\n",
       "      <td>\"{'utc_offset': 3600, 'profile_image_url_https...</td>\n",
       "    </tr>\n",
       "    <tr>\n",
       "      <th>1</th>\n",
       "      <td>NaN</td>\n",
       "      <td>NaN</td>\n",
       "      <td>Tue Mar 29 23:40:17 +0000 2016</td>\n",
       "      <td>\"{'hashtags': [{'text': 'cruzsexscandal', 'ind...</td>\n",
       "      <td>\"{'media': [{'sizes': {'large': {'w': 500, 'h'...</td>\n",
       "      <td>0</td>\n",
       "      <td>False</td>\n",
       "      <td>low</td>\n",
       "      <td>NaN</td>\n",
       "      <td>714960401977319400</td>\n",
       "      <td>...</td>\n",
       "      <td>NaN</td>\n",
       "      <td>NaN</td>\n",
       "      <td>0</td>\n",
       "      <td>False</td>\n",
       "      <td>\"{'retweeted': False, 'text': '@dmartosko Cruz...</td>\n",
       "      <td>&lt;a href=\\http://twitter.com\\\" rel=\\\"nofollow\\\"...</td>\n",
       "      <td>RT @HeidiAlpine: @dmartosko Cruz video found.....</td>\n",
       "      <td>1459294817810</td>\n",
       "      <td>False</td>\n",
       "      <td>\"{'utc_offset': None, 'profile_image_url_https...</td>\n",
       "    </tr>\n",
       "    <tr>\n",
       "      <th>2</th>\n",
       "      <td>NaN</td>\n",
       "      <td>NaN</td>\n",
       "      <td>Tue Mar 29 23:40:17 +0000 2016</td>\n",
       "      <td>\"{'hashtags': [], 'user_mentions': [], 'symbol...</td>\n",
       "      <td>NaN</td>\n",
       "      <td>0</td>\n",
       "      <td>False</td>\n",
       "      <td>low</td>\n",
       "      <td>NaN</td>\n",
       "      <td>714960402426236900</td>\n",
       "      <td>...</td>\n",
       "      <td>NaN</td>\n",
       "      <td>NaN</td>\n",
       "      <td>0</td>\n",
       "      <td>False</td>\n",
       "      <td>NaN</td>\n",
       "      <td>&lt;a href=\\http://www.facebook.com/twitter\\\" rel...</td>\n",
       "      <td>Njihuni me Zonjën Trump !!! | Ekskluzive https...</td>\n",
       "      <td>1459294817917</td>\n",
       "      <td>False</td>\n",
       "      <td>\"{'utc_offset': 7200, 'profile_image_url_https...</td>\n",
       "    </tr>\n",
       "  </tbody>\n",
       "</table>\n",
       "<p>3 rows × 31 columns</p>\n",
       "</div>"
      ],
      "text/plain": [
       "   contributors  coordinates                      created_at  \\\n",
       "0           NaN          NaN  Tue Mar 29 23:40:17 +0000 2016   \n",
       "1           NaN          NaN  Tue Mar 29 23:40:17 +0000 2016   \n",
       "2           NaN          NaN  Tue Mar 29 23:40:17 +0000 2016   \n",
       "\n",
       "                                            entities  \\\n",
       "0  \"{'hashtags': [], 'user_mentions': [{'screen_n...   \n",
       "1  \"{'hashtags': [{'text': 'cruzsexscandal', 'ind...   \n",
       "2  \"{'hashtags': [], 'user_mentions': [], 'symbol...   \n",
       "\n",
       "                                   extended_entities  favorite_count  \\\n",
       "0  \"{'media': [{'sizes': {'large': {'w': 1024, 'h...               0   \n",
       "1  \"{'media': [{'sizes': {'large': {'w': 500, 'h'...               0   \n",
       "2                                                NaN               0   \n",
       "\n",
       "   favorited filter_level  geo                  id  ...  quoted_status_id  \\\n",
       "0      False          low  NaN  714960401759387600  ...               NaN   \n",
       "1      False          low  NaN  714960401977319400  ...               NaN   \n",
       "2      False          low  NaN  714960402426236900  ...               NaN   \n",
       "\n",
       "  quoted_status_id_str  retweet_count  retweeted  \\\n",
       "0                  NaN              0      False   \n",
       "1                  NaN              0      False   \n",
       "2                  NaN              0      False   \n",
       "\n",
       "                                    retweeted_status  \\\n",
       "0  \"{'retweeted': False, 'text': \\\".@krollbondrat...   \n",
       "1  \"{'retweeted': False, 'text': '@dmartosko Cruz...   \n",
       "2                                                NaN   \n",
       "\n",
       "                                              source  \\\n",
       "0  <a href=\\http://twitter.com\\\" rel=\\\"nofollow\\\"...   \n",
       "1  <a href=\\http://twitter.com\\\" rel=\\\"nofollow\\\"...   \n",
       "2  <a href=\\http://www.facebook.com/twitter\\\" rel...   \n",
       "\n",
       "                                                text   timestamp_ms truncated  \\\n",
       "0  RT @bpolitics: .@krollbondrating's Christopher...  1459294817758     False   \n",
       "1  RT @HeidiAlpine: @dmartosko Cruz video found.....  1459294817810     False   \n",
       "2  Njihuni me Zonjën Trump !!! | Ekskluzive https...  1459294817917     False   \n",
       "\n",
       "                                                user  \n",
       "0  \"{'utc_offset': 3600, 'profile_image_url_https...  \n",
       "1  \"{'utc_offset': None, 'profile_image_url_https...  \n",
       "2  \"{'utc_offset': 7200, 'profile_image_url_https...  \n",
       "\n",
       "[3 rows x 31 columns]"
      ]
     },
     "execution_count": 7,
     "metadata": {},
     "output_type": "execute_result"
    }
   ],
   "source": [
    "tweets_df.head(3)"
   ]
  },
  {
   "cell_type": "code",
   "execution_count": 8,
   "id": "27af3573",
   "metadata": {},
   "outputs": [
    {
     "data": {
      "text/plain": [
       "['contributors',\n",
       " 'coordinates',\n",
       " 'created_at',\n",
       " 'entities',\n",
       " 'extended_entities',\n",
       " 'favorite_count',\n",
       " 'favorited',\n",
       " 'filter_level',\n",
       " 'geo',\n",
       " 'id',\n",
       " 'id_str',\n",
       " 'in_reply_to_screen_name',\n",
       " 'in_reply_to_status_id',\n",
       " 'in_reply_to_status_id_str',\n",
       " 'in_reply_to_user_id',\n",
       " 'in_reply_to_user_id_str',\n",
       " 'is_quote_status',\n",
       " 'lang',\n",
       " 'place',\n",
       " 'possibly_sensitive',\n",
       " 'quoted_status',\n",
       " 'quoted_status_id',\n",
       " 'quoted_status_id_str',\n",
       " 'retweet_count',\n",
       " 'retweeted',\n",
       " 'retweeted_status',\n",
       " 'source',\n",
       " 'text',\n",
       " 'timestamp_ms',\n",
       " 'truncated',\n",
       " 'user']"
      ]
     },
     "execution_count": 8,
     "metadata": {},
     "output_type": "execute_result"
    }
   ],
   "source": [
    "tweets_df.columns.tolist()"
   ]
  },
  {
   "cell_type": "code",
   "execution_count": 9,
   "id": "f79aa081",
   "metadata": {},
   "outputs": [
    {
     "name": "stdout",
     "output_type": "stream",
     "text": [
      "{'en': 97, 'et': 1, 'und': 2}\n",
      "{'<a href=\\\\http://twitter.com\\\\\" rel=\\\\\"nofollow\\\\\">Twitter Web Client</a>\"': 24, '<a href=\\\\http://www.facebook.com/twitter\\\\\" rel=\\\\\"nofollow\\\\\">Facebook</a>\"': 1, '<a href=\\\\http://twitter.com/download/android\\\\\" rel=\\\\\"nofollow\\\\\">Twitter for Android</a>\"': 26, '<a href=\\\\http://twitter.com/download/iphone\\\\\" rel=\\\\\"nofollow\\\\\">Twitter for iPhone</a>\"': 33, '<a href=\\\\http://www.twitter.com\\\\\" rel=\\\\\"nofollow\\\\\">Twitter for BlackBerry</a>\"': 2, '<a href=\\\\http://www.google.com/\\\\\" rel=\\\\\"nofollow\\\\\">Google</a>\"': 2, '<a href=\\\\http://twitter.com/#!/download/ipad\\\\\" rel=\\\\\"nofollow\\\\\">Twitter for iPad</a>\"': 6, '<a href=\\\\http://linkis.com\\\\\" rel=\\\\\"nofollow\\\\\">Linkis.com</a>\"': 2, '<a href=\\\\http://rutracker.org/forum/viewforum.php?f=93\\\\\" rel=\\\\\"nofollow\\\\\">newzlasz</a>\"': 2, '<a href=\\\\http://ifttt.com\\\\\" rel=\\\\\"nofollow\\\\\">IFTTT</a>\"': 1, '<a href=\\\\http://www.myplume.com/\\\\\" rel=\\\\\"nofollow\\\\\">Plume\\xa0for\\xa0Android</a>\"': 1}\n"
     ]
    }
   ],
   "source": [
    "# Define count_entries()\n",
    "def count_entries(df, col_name='lang'):\n",
    "    \"\"\"Return a dictionary with counts of\n",
    "    occurrences as value for each key.\"\"\"\n",
    "\n",
    "    # Initialize an empty dictionary: cols_count\n",
    "    cols_count = {}\n",
    "\n",
    "    # Extract column from DataFrame: col\n",
    "    col = df[col_name]\n",
    "    \n",
    "    # Iterate over the column in DataFrame\n",
    "    for entry in col:\n",
    "\n",
    "        # If entry is in cols_count, add 1\n",
    "        if entry in cols_count.keys():\n",
    "            cols_count[entry] += 1\n",
    "\n",
    "        # Else add the entry to cols_count, set the value to 1\n",
    "        else:\n",
    "            cols_count[entry] = 1\n",
    "\n",
    "    # Return the cols_count dictionary\n",
    "    return cols_count\n",
    "\n",
    "# Call count_entries(): result1\n",
    "result1 = count_entries(tweets_df)\n",
    "\n",
    "# Call count_entries(): result2\n",
    "result2 = count_entries(tweets_df, col_name='source')\n",
    "\n",
    "# Print result1 and result2\n",
    "print(result1)\n",
    "print(result2)"
   ]
  },
  {
   "cell_type": "markdown",
   "id": "c1021582",
   "metadata": {},
   "source": [
    "> # 💻 Bringing it all together (2)\n",
    "\n",
    "Wow, you've just generalized your Twitter language analysis that you did in the previous chapter to include a default argument for the column name. You're now going to generalize this function one step further by allowing the user to pass it a flexible argument, that is, in this case, as many column names as the user would like!\n",
    "\n",
    "Once again, for your convenience, pandas has been imported as pd and the 'tweets.csv' file has been imported into the DataFrame `tweets_df`. Parts of the code from your previous work are also provided.\n",
    "\n",
    "- Complete the function header by supplying the parameter for the DataFrame `df` and the flexible argument `\\*args`.\n",
    "- Complete the for loop within the function definition so that the loop occurs over the tuple args.\n",
    "- Call `count_entries()` by passing the `tweets_df` DataFrame and the column name `'lang'`. Assign the result to `result1`.\n",
    "- Call `count_entries()` by passing the `tweets_df` DataFrame and the column names 'lang' and 'source'. Assign the result to `result2`."
   ]
  },
  {
   "cell_type": "code",
   "execution_count": 12,
   "id": "48124d50",
   "metadata": {},
   "outputs": [
    {
     "name": "stdout",
     "output_type": "stream",
     "text": [
      "{'en': 97, 'et': 1, 'und': 2}\n",
      "{'en': 97, 'et': 1, 'und': 2, '<a href=\\\\http://twitter.com\\\\\" rel=\\\\\"nofollow\\\\\">Twitter Web Client</a>\"': 24, '<a href=\\\\http://www.facebook.com/twitter\\\\\" rel=\\\\\"nofollow\\\\\">Facebook</a>\"': 1, '<a href=\\\\http://twitter.com/download/android\\\\\" rel=\\\\\"nofollow\\\\\">Twitter for Android</a>\"': 26, '<a href=\\\\http://twitter.com/download/iphone\\\\\" rel=\\\\\"nofollow\\\\\">Twitter for iPhone</a>\"': 33, '<a href=\\\\http://www.twitter.com\\\\\" rel=\\\\\"nofollow\\\\\">Twitter for BlackBerry</a>\"': 2, '<a href=\\\\http://www.google.com/\\\\\" rel=\\\\\"nofollow\\\\\">Google</a>\"': 2, '<a href=\\\\http://twitter.com/#!/download/ipad\\\\\" rel=\\\\\"nofollow\\\\\">Twitter for iPad</a>\"': 6, '<a href=\\\\http://linkis.com\\\\\" rel=\\\\\"nofollow\\\\\">Linkis.com</a>\"': 2, '<a href=\\\\http://rutracker.org/forum/viewforum.php?f=93\\\\\" rel=\\\\\"nofollow\\\\\">newzlasz</a>\"': 2, '<a href=\\\\http://ifttt.com\\\\\" rel=\\\\\"nofollow\\\\\">IFTTT</a>\"': 1, '<a href=\\\\http://www.myplume.com/\\\\\" rel=\\\\\"nofollow\\\\\">Plume\\xa0for\\xa0Android</a>\"': 1}\n"
     ]
    }
   ],
   "source": [
    "# Define count_entries()\n",
    "def count_entries(df, *args):\n",
    "    \"\"\"Return a dictionary with counts of\n",
    "    occurrences as value for each key.\"\"\"\n",
    "    \n",
    "    #Initialize an empty dictionary: cols_count\n",
    "    cols_count = {}\n",
    "    \n",
    "    # Iterate over column names in args\n",
    "    for col_name in args:\n",
    "    \n",
    "        # Extract column from DataFrame: col\n",
    "        col = df[col_name]\n",
    "    \n",
    "        # Iterate over the column in DataFrame\n",
    "        for entry in col:\n",
    "    \n",
    "            # If entry is in cols_count, add 1\n",
    "            if entry in cols_count.keys():\n",
    "                cols_count[entry] += 1\n",
    "    \n",
    "            # Else add the entry to cols_count, set the value to 1\n",
    "            else:\n",
    "                cols_count[entry] = 1\n",
    "\n",
    "    # Return the cols_count dictionary\n",
    "    return cols_count\n",
    "\n",
    "# Call count_entries(): result1\n",
    "result1 = count_entries(tweets_df, 'lang')\n",
    "\n",
    "# Call count_entries(): result2\n",
    "result2 = count_entries(tweets_df, 'lang', 'source')\n",
    "\n",
    "# Print result1 and result2\n",
    "print(result1)\n",
    "print(result2)"
   ]
  },
  {
   "cell_type": "code",
   "execution_count": null,
   "id": "eda5308a",
   "metadata": {},
   "outputs": [],
   "source": []
  }
 ],
 "metadata": {
  "kernelspec": {
   "display_name": "Python 3 (ipykernel)",
   "language": "python",
   "name": "python3"
  },
  "language_info": {
   "codemirror_mode": {
    "name": "ipython",
    "version": 3
   },
   "file_extension": ".py",
   "mimetype": "text/x-python",
   "name": "python",
   "nbconvert_exporter": "python",
   "pygments_lexer": "ipython3",
   "version": "3.9.12"
  }
 },
 "nbformat": 4,
 "nbformat_minor": 5
}
