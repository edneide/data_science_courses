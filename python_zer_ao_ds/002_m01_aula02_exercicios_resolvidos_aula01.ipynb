{
 "cells": [
  {
   "cell_type": "markdown",
   "id": "45deca3f",
   "metadata": {},
   "source": [
    "# 0. Import"
   ]
  },
  {
   "cell_type": "code",
   "execution_count": 44,
   "id": "8a17a623",
   "metadata": {
    "ExecuteTime": {
     "end_time": "2021-09-15T11:24:34.944267Z",
     "start_time": "2021-09-15T11:24:34.941992Z"
    }
   },
   "outputs": [],
   "source": [
    "import pandas as pd \n",
    "import numpy as np"
   ]
  },
  {
   "cell_type": "code",
   "execution_count": 3,
   "id": "74798a3d",
   "metadata": {
    "ExecuteTime": {
     "end_time": "2021-09-15T09:25:40.095951Z",
     "start_time": "2021-09-15T09:25:40.032792Z"
    }
   },
   "outputs": [],
   "source": [
    "data = pd.read_csv('datasets/kc_house_data.csv')"
   ]
  },
  {
   "cell_type": "code",
   "execution_count": 11,
   "id": "540e1c63",
   "metadata": {
    "ExecuteTime": {
     "end_time": "2021-09-15T09:26:38.735761Z",
     "start_time": "2021-09-15T09:26:38.731807Z"
    }
   },
   "outputs": [
    {
     "data": {
      "text/plain": [
       "(21613, 21)"
      ]
     },
     "execution_count": 11,
     "metadata": {},
     "output_type": "execute_result"
    }
   ],
   "source": [
    "data.shape"
   ]
  },
  {
   "cell_type": "code",
   "execution_count": 4,
   "id": "513f3ce7",
   "metadata": {
    "ExecuteTime": {
     "end_time": "2021-09-15T09:25:47.919474Z",
     "start_time": "2021-09-15T09:25:47.883989Z"
    }
   },
   "outputs": [
    {
     "data": {
      "text/html": [
       "<div>\n",
       "<style scoped>\n",
       "    .dataframe tbody tr th:only-of-type {\n",
       "        vertical-align: middle;\n",
       "    }\n",
       "\n",
       "    .dataframe tbody tr th {\n",
       "        vertical-align: top;\n",
       "    }\n",
       "\n",
       "    .dataframe thead th {\n",
       "        text-align: right;\n",
       "    }\n",
       "</style>\n",
       "<table border=\"1\" class=\"dataframe\">\n",
       "  <thead>\n",
       "    <tr style=\"text-align: right;\">\n",
       "      <th></th>\n",
       "      <th>id</th>\n",
       "      <th>date</th>\n",
       "      <th>price</th>\n",
       "      <th>bedrooms</th>\n",
       "      <th>bathrooms</th>\n",
       "      <th>sqft_living</th>\n",
       "      <th>sqft_lot</th>\n",
       "      <th>floors</th>\n",
       "      <th>waterfront</th>\n",
       "      <th>view</th>\n",
       "      <th>...</th>\n",
       "      <th>grade</th>\n",
       "      <th>sqft_above</th>\n",
       "      <th>sqft_basement</th>\n",
       "      <th>yr_built</th>\n",
       "      <th>yr_renovated</th>\n",
       "      <th>zipcode</th>\n",
       "      <th>lat</th>\n",
       "      <th>long</th>\n",
       "      <th>sqft_living15</th>\n",
       "      <th>sqft_lot15</th>\n",
       "    </tr>\n",
       "  </thead>\n",
       "  <tbody>\n",
       "    <tr>\n",
       "      <th>0</th>\n",
       "      <td>7129300520</td>\n",
       "      <td>20141013T000000</td>\n",
       "      <td>221900.0</td>\n",
       "      <td>3</td>\n",
       "      <td>1.00</td>\n",
       "      <td>1180</td>\n",
       "      <td>5650</td>\n",
       "      <td>1.0</td>\n",
       "      <td>0</td>\n",
       "      <td>0</td>\n",
       "      <td>...</td>\n",
       "      <td>7</td>\n",
       "      <td>1180</td>\n",
       "      <td>0</td>\n",
       "      <td>1955</td>\n",
       "      <td>0</td>\n",
       "      <td>98178</td>\n",
       "      <td>47.5112</td>\n",
       "      <td>-122.257</td>\n",
       "      <td>1340</td>\n",
       "      <td>5650</td>\n",
       "    </tr>\n",
       "    <tr>\n",
       "      <th>1</th>\n",
       "      <td>6414100192</td>\n",
       "      <td>20141209T000000</td>\n",
       "      <td>538000.0</td>\n",
       "      <td>3</td>\n",
       "      <td>2.25</td>\n",
       "      <td>2570</td>\n",
       "      <td>7242</td>\n",
       "      <td>2.0</td>\n",
       "      <td>0</td>\n",
       "      <td>0</td>\n",
       "      <td>...</td>\n",
       "      <td>7</td>\n",
       "      <td>2170</td>\n",
       "      <td>400</td>\n",
       "      <td>1951</td>\n",
       "      <td>1991</td>\n",
       "      <td>98125</td>\n",
       "      <td>47.7210</td>\n",
       "      <td>-122.319</td>\n",
       "      <td>1690</td>\n",
       "      <td>7639</td>\n",
       "    </tr>\n",
       "    <tr>\n",
       "      <th>2</th>\n",
       "      <td>5631500400</td>\n",
       "      <td>20150225T000000</td>\n",
       "      <td>180000.0</td>\n",
       "      <td>2</td>\n",
       "      <td>1.00</td>\n",
       "      <td>770</td>\n",
       "      <td>10000</td>\n",
       "      <td>1.0</td>\n",
       "      <td>0</td>\n",
       "      <td>0</td>\n",
       "      <td>...</td>\n",
       "      <td>6</td>\n",
       "      <td>770</td>\n",
       "      <td>0</td>\n",
       "      <td>1933</td>\n",
       "      <td>0</td>\n",
       "      <td>98028</td>\n",
       "      <td>47.7379</td>\n",
       "      <td>-122.233</td>\n",
       "      <td>2720</td>\n",
       "      <td>8062</td>\n",
       "    </tr>\n",
       "    <tr>\n",
       "      <th>3</th>\n",
       "      <td>2487200875</td>\n",
       "      <td>20141209T000000</td>\n",
       "      <td>604000.0</td>\n",
       "      <td>4</td>\n",
       "      <td>3.00</td>\n",
       "      <td>1960</td>\n",
       "      <td>5000</td>\n",
       "      <td>1.0</td>\n",
       "      <td>0</td>\n",
       "      <td>0</td>\n",
       "      <td>...</td>\n",
       "      <td>7</td>\n",
       "      <td>1050</td>\n",
       "      <td>910</td>\n",
       "      <td>1965</td>\n",
       "      <td>0</td>\n",
       "      <td>98136</td>\n",
       "      <td>47.5208</td>\n",
       "      <td>-122.393</td>\n",
       "      <td>1360</td>\n",
       "      <td>5000</td>\n",
       "    </tr>\n",
       "    <tr>\n",
       "      <th>4</th>\n",
       "      <td>1954400510</td>\n",
       "      <td>20150218T000000</td>\n",
       "      <td>510000.0</td>\n",
       "      <td>3</td>\n",
       "      <td>2.00</td>\n",
       "      <td>1680</td>\n",
       "      <td>8080</td>\n",
       "      <td>1.0</td>\n",
       "      <td>0</td>\n",
       "      <td>0</td>\n",
       "      <td>...</td>\n",
       "      <td>8</td>\n",
       "      <td>1680</td>\n",
       "      <td>0</td>\n",
       "      <td>1987</td>\n",
       "      <td>0</td>\n",
       "      <td>98074</td>\n",
       "      <td>47.6168</td>\n",
       "      <td>-122.045</td>\n",
       "      <td>1800</td>\n",
       "      <td>7503</td>\n",
       "    </tr>\n",
       "  </tbody>\n",
       "</table>\n",
       "<p>5 rows × 21 columns</p>\n",
       "</div>"
      ],
      "text/plain": [
       "           id             date     price  bedrooms  bathrooms  sqft_living  \\\n",
       "0  7129300520  20141013T000000  221900.0         3       1.00         1180   \n",
       "1  6414100192  20141209T000000  538000.0         3       2.25         2570   \n",
       "2  5631500400  20150225T000000  180000.0         2       1.00          770   \n",
       "3  2487200875  20141209T000000  604000.0         4       3.00         1960   \n",
       "4  1954400510  20150218T000000  510000.0         3       2.00         1680   \n",
       "\n",
       "   sqft_lot  floors  waterfront  view  ...  grade  sqft_above  sqft_basement  \\\n",
       "0      5650     1.0           0     0  ...      7        1180              0   \n",
       "1      7242     2.0           0     0  ...      7        2170            400   \n",
       "2     10000     1.0           0     0  ...      6         770              0   \n",
       "3      5000     1.0           0     0  ...      7        1050            910   \n",
       "4      8080     1.0           0     0  ...      8        1680              0   \n",
       "\n",
       "   yr_built  yr_renovated  zipcode      lat     long  sqft_living15  \\\n",
       "0      1955             0    98178  47.5112 -122.257           1340   \n",
       "1      1951          1991    98125  47.7210 -122.319           1690   \n",
       "2      1933             0    98028  47.7379 -122.233           2720   \n",
       "3      1965             0    98136  47.5208 -122.393           1360   \n",
       "4      1987             0    98074  47.6168 -122.045           1800   \n",
       "\n",
       "   sqft_lot15  \n",
       "0        5650  \n",
       "1        7639  \n",
       "2        8062  \n",
       "3        5000  \n",
       "4        7503  \n",
       "\n",
       "[5 rows x 21 columns]"
      ]
     },
     "execution_count": 4,
     "metadata": {},
     "output_type": "execute_result"
    }
   ],
   "source": [
    "data.head()"
   ]
  },
  {
   "cell_type": "code",
   "execution_count": 6,
   "id": "1454aac7",
   "metadata": {
    "ExecuteTime": {
     "end_time": "2021-09-15T09:26:00.700984Z",
     "start_time": "2021-09-15T09:26:00.696935Z"
    }
   },
   "outputs": [
    {
     "data": {
      "text/plain": [
       "Index(['id', 'date', 'price', 'bedrooms', 'bathrooms', 'sqft_living',\n",
       "       'sqft_lot', 'floors', 'waterfront', 'view', 'condition', 'grade',\n",
       "       'sqft_above', 'sqft_basement', 'yr_built', 'yr_renovated', 'zipcode',\n",
       "       'lat', 'long', 'sqft_living15', 'sqft_lot15'],\n",
       "      dtype='object')"
      ]
     },
     "execution_count": 6,
     "metadata": {},
     "output_type": "execute_result"
    }
   ],
   "source": [
    "data.columns"
   ]
  },
  {
   "cell_type": "markdown",
   "id": "d62077cb",
   "metadata": {},
   "source": [
    "# 1. Novas perguntas do CEO"
   ]
  },
  {
   "cell_type": "markdown",
   "id": "d01e019c",
   "metadata": {},
   "source": [
    "1. Quantas casas estão disponíveis para compra?\n",
    "2. Quantos atributos as casas possuem?\n",
    "3. Quais os atributos das casas?\n",
    "4. Qual a casa mais cara (casa com o maior valor de venda)?\n",
    "5. Qual a casa com maior número de quartos?\n",
    "6. Qual a soma total de quartos do conjunto de dados?\n",
    "7. Quantas casas possuem 2 banheiros?\n",
    "8. Qual o preço médio de todas as casas no conjunto de dados?\n",
    "9. Qual o preço médio de casas com 2 banheiros?\n",
    "10. Qual o preço mínimo entre as casas com 3 quartos?\n",
    "11. Quantas casas possuem mais de 300 metros quadrados na sala de estar?\n",
    "12. Quantas casas tem mais de 2 andares?\n",
    "13. Quantas casas tem vista para o mar?\n",
    "14. Das casas com vista para o mar, quantas tem 3 quartos?\n",
    "15. Das casas com mais de 300 metros quadrados de sala de estar, quantas tem mais de 2 banheiros?"
   ]
  },
  {
   "cell_type": "markdown",
   "id": "2c22ffba",
   "metadata": {},
   "source": [
    "## 1. Quantas casas estão disponíveis para compra?"
   ]
  },
  {
   "cell_type": "code",
   "execution_count": 18,
   "id": "8eef4a8d",
   "metadata": {
    "ExecuteTime": {
     "end_time": "2021-09-15T09:34:39.444945Z",
     "start_time": "2021-09-15T09:34:39.440992Z"
    }
   },
   "outputs": [
    {
     "name": "stdout",
     "output_type": "stream",
     "text": [
      "O número de casas disponíveis é de 21436\n"
     ]
    }
   ],
   "source": [
    "# Contar os ids únicos\n",
    "houses = len(data['id'].unique())\n",
    "print('O número de casas disponíveis é de {}'.format(houses))"
   ]
  },
  {
   "cell_type": "code",
   "execution_count": 17,
   "id": "8db6f2c3",
   "metadata": {
    "ExecuteTime": {
     "end_time": "2021-09-15T09:28:17.691022Z",
     "start_time": "2021-09-15T09:28:17.685047Z"
    }
   },
   "outputs": [
    {
     "data": {
      "text/plain": [
       "21436"
      ]
     },
     "execution_count": 17,
     "metadata": {},
     "output_type": "execute_result"
    }
   ],
   "source": [
    "# outra maneira de fazer\n",
    "len(data['id'].drop_duplicates())"
   ]
  },
  {
   "cell_type": "markdown",
   "id": "de3a919a",
   "metadata": {},
   "source": [
    "## 2. Quantos atributos as casas possuem?"
   ]
  },
  {
   "cell_type": "code",
   "execution_count": 19,
   "id": "6d8e1d57",
   "metadata": {
    "ExecuteTime": {
     "end_time": "2021-09-15T09:35:12.373057Z",
     "start_time": "2021-09-15T09:35:12.368950Z"
    }
   },
   "outputs": [
    {
     "data": {
      "text/plain": [
       "['id',\n",
       " 'date',\n",
       " 'price',\n",
       " 'bedrooms',\n",
       " 'bathrooms',\n",
       " 'sqft_living',\n",
       " 'sqft_lot',\n",
       " 'floors',\n",
       " 'waterfront',\n",
       " 'view',\n",
       " 'condition',\n",
       " 'grade',\n",
       " 'sqft_above',\n",
       " 'sqft_basement',\n",
       " 'yr_built',\n",
       " 'yr_renovated',\n",
       " 'zipcode',\n",
       " 'lat',\n",
       " 'long',\n",
       " 'sqft_living15',\n",
       " 'sqft_lot15']"
      ]
     },
     "execution_count": 19,
     "metadata": {},
     "output_type": "execute_result"
    }
   ],
   "source": [
    "data.columns.tolist()"
   ]
  },
  {
   "cell_type": "code",
   "execution_count": 20,
   "id": "8977d7e7",
   "metadata": {
    "ExecuteTime": {
     "end_time": "2021-09-15T09:35:39.968869Z",
     "start_time": "2021-09-15T09:35:39.965528Z"
    }
   },
   "outputs": [
    {
     "data": {
      "text/plain": [
       "21"
      ]
     },
     "execution_count": 20,
     "metadata": {},
     "output_type": "execute_result"
    }
   ],
   "source": [
    "len(data.columns)"
   ]
  },
  {
   "cell_type": "markdown",
   "id": "a8dbd4d7",
   "metadata": {},
   "source": [
    "Nem todas as variáveis são atributos da casa, por exemplo, id e date. Assim, podemos excluir estas variáveis da nossa contagem de atributos"
   ]
  },
  {
   "cell_type": "code",
   "execution_count": 21,
   "id": "908a2131",
   "metadata": {
    "ExecuteTime": {
     "end_time": "2021-09-15T09:37:41.051712Z",
     "start_time": "2021-09-15T09:37:41.041394Z"
    }
   },
   "outputs": [
    {
     "data": {
      "text/plain": [
       "19"
      ]
     },
     "execution_count": 21,
     "metadata": {},
     "output_type": "execute_result"
    }
   ],
   "source": [
    "len(data.drop(['id', 'date'], axis = 1).columns)"
   ]
  },
  {
   "cell_type": "markdown",
   "id": "8dcba9ce",
   "metadata": {},
   "source": [
    "Neste caso, teríamos 19 atributos."
   ]
  },
  {
   "cell_type": "markdown",
   "id": "e4fee306",
   "metadata": {},
   "source": [
    "## 3. Quais os atributos das casas?"
   ]
  },
  {
   "cell_type": "code",
   "execution_count": 22,
   "id": "f1adbd30",
   "metadata": {
    "ExecuteTime": {
     "end_time": "2021-09-15T09:44:38.811295Z",
     "start_time": "2021-09-15T09:44:38.805783Z"
    }
   },
   "outputs": [
    {
     "data": {
      "text/plain": [
       "Index(['price', 'bedrooms', 'bathrooms', 'sqft_living', 'sqft_lot', 'floors',\n",
       "       'waterfront', 'view', 'condition', 'grade', 'sqft_above',\n",
       "       'sqft_basement', 'yr_built', 'yr_renovated', 'zipcode', 'lat', 'long',\n",
       "       'sqft_living15', 'sqft_lot15'],\n",
       "      dtype='object')"
      ]
     },
     "execution_count": 22,
     "metadata": {},
     "output_type": "execute_result"
    }
   ],
   "source": [
    "data.drop(['id', 'date'], axis = 1).columnsx"
   ]
  },
  {
   "cell_type": "markdown",
   "id": "35cb16d1",
   "metadata": {},
   "source": [
    "## 4. Qual a casa mais cara (casa com o maior valor de venda)?"
   ]
  },
  {
   "cell_type": "code",
   "execution_count": 25,
   "id": "2ef33a29",
   "metadata": {
    "ExecuteTime": {
     "end_time": "2021-09-15T09:46:51.580374Z",
     "start_time": "2021-09-15T09:46:51.568605Z"
    }
   },
   "outputs": [
    {
     "data": {
      "text/html": [
       "<div>\n",
       "<style scoped>\n",
       "    .dataframe tbody tr th:only-of-type {\n",
       "        vertical-align: middle;\n",
       "    }\n",
       "\n",
       "    .dataframe tbody tr th {\n",
       "        vertical-align: top;\n",
       "    }\n",
       "\n",
       "    .dataframe thead th {\n",
       "        text-align: right;\n",
       "    }\n",
       "</style>\n",
       "<table border=\"1\" class=\"dataframe\">\n",
       "  <thead>\n",
       "    <tr style=\"text-align: right;\">\n",
       "      <th></th>\n",
       "      <th>id</th>\n",
       "      <th>price</th>\n",
       "    </tr>\n",
       "  </thead>\n",
       "  <tbody>\n",
       "    <tr>\n",
       "      <th>7252</th>\n",
       "      <td>6762700020</td>\n",
       "      <td>7700000.0</td>\n",
       "    </tr>\n",
       "    <tr>\n",
       "      <th>3914</th>\n",
       "      <td>9808700762</td>\n",
       "      <td>7062500.0</td>\n",
       "    </tr>\n",
       "    <tr>\n",
       "      <th>9254</th>\n",
       "      <td>9208900037</td>\n",
       "      <td>6885000.0</td>\n",
       "    </tr>\n",
       "    <tr>\n",
       "      <th>4411</th>\n",
       "      <td>2470100110</td>\n",
       "      <td>5570000.0</td>\n",
       "    </tr>\n",
       "    <tr>\n",
       "      <th>1448</th>\n",
       "      <td>8907500070</td>\n",
       "      <td>5350000.0</td>\n",
       "    </tr>\n",
       "    <tr>\n",
       "      <th>...</th>\n",
       "      <td>...</td>\n",
       "      <td>...</td>\n",
       "    </tr>\n",
       "    <tr>\n",
       "      <th>8274</th>\n",
       "      <td>3883800011</td>\n",
       "      <td>82000.0</td>\n",
       "    </tr>\n",
       "    <tr>\n",
       "      <th>16198</th>\n",
       "      <td>3028200080</td>\n",
       "      <td>81000.0</td>\n",
       "    </tr>\n",
       "    <tr>\n",
       "      <th>465</th>\n",
       "      <td>8658300340</td>\n",
       "      <td>80000.0</td>\n",
       "    </tr>\n",
       "    <tr>\n",
       "      <th>15293</th>\n",
       "      <td>40000362</td>\n",
       "      <td>78000.0</td>\n",
       "    </tr>\n",
       "    <tr>\n",
       "      <th>1149</th>\n",
       "      <td>3421079032</td>\n",
       "      <td>75000.0</td>\n",
       "    </tr>\n",
       "  </tbody>\n",
       "</table>\n",
       "<p>21613 rows × 2 columns</p>\n",
       "</div>"
      ],
      "text/plain": [
       "               id      price\n",
       "7252   6762700020  7700000.0\n",
       "3914   9808700762  7062500.0\n",
       "9254   9208900037  6885000.0\n",
       "4411   2470100110  5570000.0\n",
       "1448   8907500070  5350000.0\n",
       "...           ...        ...\n",
       "8274   3883800011    82000.0\n",
       "16198  3028200080    81000.0\n",
       "465    8658300340    80000.0\n",
       "15293    40000362    78000.0\n",
       "1149   3421079032    75000.0\n",
       "\n",
       "[21613 rows x 2 columns]"
      ]
     },
     "execution_count": 25,
     "metadata": {},
     "output_type": "execute_result"
    }
   ],
   "source": [
    "data[['id', 'price']].sort_values('price', ascending = False)"
   ]
  },
  {
   "cell_type": "code",
   "execution_count": 27,
   "id": "1a6c9386",
   "metadata": {
    "ExecuteTime": {
     "end_time": "2021-09-15T09:50:05.308778Z",
     "start_time": "2021-09-15T09:50:05.297590Z"
    }
   },
   "outputs": [
    {
     "data": {
      "text/plain": [
       "6762700020"
      ]
     },
     "execution_count": 27,
     "metadata": {},
     "output_type": "execute_result"
    }
   ],
   "source": [
    "data[['id', 'price']].sort_values('price', ascending = False).reset_index(drop = True).loc[0, 'id']"
   ]
  },
  {
   "cell_type": "markdown",
   "id": "004f833d",
   "metadata": {},
   "source": [
    "## 5. Qual a casa com maior número de quartos?"
   ]
  },
  {
   "cell_type": "code",
   "execution_count": 28,
   "id": "5871d84a",
   "metadata": {
    "ExecuteTime": {
     "end_time": "2021-09-15T09:51:29.497484Z",
     "start_time": "2021-09-15T09:51:29.485888Z"
    }
   },
   "outputs": [
    {
     "data": {
      "text/html": [
       "<div>\n",
       "<style scoped>\n",
       "    .dataframe tbody tr th:only-of-type {\n",
       "        vertical-align: middle;\n",
       "    }\n",
       "\n",
       "    .dataframe tbody tr th {\n",
       "        vertical-align: top;\n",
       "    }\n",
       "\n",
       "    .dataframe thead th {\n",
       "        text-align: right;\n",
       "    }\n",
       "</style>\n",
       "<table border=\"1\" class=\"dataframe\">\n",
       "  <thead>\n",
       "    <tr style=\"text-align: right;\">\n",
       "      <th></th>\n",
       "      <th>id</th>\n",
       "      <th>bedrooms</th>\n",
       "    </tr>\n",
       "  </thead>\n",
       "  <tbody>\n",
       "    <tr>\n",
       "      <th>15870</th>\n",
       "      <td>2402100895</td>\n",
       "      <td>33</td>\n",
       "    </tr>\n",
       "    <tr>\n",
       "      <th>8757</th>\n",
       "      <td>1773100755</td>\n",
       "      <td>11</td>\n",
       "    </tr>\n",
       "    <tr>\n",
       "      <th>15161</th>\n",
       "      <td>5566100170</td>\n",
       "      <td>10</td>\n",
       "    </tr>\n",
       "    <tr>\n",
       "      <th>13314</th>\n",
       "      <td>627300145</td>\n",
       "      <td>10</td>\n",
       "    </tr>\n",
       "    <tr>\n",
       "      <th>19254</th>\n",
       "      <td>8812401450</td>\n",
       "      <td>10</td>\n",
       "    </tr>\n",
       "    <tr>\n",
       "      <th>...</th>\n",
       "      <td>...</td>\n",
       "      <td>...</td>\n",
       "    </tr>\n",
       "    <tr>\n",
       "      <th>19452</th>\n",
       "      <td>3980300371</td>\n",
       "      <td>0</td>\n",
       "    </tr>\n",
       "    <tr>\n",
       "      <th>8484</th>\n",
       "      <td>2310060040</td>\n",
       "      <td>0</td>\n",
       "    </tr>\n",
       "    <tr>\n",
       "      <th>875</th>\n",
       "      <td>6306400140</td>\n",
       "      <td>0</td>\n",
       "    </tr>\n",
       "    <tr>\n",
       "      <th>8477</th>\n",
       "      <td>2569500210</td>\n",
       "      <td>0</td>\n",
       "    </tr>\n",
       "    <tr>\n",
       "      <th>9773</th>\n",
       "      <td>3374500520</td>\n",
       "      <td>0</td>\n",
       "    </tr>\n",
       "  </tbody>\n",
       "</table>\n",
       "<p>21613 rows × 2 columns</p>\n",
       "</div>"
      ],
      "text/plain": [
       "               id  bedrooms\n",
       "15870  2402100895        33\n",
       "8757   1773100755        11\n",
       "15161  5566100170        10\n",
       "13314   627300145        10\n",
       "19254  8812401450        10\n",
       "...           ...       ...\n",
       "19452  3980300371         0\n",
       "8484   2310060040         0\n",
       "875    6306400140         0\n",
       "8477   2569500210         0\n",
       "9773   3374500520         0\n",
       "\n",
       "[21613 rows x 2 columns]"
      ]
     },
     "execution_count": 28,
     "metadata": {},
     "output_type": "execute_result"
    }
   ],
   "source": [
    "data[['id', 'bedrooms']].sort_values('bedrooms', ascending = False)"
   ]
  },
  {
   "cell_type": "code",
   "execution_count": 29,
   "id": "98ce7077",
   "metadata": {
    "ExecuteTime": {
     "end_time": "2021-09-15T09:52:08.032317Z",
     "start_time": "2021-09-15T09:52:08.026247Z"
    }
   },
   "outputs": [
    {
     "data": {
      "text/plain": [
       "2402100895"
      ]
     },
     "execution_count": 29,
     "metadata": {},
     "output_type": "execute_result"
    }
   ],
   "source": [
    "data[['id', 'bedrooms']].sort_values('bedrooms', ascending = False).reset_index(drop = True).loc[0, 'id']"
   ]
  },
  {
   "cell_type": "markdown",
   "id": "6c9714eb",
   "metadata": {},
   "source": [
    "## 6. Qual a soma total de quartos do conjunto de dados?\n"
   ]
  },
  {
   "cell_type": "code",
   "execution_count": 30,
   "id": "08cd324c",
   "metadata": {
    "ExecuteTime": {
     "end_time": "2021-09-15T09:53:18.155630Z",
     "start_time": "2021-09-15T09:53:18.151310Z"
    }
   },
   "outputs": [
    {
     "data": {
      "text/plain": [
       "72854"
      ]
     },
     "execution_count": 30,
     "metadata": {},
     "output_type": "execute_result"
    }
   ],
   "source": [
    "data['bedrooms'].sum()"
   ]
  },
  {
   "cell_type": "markdown",
   "id": "03852bea",
   "metadata": {},
   "source": [
    "## 7. Quantas casas possuem 2 banheiros?\n"
   ]
  },
  {
   "cell_type": "markdown",
   "id": "0d2e6d3e",
   "metadata": {},
   "source": [
    "- Selecionar as colunas 'id' e 'bathroom'\n",
    "- Filtrar somente 'id' cuja coluna bathroom é igual a 2"
   ]
  },
  {
   "cell_type": "code",
   "execution_count": 35,
   "id": "0416fece",
   "metadata": {
    "ExecuteTime": {
     "end_time": "2021-09-15T09:56:48.094531Z",
     "start_time": "2021-09-15T09:56:48.082337Z"
    }
   },
   "outputs": [
    {
     "data": {
      "text/html": [
       "<div>\n",
       "<style scoped>\n",
       "    .dataframe tbody tr th:only-of-type {\n",
       "        vertical-align: middle;\n",
       "    }\n",
       "\n",
       "    .dataframe tbody tr th {\n",
       "        vertical-align: top;\n",
       "    }\n",
       "\n",
       "    .dataframe thead th {\n",
       "        text-align: right;\n",
       "    }\n",
       "</style>\n",
       "<table border=\"1\" class=\"dataframe\">\n",
       "  <thead>\n",
       "    <tr style=\"text-align: right;\">\n",
       "      <th></th>\n",
       "      <th>id</th>\n",
       "      <th>bathrooms</th>\n",
       "    </tr>\n",
       "  </thead>\n",
       "  <tbody>\n",
       "    <tr>\n",
       "      <th>4</th>\n",
       "      <td>1954400510</td>\n",
       "      <td>2.0</td>\n",
       "    </tr>\n",
       "    <tr>\n",
       "      <th>14</th>\n",
       "      <td>1175000570</td>\n",
       "      <td>2.0</td>\n",
       "    </tr>\n",
       "    <tr>\n",
       "      <th>16</th>\n",
       "      <td>1875500060</td>\n",
       "      <td>2.0</td>\n",
       "    </tr>\n",
       "    <tr>\n",
       "      <th>25</th>\n",
       "      <td>1202000200</td>\n",
       "      <td>2.0</td>\n",
       "    </tr>\n",
       "    <tr>\n",
       "      <th>37</th>\n",
       "      <td>2768000400</td>\n",
       "      <td>2.0</td>\n",
       "    </tr>\n",
       "    <tr>\n",
       "      <th>...</th>\n",
       "      <td>...</td>\n",
       "      <td>...</td>\n",
       "    </tr>\n",
       "    <tr>\n",
       "      <th>21531</th>\n",
       "      <td>5637500082</td>\n",
       "      <td>2.0</td>\n",
       "    </tr>\n",
       "    <tr>\n",
       "      <th>21547</th>\n",
       "      <td>3277800823</td>\n",
       "      <td>2.0</td>\n",
       "    </tr>\n",
       "    <tr>\n",
       "      <th>21550</th>\n",
       "      <td>880000205</td>\n",
       "      <td>2.0</td>\n",
       "    </tr>\n",
       "    <tr>\n",
       "      <th>21556</th>\n",
       "      <td>476000017</td>\n",
       "      <td>2.0</td>\n",
       "    </tr>\n",
       "    <tr>\n",
       "      <th>21604</th>\n",
       "      <td>9834201367</td>\n",
       "      <td>2.0</td>\n",
       "    </tr>\n",
       "  </tbody>\n",
       "</table>\n",
       "<p>1930 rows × 2 columns</p>\n",
       "</div>"
      ],
      "text/plain": [
       "               id  bathrooms\n",
       "4      1954400510        2.0\n",
       "14     1175000570        2.0\n",
       "16     1875500060        2.0\n",
       "25     1202000200        2.0\n",
       "37     2768000400        2.0\n",
       "...           ...        ...\n",
       "21531  5637500082        2.0\n",
       "21547  3277800823        2.0\n",
       "21550   880000205        2.0\n",
       "21556   476000017        2.0\n",
       "21604  9834201367        2.0\n",
       "\n",
       "[1930 rows x 2 columns]"
      ]
     },
     "execution_count": 35,
     "metadata": {},
     "output_type": "execute_result"
    }
   ],
   "source": [
    "data.loc[data['bathrooms'] == 2, ['id', 'bathrooms']]"
   ]
  },
  {
   "cell_type": "code",
   "execution_count": 39,
   "id": "912d8271",
   "metadata": {
    "ExecuteTime": {
     "end_time": "2021-09-15T09:58:16.683050Z",
     "start_time": "2021-09-15T09:58:16.678295Z"
    }
   },
   "outputs": [],
   "source": [
    "dois_banheiros = data.loc[data['bathrooms'] == 2, ['id', 'bathrooms']].shape[0]"
   ]
  },
  {
   "cell_type": "code",
   "execution_count": 40,
   "id": "4521245a",
   "metadata": {
    "ExecuteTime": {
     "end_time": "2021-09-15T09:58:24.692956Z",
     "start_time": "2021-09-15T09:58:24.689747Z"
    }
   },
   "outputs": [
    {
     "name": "stdout",
     "output_type": "stream",
     "text": [
      "O número de casas que possuem dois banheiros é de 1930\n"
     ]
    }
   ],
   "source": [
    "print('O número de casas que possuem dois banheiros é de {}'.format(dois_banheiros))"
   ]
  },
  {
   "cell_type": "markdown",
   "id": "654a220f",
   "metadata": {
    "ExecuteTime": {
     "end_time": "2021-09-15T11:24:19.211137Z",
     "start_time": "2021-09-15T11:24:19.204725Z"
    }
   },
   "source": [
    "## 8. Qual o preço médio de todas as casas no conjunto de dados?"
   ]
  },
  {
   "cell_type": "code",
   "execution_count": 45,
   "id": "4cca8e86",
   "metadata": {
    "ExecuteTime": {
     "end_time": "2021-09-15T11:25:46.524829Z",
     "start_time": "2021-09-15T11:25:46.520037Z"
    }
   },
   "outputs": [
    {
     "data": {
      "text/plain": [
       "540088.14"
      ]
     },
     "execution_count": 45,
     "metadata": {},
     "output_type": "execute_result"
    }
   ],
   "source": [
    "np.round(data['price'].mean(), 2)"
   ]
  },
  {
   "cell_type": "markdown",
   "id": "181a7c8f",
   "metadata": {},
   "source": [
    "## 9. Qual o preço médio de casas com 2 banheiros?"
   ]
  },
  {
   "cell_type": "code",
   "execution_count": 50,
   "id": "5eca0692",
   "metadata": {
    "ExecuteTime": {
     "end_time": "2021-09-15T11:29:48.598604Z",
     "start_time": "2021-09-15T11:29:48.592722Z"
    }
   },
   "outputs": [
    {
     "data": {
      "text/plain": [
       "457889.72"
      ]
     },
     "execution_count": 50,
     "metadata": {},
     "output_type": "execute_result"
    }
   ],
   "source": [
    "np.round(data.loc[data['bathrooms'] == 2, 'price'].mean(), 2)"
   ]
  },
  {
   "cell_type": "markdown",
   "id": "09fd1439",
   "metadata": {},
   "source": [
    "## 10. Qual o preço mínimo entre as casas com 3 quartos?"
   ]
  },
  {
   "cell_type": "code",
   "execution_count": 54,
   "id": "f6e11796",
   "metadata": {
    "ExecuteTime": {
     "end_time": "2021-09-15T11:32:05.185023Z",
     "start_time": "2021-09-15T11:32:05.180056Z"
    }
   },
   "outputs": [
    {
     "data": {
      "text/plain": [
       "82000.0"
      ]
     },
     "execution_count": 54,
     "metadata": {},
     "output_type": "execute_result"
    }
   ],
   "source": [
    "data.loc[data['bedrooms'] == 3, 'price'].min()"
   ]
  },
  {
   "cell_type": "markdown",
   "id": "b6b5909e",
   "metadata": {},
   "source": [
    "- Outra maneira de fazer:"
   ]
  },
  {
   "cell_type": "code",
   "execution_count": 55,
   "id": "6bbf6b88",
   "metadata": {
    "ExecuteTime": {
     "end_time": "2021-09-15T11:33:40.552636Z",
     "start_time": "2021-09-15T11:33:40.538585Z"
    }
   },
   "outputs": [
    {
     "data": {
      "text/html": [
       "<div>\n",
       "<style scoped>\n",
       "    .dataframe tbody tr th:only-of-type {\n",
       "        vertical-align: middle;\n",
       "    }\n",
       "\n",
       "    .dataframe tbody tr th {\n",
       "        vertical-align: top;\n",
       "    }\n",
       "\n",
       "    .dataframe thead th {\n",
       "        text-align: right;\n",
       "    }\n",
       "</style>\n",
       "<table border=\"1\" class=\"dataframe\">\n",
       "  <thead>\n",
       "    <tr style=\"text-align: right;\">\n",
       "      <th></th>\n",
       "      <th>id</th>\n",
       "      <th>price</th>\n",
       "    </tr>\n",
       "  </thead>\n",
       "  <tbody>\n",
       "    <tr>\n",
       "      <th>8274</th>\n",
       "      <td>3883800011</td>\n",
       "      <td>82000.0</td>\n",
       "    </tr>\n",
       "    <tr>\n",
       "      <th>13756</th>\n",
       "      <td>1788900230</td>\n",
       "      <td>86500.0</td>\n",
       "    </tr>\n",
       "    <tr>\n",
       "      <th>5866</th>\n",
       "      <td>9320900420</td>\n",
       "      <td>89000.0</td>\n",
       "    </tr>\n",
       "    <tr>\n",
       "      <th>18939</th>\n",
       "      <td>4239400300</td>\n",
       "      <td>90000.0</td>\n",
       "    </tr>\n",
       "    <tr>\n",
       "      <th>5723</th>\n",
       "      <td>1788800630</td>\n",
       "      <td>96500.0</td>\n",
       "    </tr>\n",
       "    <tr>\n",
       "      <th>...</th>\n",
       "      <td>...</td>\n",
       "      <td>...</td>\n",
       "    </tr>\n",
       "    <tr>\n",
       "      <th>11535</th>\n",
       "      <td>8964800890</td>\n",
       "      <td>3200000.0</td>\n",
       "    </tr>\n",
       "    <tr>\n",
       "      <th>18199</th>\n",
       "      <td>3625059152</td>\n",
       "      <td>3300000.0</td>\n",
       "    </tr>\n",
       "    <tr>\n",
       "      <th>7989</th>\n",
       "      <td>9362000040</td>\n",
       "      <td>3400000.0</td>\n",
       "    </tr>\n",
       "    <tr>\n",
       "      <th>2864</th>\n",
       "      <td>4114601570</td>\n",
       "      <td>3600000.0</td>\n",
       "    </tr>\n",
       "    <tr>\n",
       "      <th>19017</th>\n",
       "      <td>2303900100</td>\n",
       "      <td>3800000.0</td>\n",
       "    </tr>\n",
       "  </tbody>\n",
       "</table>\n",
       "<p>9824 rows × 2 columns</p>\n",
       "</div>"
      ],
      "text/plain": [
       "               id      price\n",
       "8274   3883800011    82000.0\n",
       "13756  1788900230    86500.0\n",
       "5866   9320900420    89000.0\n",
       "18939  4239400300    90000.0\n",
       "5723   1788800630    96500.0\n",
       "...           ...        ...\n",
       "11535  8964800890  3200000.0\n",
       "18199  3625059152  3300000.0\n",
       "7989   9362000040  3400000.0\n",
       "2864   4114601570  3600000.0\n",
       "19017  2303900100  3800000.0\n",
       "\n",
       "[9824 rows x 2 columns]"
      ]
     },
     "execution_count": 55,
     "metadata": {},
     "output_type": "execute_result"
    }
   ],
   "source": [
    "data.loc[data['bedrooms'] == 3, ['id', 'price']].sort_values('price')"
   ]
  },
  {
   "cell_type": "markdown",
   "id": "a0efaf8a",
   "metadata": {},
   "source": [
    "## 11. Quantas casas possuem mais de 300 metros quadrados na sala de estar?"
   ]
  },
  {
   "cell_type": "code",
   "execution_count": 67,
   "id": "b4b81969",
   "metadata": {
    "ExecuteTime": {
     "end_time": "2021-09-15T11:43:04.653277Z",
     "start_time": "2021-09-15T11:43:04.648511Z"
    }
   },
   "outputs": [
    {
     "data": {
      "text/plain": [
       "21612"
      ]
     },
     "execution_count": 67,
     "metadata": {},
     "output_type": "execute_result"
    }
   ],
   "source": [
    "len(data.loc[data['sqft_living'] > 300, 'id']) # Isto está em pé quadrados"
   ]
  },
  {
   "cell_type": "markdown",
   "id": "2bba88e3",
   "metadata": {},
   "source": [
    "- Fazendo a conversão de pé quadrado para $m^2$:"
   ]
  },
  {
   "cell_type": "code",
   "execution_count": 64,
   "id": "2f7e8501",
   "metadata": {
    "ExecuteTime": {
     "end_time": "2021-09-15T11:40:33.037817Z",
     "start_time": "2021-09-15T11:40:33.034290Z"
    }
   },
   "outputs": [],
   "source": [
    "data['m2'] = data['sqft_living'] * 0.093"
   ]
  },
  {
   "cell_type": "code",
   "execution_count": 66,
   "id": "fa230609",
   "metadata": {
    "ExecuteTime": {
     "end_time": "2021-09-15T11:41:32.812793Z",
     "start_time": "2021-09-15T11:41:32.807942Z"
    }
   },
   "outputs": [
    {
     "data": {
      "text/plain": [
       "2258"
      ]
     },
     "execution_count": 66,
     "metadata": {},
     "output_type": "execute_result"
    }
   ],
   "source": [
    "len(data.loc[data['m2'] > 300, 'id'])"
   ]
  },
  {
   "cell_type": "markdown",
   "id": "1ec1ca94",
   "metadata": {},
   "source": [
    "## 12. Quantas casas tem mais de 2 andares?"
   ]
  },
  {
   "cell_type": "code",
   "execution_count": 75,
   "id": "bea9bc49",
   "metadata": {
    "ExecuteTime": {
     "end_time": "2021-09-15T11:45:28.042076Z",
     "start_time": "2021-09-15T11:45:28.030964Z"
    }
   },
   "outputs": [
    {
     "data": {
      "text/html": [
       "<div>\n",
       "<style scoped>\n",
       "    .dataframe tbody tr th:only-of-type {\n",
       "        vertical-align: middle;\n",
       "    }\n",
       "\n",
       "    .dataframe tbody tr th {\n",
       "        vertical-align: top;\n",
       "    }\n",
       "\n",
       "    .dataframe thead th {\n",
       "        text-align: right;\n",
       "    }\n",
       "</style>\n",
       "<table border=\"1\" class=\"dataframe\">\n",
       "  <thead>\n",
       "    <tr style=\"text-align: right;\">\n",
       "      <th></th>\n",
       "      <th>id</th>\n",
       "      <th>floors</th>\n",
       "    </tr>\n",
       "  </thead>\n",
       "  <tbody>\n",
       "    <tr>\n",
       "      <th>31</th>\n",
       "      <td>2426039314</td>\n",
       "      <td>3.0</td>\n",
       "    </tr>\n",
       "    <tr>\n",
       "      <th>63</th>\n",
       "      <td>9528102996</td>\n",
       "      <td>3.0</td>\n",
       "    </tr>\n",
       "    <tr>\n",
       "      <th>116</th>\n",
       "      <td>3362400431</td>\n",
       "      <td>3.0</td>\n",
       "    </tr>\n",
       "    <tr>\n",
       "      <th>134</th>\n",
       "      <td>2767602356</td>\n",
       "      <td>3.0</td>\n",
       "    </tr>\n",
       "    <tr>\n",
       "      <th>139</th>\n",
       "      <td>2767603505</td>\n",
       "      <td>3.0</td>\n",
       "    </tr>\n",
       "    <tr>\n",
       "      <th>...</th>\n",
       "      <td>...</td>\n",
       "      <td>...</td>\n",
       "    </tr>\n",
       "    <tr>\n",
       "      <th>21592</th>\n",
       "      <td>1931300412</td>\n",
       "      <td>3.0</td>\n",
       "    </tr>\n",
       "    <tr>\n",
       "      <th>21595</th>\n",
       "      <td>1972201967</td>\n",
       "      <td>3.0</td>\n",
       "    </tr>\n",
       "    <tr>\n",
       "      <th>21601</th>\n",
       "      <td>5100403806</td>\n",
       "      <td>3.0</td>\n",
       "    </tr>\n",
       "    <tr>\n",
       "      <th>21604</th>\n",
       "      <td>9834201367</td>\n",
       "      <td>3.0</td>\n",
       "    </tr>\n",
       "    <tr>\n",
       "      <th>21608</th>\n",
       "      <td>263000018</td>\n",
       "      <td>3.0</td>\n",
       "    </tr>\n",
       "  </tbody>\n",
       "</table>\n",
       "<p>782 rows × 2 columns</p>\n",
       "</div>"
      ],
      "text/plain": [
       "               id  floors\n",
       "31     2426039314     3.0\n",
       "63     9528102996     3.0\n",
       "116    3362400431     3.0\n",
       "134    2767602356     3.0\n",
       "139    2767603505     3.0\n",
       "...           ...     ...\n",
       "21592  1931300412     3.0\n",
       "21595  1972201967     3.0\n",
       "21601  5100403806     3.0\n",
       "21604  9834201367     3.0\n",
       "21608   263000018     3.0\n",
       "\n",
       "[782 rows x 2 columns]"
      ]
     },
     "execution_count": 75,
     "metadata": {},
     "output_type": "execute_result"
    }
   ],
   "source": [
    "data.loc[data['floors'] > 2, ['id', 'floors']]"
   ]
  },
  {
   "cell_type": "code",
   "execution_count": 76,
   "id": "a8111c50",
   "metadata": {
    "ExecuteTime": {
     "end_time": "2021-09-15T11:47:27.620905Z",
     "start_time": "2021-09-15T11:47:27.616535Z"
    }
   },
   "outputs": [
    {
     "data": {
      "text/plain": [
       "782"
      ]
     },
     "execution_count": 76,
     "metadata": {},
     "output_type": "execute_result"
    }
   ],
   "source": [
    "len(data.loc[data['floors'] > 2, 'id'])"
   ]
  },
  {
   "cell_type": "markdown",
   "id": "3082e23f",
   "metadata": {},
   "source": [
    "## 13. Quantas casas tem vista para o mar?"
   ]
  },
  {
   "cell_type": "code",
   "execution_count": 79,
   "id": "8da988ef",
   "metadata": {
    "ExecuteTime": {
     "end_time": "2021-09-15T11:48:44.123652Z",
     "start_time": "2021-09-15T11:48:44.118766Z"
    }
   },
   "outputs": [
    {
     "data": {
      "text/plain": [
       "163"
      ]
     },
     "execution_count": 79,
     "metadata": {},
     "output_type": "execute_result"
    }
   ],
   "source": [
    "len(data.loc[data['waterfront'] == 1, 'id'])"
   ]
  },
  {
   "cell_type": "code",
   "execution_count": 69,
   "id": "4500dbc7",
   "metadata": {
    "ExecuteTime": {
     "end_time": "2021-09-15T11:43:40.440657Z",
     "start_time": "2021-09-15T11:43:40.436354Z"
    }
   },
   "outputs": [
    {
     "data": {
      "text/plain": [
       "Index(['id', 'date', 'price', 'bedrooms', 'bathrooms', 'sqft_living',\n",
       "       'sqft_lot', 'floors', 'waterfront', 'view', 'condition', 'grade',\n",
       "       'sqft_above', 'sqft_basement', 'yr_built', 'yr_renovated', 'zipcode',\n",
       "       'lat', 'long', 'sqft_living15', 'sqft_lot15', 'm2'],\n",
       "      dtype='object')"
      ]
     },
     "execution_count": 69,
     "metadata": {},
     "output_type": "execute_result"
    }
   ],
   "source": [
    "data.columns"
   ]
  },
  {
   "cell_type": "markdown",
   "id": "d1dacac6",
   "metadata": {},
   "source": [
    "## 14. Das casas com vista para o mar, quantas tem 3 quartos?"
   ]
  },
  {
   "cell_type": "code",
   "execution_count": 81,
   "id": "0743f727",
   "metadata": {
    "ExecuteTime": {
     "end_time": "2021-09-15T12:10:06.526438Z",
     "start_time": "2021-09-15T12:10:06.521047Z"
    }
   },
   "outputs": [
    {
     "data": {
      "text/plain": [
       "64"
      ]
     },
     "execution_count": 81,
     "metadata": {},
     "output_type": "execute_result"
    }
   ],
   "source": [
    "len(data.loc[(data['waterfront'] == 1) & (data['bedrooms'] == 3), 'id']) "
   ]
  },
  {
   "cell_type": "markdown",
   "id": "13669583",
   "metadata": {},
   "source": [
    "## 15. Das casas com mais de 300 metros quadrados de sala de estar, quantas tem mais de 2 banheiros?"
   ]
  },
  {
   "cell_type": "code",
   "execution_count": 83,
   "id": "442ec074",
   "metadata": {
    "ExecuteTime": {
     "end_time": "2021-09-15T12:11:20.713832Z",
     "start_time": "2021-09-15T12:11:20.708671Z"
    }
   },
   "outputs": [
    {
     "data": {
      "text/plain": [
       "2201"
      ]
     },
     "execution_count": 83,
     "metadata": {},
     "output_type": "execute_result"
    }
   ],
   "source": [
    "len(data.loc[(data['m2'] > 300) & (data['bathrooms'] > 2), 'id'])"
   ]
  }
 ],
 "metadata": {
  "kernelspec": {
   "display_name": "Python 3 (ipykernel)",
   "language": "python",
   "name": "python3"
  },
  "language_info": {
   "codemirror_mode": {
    "name": "ipython",
    "version": 3
   },
   "file_extension": ".py",
   "mimetype": "text/x-python",
   "name": "python",
   "nbconvert_exporter": "python",
   "pygments_lexer": "ipython3",
   "version": "3.9.7"
  }
 },
 "nbformat": 4,
 "nbformat_minor": 5
}
