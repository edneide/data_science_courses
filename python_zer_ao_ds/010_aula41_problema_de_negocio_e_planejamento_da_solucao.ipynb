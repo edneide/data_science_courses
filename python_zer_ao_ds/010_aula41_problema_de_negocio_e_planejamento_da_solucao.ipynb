{
 "cells": [
  {
   "cell_type": "markdown",
   "id": "052430cd",
   "metadata": {},
   "source": [
    "# Agenda:\n",
    "    \n",
    "1. Requisição do CEO\n",
    "2. Planejamento do Dashboard\n",
    "3. Criação de Dashboards Web\n",
    "4. Exercícios"
   ]
  },
  {
   "cell_type": "markdown",
   "id": "90b5fd2a",
   "metadata": {},
   "source": [
    "# 1. Requisição do CEO\n",
    "\n",
    "Gostaria de chegar de manhã na minha mesa e ter um lugar único onde eu possa observar o portfólio da House Rocket. Nesse portfólio, eu tenho interesse:\n",
    "    \n",
    "1. Filtros dos imóveis por uma ou várias regiões\n",
    "2. Escolher uma ou mais variáveis para visualizar\n",
    "3. Observar o número total de imóveis, a média de preço, a média da sala de estar, e também a média do preço por metro quadrado em cada um dos códigos postais.\n",
    "4. Analisar cada uma das colunas de um modo mais descritivo.\n",
    "5. Um mapa com a densidade de portfólio por região e também densidade de preço.\n",
    "6. Checar a variação anual de preço\n",
    "7. Checar a variação diária de preço\n",
    "8. Conferir a distribuição dos imóveis por:\n",
    "      + preço\n",
    "      + Número de quartos\n",
    "      + Número de banheiros\n",
    "      + Número de andares\n",
    "      + Vista para a água ou não"
   ]
  },
  {
   "cell_type": "markdown",
   "id": "bab0e01e",
   "metadata": {},
   "source": [
    "__Dashboard__: união de gráficos e métricas comuns. Podemos ter dashboards espécifico para cada setor, por exemplo, clientes, vendas, produtos, marketing, etc. "
   ]
  },
  {
   "cell_type": "markdown",
   "id": "0fdf0ea9",
   "metadata": {},
   "source": [
    "# 2. Planejamento do Dashboard"
   ]
  },
  {
   "cell_type": "markdown",
   "id": "e73aed4f",
   "metadata": {},
   "source": [
    "Definir:\n",
    "\n",
    "- **Produto final**\n",
    "    + Um link para acessar o dashboard\n",
    "    \n",
    "    \n",
    "- **Ferramentas de uso**\n",
    "    + Python\n",
    "    + Pycharm / arquivo .py\n",
    "    \n",
    "    \n",
    "- **Processo**:\n",
    "1. Filtros dos imóveis por uma ou várias regiões\n",
    "- Objetivo: Visualizar imóveis por código portal\n",
    "- Ação do usuário: Digitar um ou mais códigoS desejados\n",
    "- A visualização: uma tabela com todos os atributos e filtrada por código postal\n",
    "\n",
    "2. Escolher uma ou mais variáveis para visualizar\n",
    "- Objetivo: Visualizar características do imóvel\n",
    "- Ação do usuário: Digitar as características desejadas\n",
    "- A visualização: uma tabela com todos os atributos selecionados\n",
    "\n",
    "\n",
    "3. Observar o número total de imóveis, a média de preço, a média da sala de estar, e também a média do preço por metro quadrado em cada um dos códigos postais.\n",
    "- Objetivo: Visualizar as médias de algumas métricas por região\n",
    "- Ação do usuário: Digitar as métricas desejadas\n",
    "- A visualização: uma tabela com todos os atributos selecionados\n",
    "\n",
    "\n",
    "4. Analisar cada uma das colunas de um modo mais descritivo.\n",
    "- Objetivo: Visualizar as métricas descritivas de cada um dos atributos escolhidos\n",
    "- Ação do usuário: Digitar as métricas desejadas\n",
    "- A visualização: uma tabela com as métricas por atributo\n",
    "\n",
    "\n",
    "5. Um mapa com a densidade de portfólio por região e também densidade de preço.\n",
    "- Objetivo: Visualizar a densidade de portfólio no mapa (número de imóveis por região)\n",
    "- Ação do usuário: Nenhuma ação\n",
    "- A visualização: um mapa com a densidade de imóveis por região\n",
    "\n",
    "\n",
    "\n",
    "6. Checar a variação anual de preço\n",
    "- Objetivo: Observar variações anuais de preço\n",
    "- Ação do usuário: Filtrar dados por ano\n",
    "- A visualização: um gráfico de linha com os anos em x e os preços médios em y\n",
    "\n",
    "\n",
    "7. Checar a variação diária de preço\n",
    "- Objetivo: Observar variações diárias de preço\n",
    "- Ação do usuário: Filtrar dados por dia\n",
    "- A visualização: um gráfico de linha com os dias em x e os preços médios em y\n",
    "\n",
    "8. Conferir a distribuição dos imóveis por:\n",
    "    + preço\n",
    "    + Número de quartos\n",
    "    + Número de banheiros\n",
    "    + Número de andares\n",
    "    + Vista para a água ou não\n",
    "    \n",
    "        \n",
    "- Objetivo: Observar a concentração dos imóveis por preço, quartos, banheiros e andares\n",
    "- Ação do usuário: Filtrar de preço, quarto, banheiro, e andar\n",
    "- A visualização: um histograma com cada atributo definido"
   ]
  },
  {
   "cell_type": "markdown",
   "id": "7a74bb91",
   "metadata": {},
   "source": [
    "# 3. Criação de Dashboards Web\n"
   ]
  },
  {
   "cell_type": "code",
   "execution_count": null,
   "id": "a96bdc9a",
   "metadata": {},
   "outputs": [],
   "source": []
  },
  {
   "cell_type": "code",
   "execution_count": null,
   "id": "15c939ba",
   "metadata": {},
   "outputs": [],
   "source": []
  },
  {
   "cell_type": "code",
   "execution_count": null,
   "id": "8ac9b3b8",
   "metadata": {},
   "outputs": [],
   "source": []
  },
  {
   "cell_type": "code",
   "execution_count": null,
   "id": "5f7669dc",
   "metadata": {},
   "outputs": [],
   "source": []
  },
  {
   "cell_type": "markdown",
   "id": "64dc7bd7",
   "metadata": {},
   "source": [
    "# 4. Exercícios"
   ]
  },
  {
   "cell_type": "code",
   "execution_count": null,
   "id": "5b1b1426",
   "metadata": {},
   "outputs": [],
   "source": []
  }
 ],
 "metadata": {
  "kernelspec": {
   "display_name": "Python 3 (ipykernel)",
   "language": "python",
   "name": "python3"
  },
  "language_info": {
   "codemirror_mode": {
    "name": "ipython",
    "version": 3
   },
   "file_extension": ".py",
   "mimetype": "text/x-python",
   "name": "python",
   "nbconvert_exporter": "python",
   "pygments_lexer": "ipython3",
   "version": "3.8.12"
  }
 },
 "nbformat": 4,
 "nbformat_minor": 5
}
