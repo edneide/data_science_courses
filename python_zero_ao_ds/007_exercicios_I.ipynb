{
 "cells": [
  {
   "cell_type": "markdown",
   "id": "31badf8d",
   "metadata": {},
   "source": [
    "# Aula 29 - Exercícios"
   ]
  },
  {
   "cell_type": "markdown",
   "id": "694aa44b",
   "metadata": {},
   "source": [
    "## 0. Imports"
   ]
  },
  {
   "cell_type": "code",
   "execution_count": 1,
   "id": "41d5c7ed",
   "metadata": {
    "ExecuteTime": {
     "end_time": "2021-10-30T12:17:56.007375Z",
     "start_time": "2021-10-30T12:17:55.569359Z"
    }
   },
   "outputs": [],
   "source": [
    "import pandas as pd\n",
    "import numpy as np"
   ]
  },
  {
   "cell_type": "code",
   "execution_count": 2,
   "id": "61e652bb",
   "metadata": {
    "ExecuteTime": {
     "end_time": "2021-10-30T12:17:56.049964Z",
     "start_time": "2021-10-30T12:17:56.009143Z"
    }
   },
   "outputs": [],
   "source": [
    "# Data\n",
    "df = pd.read_csv('datasets/kc_house_data.csv')"
   ]
  },
  {
   "cell_type": "code",
   "execution_count": 3,
   "id": "a6f4475f",
   "metadata": {
    "ExecuteTime": {
     "end_time": "2021-10-30T12:17:56.197662Z",
     "start_time": "2021-10-30T12:17:56.188044Z"
    }
   },
   "outputs": [
    {
     "data": {
      "text/plain": [
       "(21613, 21)"
      ]
     },
     "execution_count": 3,
     "metadata": {},
     "output_type": "execute_result"
    }
   ],
   "source": [
    "df.shape"
   ]
  },
  {
   "cell_type": "code",
   "execution_count": 4,
   "id": "a0b283c7",
   "metadata": {
    "ExecuteTime": {
     "end_time": "2021-10-30T12:17:56.523549Z",
     "start_time": "2021-10-30T12:17:56.501975Z"
    }
   },
   "outputs": [
    {
     "data": {
      "text/html": [
       "<div>\n",
       "<style scoped>\n",
       "    .dataframe tbody tr th:only-of-type {\n",
       "        vertical-align: middle;\n",
       "    }\n",
       "\n",
       "    .dataframe tbody tr th {\n",
       "        vertical-align: top;\n",
       "    }\n",
       "\n",
       "    .dataframe thead th {\n",
       "        text-align: right;\n",
       "    }\n",
       "</style>\n",
       "<table border=\"1\" class=\"dataframe\">\n",
       "  <thead>\n",
       "    <tr style=\"text-align: right;\">\n",
       "      <th></th>\n",
       "      <th>id</th>\n",
       "      <th>date</th>\n",
       "      <th>price</th>\n",
       "      <th>bedrooms</th>\n",
       "      <th>bathrooms</th>\n",
       "      <th>sqft_living</th>\n",
       "      <th>sqft_lot</th>\n",
       "      <th>floors</th>\n",
       "      <th>waterfront</th>\n",
       "      <th>view</th>\n",
       "      <th>...</th>\n",
       "      <th>grade</th>\n",
       "      <th>sqft_above</th>\n",
       "      <th>sqft_basement</th>\n",
       "      <th>yr_built</th>\n",
       "      <th>yr_renovated</th>\n",
       "      <th>zipcode</th>\n",
       "      <th>lat</th>\n",
       "      <th>long</th>\n",
       "      <th>sqft_living15</th>\n",
       "      <th>sqft_lot15</th>\n",
       "    </tr>\n",
       "  </thead>\n",
       "  <tbody>\n",
       "    <tr>\n",
       "      <th>0</th>\n",
       "      <td>7129300520</td>\n",
       "      <td>20141013T000000</td>\n",
       "      <td>221900.0</td>\n",
       "      <td>3</td>\n",
       "      <td>1.00</td>\n",
       "      <td>1180</td>\n",
       "      <td>5650</td>\n",
       "      <td>1.0</td>\n",
       "      <td>0</td>\n",
       "      <td>0</td>\n",
       "      <td>...</td>\n",
       "      <td>7</td>\n",
       "      <td>1180</td>\n",
       "      <td>0</td>\n",
       "      <td>1955</td>\n",
       "      <td>0</td>\n",
       "      <td>98178</td>\n",
       "      <td>47.5112</td>\n",
       "      <td>-122.257</td>\n",
       "      <td>1340</td>\n",
       "      <td>5650</td>\n",
       "    </tr>\n",
       "    <tr>\n",
       "      <th>1</th>\n",
       "      <td>6414100192</td>\n",
       "      <td>20141209T000000</td>\n",
       "      <td>538000.0</td>\n",
       "      <td>3</td>\n",
       "      <td>2.25</td>\n",
       "      <td>2570</td>\n",
       "      <td>7242</td>\n",
       "      <td>2.0</td>\n",
       "      <td>0</td>\n",
       "      <td>0</td>\n",
       "      <td>...</td>\n",
       "      <td>7</td>\n",
       "      <td>2170</td>\n",
       "      <td>400</td>\n",
       "      <td>1951</td>\n",
       "      <td>1991</td>\n",
       "      <td>98125</td>\n",
       "      <td>47.7210</td>\n",
       "      <td>-122.319</td>\n",
       "      <td>1690</td>\n",
       "      <td>7639</td>\n",
       "    </tr>\n",
       "    <tr>\n",
       "      <th>2</th>\n",
       "      <td>5631500400</td>\n",
       "      <td>20150225T000000</td>\n",
       "      <td>180000.0</td>\n",
       "      <td>2</td>\n",
       "      <td>1.00</td>\n",
       "      <td>770</td>\n",
       "      <td>10000</td>\n",
       "      <td>1.0</td>\n",
       "      <td>0</td>\n",
       "      <td>0</td>\n",
       "      <td>...</td>\n",
       "      <td>6</td>\n",
       "      <td>770</td>\n",
       "      <td>0</td>\n",
       "      <td>1933</td>\n",
       "      <td>0</td>\n",
       "      <td>98028</td>\n",
       "      <td>47.7379</td>\n",
       "      <td>-122.233</td>\n",
       "      <td>2720</td>\n",
       "      <td>8062</td>\n",
       "    </tr>\n",
       "    <tr>\n",
       "      <th>3</th>\n",
       "      <td>2487200875</td>\n",
       "      <td>20141209T000000</td>\n",
       "      <td>604000.0</td>\n",
       "      <td>4</td>\n",
       "      <td>3.00</td>\n",
       "      <td>1960</td>\n",
       "      <td>5000</td>\n",
       "      <td>1.0</td>\n",
       "      <td>0</td>\n",
       "      <td>0</td>\n",
       "      <td>...</td>\n",
       "      <td>7</td>\n",
       "      <td>1050</td>\n",
       "      <td>910</td>\n",
       "      <td>1965</td>\n",
       "      <td>0</td>\n",
       "      <td>98136</td>\n",
       "      <td>47.5208</td>\n",
       "      <td>-122.393</td>\n",
       "      <td>1360</td>\n",
       "      <td>5000</td>\n",
       "    </tr>\n",
       "    <tr>\n",
       "      <th>4</th>\n",
       "      <td>1954400510</td>\n",
       "      <td>20150218T000000</td>\n",
       "      <td>510000.0</td>\n",
       "      <td>3</td>\n",
       "      <td>2.00</td>\n",
       "      <td>1680</td>\n",
       "      <td>8080</td>\n",
       "      <td>1.0</td>\n",
       "      <td>0</td>\n",
       "      <td>0</td>\n",
       "      <td>...</td>\n",
       "      <td>8</td>\n",
       "      <td>1680</td>\n",
       "      <td>0</td>\n",
       "      <td>1987</td>\n",
       "      <td>0</td>\n",
       "      <td>98074</td>\n",
       "      <td>47.6168</td>\n",
       "      <td>-122.045</td>\n",
       "      <td>1800</td>\n",
       "      <td>7503</td>\n",
       "    </tr>\n",
       "  </tbody>\n",
       "</table>\n",
       "<p>5 rows × 21 columns</p>\n",
       "</div>"
      ],
      "text/plain": [
       "           id             date     price  bedrooms  bathrooms  sqft_living  \\\n",
       "0  7129300520  20141013T000000  221900.0         3       1.00         1180   \n",
       "1  6414100192  20141209T000000  538000.0         3       2.25         2570   \n",
       "2  5631500400  20150225T000000  180000.0         2       1.00          770   \n",
       "3  2487200875  20141209T000000  604000.0         4       3.00         1960   \n",
       "4  1954400510  20150218T000000  510000.0         3       2.00         1680   \n",
       "\n",
       "   sqft_lot  floors  waterfront  view  ...  grade  sqft_above  sqft_basement  \\\n",
       "0      5650     1.0           0     0  ...      7        1180              0   \n",
       "1      7242     2.0           0     0  ...      7        2170            400   \n",
       "2     10000     1.0           0     0  ...      6         770              0   \n",
       "3      5000     1.0           0     0  ...      7        1050            910   \n",
       "4      8080     1.0           0     0  ...      8        1680              0   \n",
       "\n",
       "   yr_built  yr_renovated  zipcode      lat     long  sqft_living15  \\\n",
       "0      1955             0    98178  47.5112 -122.257           1340   \n",
       "1      1951          1991    98125  47.7210 -122.319           1690   \n",
       "2      1933             0    98028  47.7379 -122.233           2720   \n",
       "3      1965             0    98136  47.5208 -122.393           1360   \n",
       "4      1987             0    98074  47.6168 -122.045           1800   \n",
       "\n",
       "   sqft_lot15  \n",
       "0        5650  \n",
       "1        7639  \n",
       "2        8062  \n",
       "3        5000  \n",
       "4        7503  \n",
       "\n",
       "[5 rows x 21 columns]"
      ]
     },
     "execution_count": 4,
     "metadata": {},
     "output_type": "execute_result"
    }
   ],
   "source": [
    "df.head()"
   ]
  },
  {
   "cell_type": "code",
   "execution_count": 5,
   "id": "6224cd34",
   "metadata": {
    "ExecuteTime": {
     "end_time": "2021-10-30T12:17:56.853714Z",
     "start_time": "2021-10-30T12:17:56.849461Z"
    }
   },
   "outputs": [
    {
     "data": {
      "text/plain": [
       "['id',\n",
       " 'date',\n",
       " 'price',\n",
       " 'bedrooms',\n",
       " 'bathrooms',\n",
       " 'sqft_living',\n",
       " 'sqft_lot',\n",
       " 'floors',\n",
       " 'waterfront',\n",
       " 'view',\n",
       " 'condition',\n",
       " 'grade',\n",
       " 'sqft_above',\n",
       " 'sqft_basement',\n",
       " 'yr_built',\n",
       " 'yr_renovated',\n",
       " 'zipcode',\n",
       " 'lat',\n",
       " 'long',\n",
       " 'sqft_living15',\n",
       " 'sqft_lot15']"
      ]
     },
     "execution_count": 5,
     "metadata": {},
     "output_type": "execute_result"
    }
   ],
   "source": [
    "df.columns.to_list()"
   ]
  },
  {
   "cell_type": "markdown",
   "id": "56c79c93",
   "metadata": {},
   "source": [
    "## 1. Qual a média de compra dos imóveis por \"Nível\"?\n",
    "\n",
    "- Nível 0 -> Preço entre `$ 0 e $ 321950` \n",
    "- Nível 1 -> Preço entre `$ 321950 e $ 450000` \n",
    "- Nível 2 -> Preço entre `$ 450000 e $ 645000` \n",
    "- Nível 3 -> Preço acima de  `$ 645000`\n"
   ]
  },
  {
   "cell_type": "markdown",
   "id": "4a4e47f8",
   "metadata": {},
   "source": [
    "- Aqui, temos primeiro que criar a variável `nivel` que vai depender do preço:"
   ]
  },
  {
   "cell_type": "code",
   "execution_count": 6,
   "id": "f0457a0a",
   "metadata": {
    "ExecuteTime": {
     "end_time": "2021-10-30T12:17:57.874115Z",
     "start_time": "2021-10-30T12:17:57.861863Z"
    }
   },
   "outputs": [],
   "source": [
    "df['level'] = df['price'].apply(lambda x: 'level_0' if (x > 0) & (x < 321950) else\n",
    "                                          'level_1' if (x >= 321950) & (x < 450000) else\n",
    "                                          'level_2' if (x >= 450000) & (x < 645000) else 'level_3')"
   ]
  },
  {
   "cell_type": "markdown",
   "id": "edcffcf2",
   "metadata": {},
   "source": [
    "- Número de imóveis em cada nível:"
   ]
  },
  {
   "cell_type": "code",
   "execution_count": 7,
   "id": "1742bf4a",
   "metadata": {
    "ExecuteTime": {
     "end_time": "2021-10-30T12:17:58.635231Z",
     "start_time": "2021-10-30T12:17:58.628239Z"
    }
   },
   "outputs": [
    {
     "data": {
      "text/plain": [
       "level_2    5508\n",
       "level_3    5413\n",
       "level_0    5403\n",
       "level_1    5289\n",
       "Name: level, dtype: int64"
      ]
     },
     "execution_count": 7,
     "metadata": {},
     "output_type": "execute_result"
    }
   ],
   "source": [
    "df['level'].value_counts()"
   ]
  },
  {
   "cell_type": "markdown",
   "id": "5ec60d0f",
   "metadata": {},
   "source": [
    "- Média de preço para cada nível:"
   ]
  },
  {
   "cell_type": "code",
   "execution_count": 8,
   "id": "e6f86e28",
   "metadata": {
    "ExecuteTime": {
     "end_time": "2021-10-30T12:17:59.396489Z",
     "start_time": "2021-10-30T12:17:59.384454Z"
    }
   },
   "outputs": [
    {
     "data": {
      "text/html": [
       "<div>\n",
       "<style scoped>\n",
       "    .dataframe tbody tr th:only-of-type {\n",
       "        vertical-align: middle;\n",
       "    }\n",
       "\n",
       "    .dataframe tbody tr th {\n",
       "        vertical-align: top;\n",
       "    }\n",
       "\n",
       "    .dataframe thead th {\n",
       "        text-align: right;\n",
       "    }\n",
       "</style>\n",
       "<table border=\"1\" class=\"dataframe\">\n",
       "  <thead>\n",
       "    <tr style=\"text-align: right;\">\n",
       "      <th></th>\n",
       "      <th>level</th>\n",
       "      <th>price</th>\n",
       "    </tr>\n",
       "  </thead>\n",
       "  <tbody>\n",
       "    <tr>\n",
       "      <th>0</th>\n",
       "      <td>level_0</td>\n",
       "      <td>251544.621507</td>\n",
       "    </tr>\n",
       "    <tr>\n",
       "      <th>1</th>\n",
       "      <td>level_1</td>\n",
       "      <td>383585.205332</td>\n",
       "    </tr>\n",
       "    <tr>\n",
       "      <th>2</th>\n",
       "      <td>level_2</td>\n",
       "      <td>536164.422840</td>\n",
       "    </tr>\n",
       "    <tr>\n",
       "      <th>3</th>\n",
       "      <td>level_3</td>\n",
       "      <td>985008.983189</td>\n",
       "    </tr>\n",
       "  </tbody>\n",
       "</table>\n",
       "</div>"
      ],
      "text/plain": [
       "     level          price\n",
       "0  level_0  251544.621507\n",
       "1  level_1  383585.205332\n",
       "2  level_2  536164.422840\n",
       "3  level_3  985008.983189"
      ]
     },
     "execution_count": 8,
     "metadata": {},
     "output_type": "execute_result"
    }
   ],
   "source": [
    "df[['price', 'level']].groupby('level').mean().reset_index()"
   ]
  },
  {
   "cell_type": "markdown",
   "id": "d2ac7ec4",
   "metadata": {},
   "source": [
    "## 2. Qual a média do tamanho da sala de estar por \"Size\"?\n",
    "\n",
    "- Size 0 -> Tamanho entre 0 e 1427 sqft \n",
    "- Size 1 -> Preço entre 1427 e 1910 sqft \n",
    "- Size 2 -> Preço entre 1910 e 2550 sqft  \n",
    "- Size 3 -> Preço acima de  2550 sqft "
   ]
  },
  {
   "cell_type": "markdown",
   "id": "cc2e4ad4",
   "metadata": {},
   "source": [
    "- Criando a variável `size` em função do `price`:"
   ]
  },
  {
   "cell_type": "code",
   "execution_count": 9,
   "id": "392524c3",
   "metadata": {
    "ExecuteTime": {
     "end_time": "2021-10-30T12:18:00.529865Z",
     "start_time": "2021-10-30T12:18:00.518862Z"
    }
   },
   "outputs": [],
   "source": [
    "df['size'] = df['sqft_living'].apply(lambda x: 'size_0' if (x > 0) & (x <= 1427) else\n",
    "                                               'size_1' if (x > 1427) & (x <= 1910) else\n",
    "                                               'size_2' if (x > 1910) & (x <= 2550) else 'size_3'\n",
    "                                    )"
   ]
  },
  {
   "cell_type": "markdown",
   "id": "234e3241",
   "metadata": {},
   "source": [
    "- Tabela de frequência da variável `size`:"
   ]
  },
  {
   "cell_type": "code",
   "execution_count": 10,
   "id": "c954d531",
   "metadata": {
    "ExecuteTime": {
     "end_time": "2021-10-30T12:18:01.167885Z",
     "start_time": "2021-10-30T12:18:01.160733Z"
    }
   },
   "outputs": [
    {
     "data": {
      "text/plain": [
       "size_2    5434\n",
       "size_1    5416\n",
       "size_0    5404\n",
       "size_3    5359\n",
       "Name: size, dtype: int64"
      ]
     },
     "execution_count": 10,
     "metadata": {},
     "output_type": "execute_result"
    }
   ],
   "source": [
    "df['size'].value_counts()"
   ]
  },
  {
   "cell_type": "markdown",
   "id": "8965598b",
   "metadata": {},
   "source": [
    "- Média do tamanho da sala de estar por size:"
   ]
  },
  {
   "cell_type": "code",
   "execution_count": 11,
   "id": "59963a4a",
   "metadata": {
    "ExecuteTime": {
     "end_time": "2021-10-30T12:18:02.027613Z",
     "start_time": "2021-10-30T12:18:02.016052Z"
    }
   },
   "outputs": [
    {
     "data": {
      "text/html": [
       "<div>\n",
       "<style scoped>\n",
       "    .dataframe tbody tr th:only-of-type {\n",
       "        vertical-align: middle;\n",
       "    }\n",
       "\n",
       "    .dataframe tbody tr th {\n",
       "        vertical-align: top;\n",
       "    }\n",
       "\n",
       "    .dataframe thead th {\n",
       "        text-align: right;\n",
       "    }\n",
       "</style>\n",
       "<table border=\"1\" class=\"dataframe\">\n",
       "  <thead>\n",
       "    <tr style=\"text-align: right;\">\n",
       "      <th></th>\n",
       "      <th>sqft_living</th>\n",
       "    </tr>\n",
       "    <tr>\n",
       "      <th>size</th>\n",
       "      <th></th>\n",
       "    </tr>\n",
       "  </thead>\n",
       "  <tbody>\n",
       "    <tr>\n",
       "      <th>size_0</th>\n",
       "      <td>1123.832531</td>\n",
       "    </tr>\n",
       "    <tr>\n",
       "      <th>size_1</th>\n",
       "      <td>1664.962334</td>\n",
       "    </tr>\n",
       "    <tr>\n",
       "      <th>size_2</th>\n",
       "      <td>2211.792786</td>\n",
       "    </tr>\n",
       "    <tr>\n",
       "      <th>size_3</th>\n",
       "      <td>3329.607016</td>\n",
       "    </tr>\n",
       "  </tbody>\n",
       "</table>\n",
       "</div>"
      ],
      "text/plain": [
       "        sqft_living\n",
       "size               \n",
       "size_0  1123.832531\n",
       "size_1  1664.962334\n",
       "size_2  2211.792786\n",
       "size_3  3329.607016"
      ]
     },
     "execution_count": 11,
     "metadata": {},
     "output_type": "execute_result"
    }
   ],
   "source": [
    "df[['sqft_living', 'size']].groupby('size').mean()"
   ]
  },
  {
   "cell_type": "markdown",
   "id": "df8c9769",
   "metadata": {},
   "source": [
    "## 3. Adicione as seguintes informações ao conjunto de dados original:\n",
    "\n",
    "- Place ID: Identificação da localização\n",
    "- OSM Type: Open Street Map type \n",
    "- Country: Nome do País  \n",
    "- Country Code: Código do país "
   ]
  },
  {
   "cell_type": "code",
   "execution_count": 12,
   "id": "36fe4714",
   "metadata": {
    "ExecuteTime": {
     "end_time": "2021-10-30T12:18:02.845071Z",
     "start_time": "2021-10-30T12:18:02.835408Z"
    }
   },
   "outputs": [
    {
     "data": {
      "text/html": [
       "<div>\n",
       "<style scoped>\n",
       "    .dataframe tbody tr th:only-of-type {\n",
       "        vertical-align: middle;\n",
       "    }\n",
       "\n",
       "    .dataframe tbody tr th {\n",
       "        vertical-align: top;\n",
       "    }\n",
       "\n",
       "    .dataframe thead th {\n",
       "        text-align: right;\n",
       "    }\n",
       "</style>\n",
       "<table border=\"1\" class=\"dataframe\">\n",
       "  <thead>\n",
       "    <tr style=\"text-align: right;\">\n",
       "      <th></th>\n",
       "      <th>lat</th>\n",
       "      <th>long</th>\n",
       "    </tr>\n",
       "  </thead>\n",
       "  <tbody>\n",
       "    <tr>\n",
       "      <th>0</th>\n",
       "      <td>47.5112</td>\n",
       "      <td>-122.257</td>\n",
       "    </tr>\n",
       "    <tr>\n",
       "      <th>1</th>\n",
       "      <td>47.7210</td>\n",
       "      <td>-122.319</td>\n",
       "    </tr>\n",
       "    <tr>\n",
       "      <th>2</th>\n",
       "      <td>47.7379</td>\n",
       "      <td>-122.233</td>\n",
       "    </tr>\n",
       "    <tr>\n",
       "      <th>3</th>\n",
       "      <td>47.5208</td>\n",
       "      <td>-122.393</td>\n",
       "    </tr>\n",
       "    <tr>\n",
       "      <th>4</th>\n",
       "      <td>47.6168</td>\n",
       "      <td>-122.045</td>\n",
       "    </tr>\n",
       "    <tr>\n",
       "      <th>...</th>\n",
       "      <td>...</td>\n",
       "      <td>...</td>\n",
       "    </tr>\n",
       "    <tr>\n",
       "      <th>21608</th>\n",
       "      <td>47.6993</td>\n",
       "      <td>-122.346</td>\n",
       "    </tr>\n",
       "    <tr>\n",
       "      <th>21609</th>\n",
       "      <td>47.5107</td>\n",
       "      <td>-122.362</td>\n",
       "    </tr>\n",
       "    <tr>\n",
       "      <th>21610</th>\n",
       "      <td>47.5944</td>\n",
       "      <td>-122.299</td>\n",
       "    </tr>\n",
       "    <tr>\n",
       "      <th>21611</th>\n",
       "      <td>47.5345</td>\n",
       "      <td>-122.069</td>\n",
       "    </tr>\n",
       "    <tr>\n",
       "      <th>21612</th>\n",
       "      <td>47.5941</td>\n",
       "      <td>-122.299</td>\n",
       "    </tr>\n",
       "  </tbody>\n",
       "</table>\n",
       "<p>21613 rows × 2 columns</p>\n",
       "</div>"
      ],
      "text/plain": [
       "           lat     long\n",
       "0      47.5112 -122.257\n",
       "1      47.7210 -122.319\n",
       "2      47.7379 -122.233\n",
       "3      47.5208 -122.393\n",
       "4      47.6168 -122.045\n",
       "...        ...      ...\n",
       "21608  47.6993 -122.346\n",
       "21609  47.5107 -122.362\n",
       "21610  47.5944 -122.299\n",
       "21611  47.5345 -122.069\n",
       "21612  47.5941 -122.299\n",
       "\n",
       "[21613 rows x 2 columns]"
      ]
     },
     "execution_count": 12,
     "metadata": {},
     "output_type": "execute_result"
    }
   ],
   "source": [
    "df[['lat', 'long']]"
   ]
  },
  {
   "cell_type": "code",
   "execution_count": 13,
   "id": "e7509879",
   "metadata": {
    "ExecuteTime": {
     "end_time": "2021-10-30T12:18:03.358055Z",
     "start_time": "2021-10-30T12:18:03.229060Z"
    }
   },
   "outputs": [],
   "source": [
    "# requisições na API\n",
    "from geopy.geocoders import Nominatim\n",
    "\n",
    "geolocator = Nominatim(user_agent = 'geopyExercises')\n",
    "\n"
   ]
  },
  {
   "cell_type": "code",
   "execution_count": 14,
   "id": "55c2e43a",
   "metadata": {
    "ExecuteTime": {
     "end_time": "2021-10-30T12:18:05.036709Z",
     "start_time": "2021-10-30T12:18:04.074427Z"
    }
   },
   "outputs": [],
   "source": [
    "query = '47.5112, -122.257'\n",
    "\n",
    "response = geolocator.reverse(query) # dicionário"
   ]
  },
  {
   "cell_type": "code",
   "execution_count": 15,
   "id": "f71f3a95",
   "metadata": {
    "ExecuteTime": {
     "end_time": "2021-10-30T12:18:05.924186Z",
     "start_time": "2021-10-30T12:18:05.919403Z"
    }
   },
   "outputs": [
    {
     "data": {
      "text/plain": [
       "{'place_id': 159597608,\n",
       " 'licence': 'Data © OpenStreetMap contributors, ODbL 1.0. https://osm.org/copyright',\n",
       " 'osm_type': 'way',\n",
       " 'osm_id': 236673600,\n",
       " 'lat': '47.5112302',\n",
       " 'lon': '-122.25676111324441',\n",
       " 'display_name': '10012, 61st Avenue South, Rainier Beach, Seattle, King County, Washington, 98178, United States',\n",
       " 'address': {'house_number': '10012',\n",
       "  'road': '61st Avenue South',\n",
       "  'neighbourhood': 'Rainier Beach',\n",
       "  'city': 'Seattle',\n",
       "  'county': 'King County',\n",
       "  'state': 'Washington',\n",
       "  'postcode': '98178',\n",
       "  'country': 'United States',\n",
       "  'country_code': 'us'},\n",
       " 'boundingbox': ['47.511189', '47.5112943', '-122.2568571', '-122.2566651']}"
      ]
     },
     "execution_count": 15,
     "metadata": {},
     "output_type": "execute_result"
    }
   ],
   "source": [
    "response.raw"
   ]
  },
  {
   "cell_type": "code",
   "execution_count": 16,
   "id": "eea7bce0",
   "metadata": {
    "ExecuteTime": {
     "end_time": "2021-10-30T12:18:07.037367Z",
     "start_time": "2021-10-30T12:18:07.033312Z"
    }
   },
   "outputs": [
    {
     "data": {
      "text/plain": [
       "159597608"
      ]
     },
     "execution_count": 16,
     "metadata": {},
     "output_type": "execute_result"
    }
   ],
   "source": [
    "response.raw['place_id']"
   ]
  },
  {
   "cell_type": "code",
   "execution_count": 17,
   "id": "d93a0f25",
   "metadata": {
    "ExecuteTime": {
     "end_time": "2021-10-30T12:18:08.016683Z",
     "start_time": "2021-10-30T12:18:08.012132Z"
    }
   },
   "outputs": [
    {
     "data": {
      "text/plain": [
       "{'house_number': '10012',\n",
       " 'road': '61st Avenue South',\n",
       " 'neighbourhood': 'Rainier Beach',\n",
       " 'city': 'Seattle',\n",
       " 'county': 'King County',\n",
       " 'state': 'Washington',\n",
       " 'postcode': '98178',\n",
       " 'country': 'United States',\n",
       " 'country_code': 'us'}"
      ]
     },
     "execution_count": 17,
     "metadata": {},
     "output_type": "execute_result"
    }
   ],
   "source": [
    "response.raw['address']"
   ]
  },
  {
   "cell_type": "code",
   "execution_count": 18,
   "id": "1d26baf8",
   "metadata": {
    "ExecuteTime": {
     "end_time": "2021-10-30T12:18:08.731434Z",
     "start_time": "2021-10-30T12:18:08.728434Z"
    }
   },
   "outputs": [
    {
     "data": {
      "text/plain": [
       "'10012'"
      ]
     },
     "execution_count": 18,
     "metadata": {},
     "output_type": "execute_result"
    }
   ],
   "source": [
    "response.raw['address']['house_number']"
   ]
  },
  {
   "cell_type": "markdown",
   "id": "b602efc1",
   "metadata": {},
   "source": [
    "# Paralelismo\n",
    "\n",
    "## Multi-Thread\n",
    "\n",
    "\n",
    "Quebra a tarefa em várias partes:\n",
    "\n",
    "- Tarefa 1 (core 1)\n",
    "- Tarefa 2 (core 2)\n",
    "- Tarefa 3 (core 3)\n",
    "\n",
    "## Async\n",
    "\n",
    "-> Roda de maneira independente\n",
    "\n",
    "-> Não tem uma ordem de execução\n",
    "\n",
    "-> a ordem não importa.\n",
    "\n",
    "Por exemplo, webscraping.\n",
    "\n",
    "- Tarefa 1\n",
    "- Tarefa 2\n",
    "- Tarefa 3"
   ]
  },
  {
   "cell_type": "code",
   "execution_count": 19,
   "id": "7e2da537",
   "metadata": {
    "ExecuteTime": {
     "end_time": "2021-10-30T12:18:10.695414Z",
     "start_time": "2021-10-30T12:18:10.689418Z"
    }
   },
   "outputs": [],
   "source": [
    "import time\n",
    "from multiprocessing import Pool"
   ]
  },
  {
   "cell_type": "code",
   "execution_count": 20,
   "id": "15f227c4",
   "metadata": {
    "ExecuteTime": {
     "end_time": "2021-10-30T12:18:11.609553Z",
     "start_time": "2021-10-30T12:18:11.388222Z"
    }
   },
   "outputs": [],
   "source": [
    "df['query'] = df[['lat', 'long']].apply(lambda x: str(x['lat']) + ',' + str(x['long']), axis = 1)"
   ]
  },
  {
   "cell_type": "code",
   "execution_count": 21,
   "id": "dda44553",
   "metadata": {
    "ExecuteTime": {
     "end_time": "2021-10-30T12:18:11.997972Z",
     "start_time": "2021-10-30T12:18:11.982038Z"
    }
   },
   "outputs": [
    {
     "data": {
      "text/html": [
       "<div>\n",
       "<style scoped>\n",
       "    .dataframe tbody tr th:only-of-type {\n",
       "        vertical-align: middle;\n",
       "    }\n",
       "\n",
       "    .dataframe tbody tr th {\n",
       "        vertical-align: top;\n",
       "    }\n",
       "\n",
       "    .dataframe thead th {\n",
       "        text-align: right;\n",
       "    }\n",
       "</style>\n",
       "<table border=\"1\" class=\"dataframe\">\n",
       "  <thead>\n",
       "    <tr style=\"text-align: right;\">\n",
       "      <th></th>\n",
       "      <th>id</th>\n",
       "      <th>date</th>\n",
       "      <th>price</th>\n",
       "      <th>bedrooms</th>\n",
       "      <th>bathrooms</th>\n",
       "      <th>sqft_living</th>\n",
       "      <th>sqft_lot</th>\n",
       "      <th>floors</th>\n",
       "      <th>waterfront</th>\n",
       "      <th>view</th>\n",
       "      <th>...</th>\n",
       "      <th>yr_built</th>\n",
       "      <th>yr_renovated</th>\n",
       "      <th>zipcode</th>\n",
       "      <th>lat</th>\n",
       "      <th>long</th>\n",
       "      <th>sqft_living15</th>\n",
       "      <th>sqft_lot15</th>\n",
       "      <th>level</th>\n",
       "      <th>size</th>\n",
       "      <th>query</th>\n",
       "    </tr>\n",
       "  </thead>\n",
       "  <tbody>\n",
       "    <tr>\n",
       "      <th>0</th>\n",
       "      <td>7129300520</td>\n",
       "      <td>20141013T000000</td>\n",
       "      <td>221900.0</td>\n",
       "      <td>3</td>\n",
       "      <td>1.00</td>\n",
       "      <td>1180</td>\n",
       "      <td>5650</td>\n",
       "      <td>1.0</td>\n",
       "      <td>0</td>\n",
       "      <td>0</td>\n",
       "      <td>...</td>\n",
       "      <td>1955</td>\n",
       "      <td>0</td>\n",
       "      <td>98178</td>\n",
       "      <td>47.5112</td>\n",
       "      <td>-122.257</td>\n",
       "      <td>1340</td>\n",
       "      <td>5650</td>\n",
       "      <td>level_0</td>\n",
       "      <td>size_0</td>\n",
       "      <td>47.5112,-122.257</td>\n",
       "    </tr>\n",
       "    <tr>\n",
       "      <th>1</th>\n",
       "      <td>6414100192</td>\n",
       "      <td>20141209T000000</td>\n",
       "      <td>538000.0</td>\n",
       "      <td>3</td>\n",
       "      <td>2.25</td>\n",
       "      <td>2570</td>\n",
       "      <td>7242</td>\n",
       "      <td>2.0</td>\n",
       "      <td>0</td>\n",
       "      <td>0</td>\n",
       "      <td>...</td>\n",
       "      <td>1951</td>\n",
       "      <td>1991</td>\n",
       "      <td>98125</td>\n",
       "      <td>47.7210</td>\n",
       "      <td>-122.319</td>\n",
       "      <td>1690</td>\n",
       "      <td>7639</td>\n",
       "      <td>level_2</td>\n",
       "      <td>size_3</td>\n",
       "      <td>47.721,-122.319</td>\n",
       "    </tr>\n",
       "    <tr>\n",
       "      <th>2</th>\n",
       "      <td>5631500400</td>\n",
       "      <td>20150225T000000</td>\n",
       "      <td>180000.0</td>\n",
       "      <td>2</td>\n",
       "      <td>1.00</td>\n",
       "      <td>770</td>\n",
       "      <td>10000</td>\n",
       "      <td>1.0</td>\n",
       "      <td>0</td>\n",
       "      <td>0</td>\n",
       "      <td>...</td>\n",
       "      <td>1933</td>\n",
       "      <td>0</td>\n",
       "      <td>98028</td>\n",
       "      <td>47.7379</td>\n",
       "      <td>-122.233</td>\n",
       "      <td>2720</td>\n",
       "      <td>8062</td>\n",
       "      <td>level_0</td>\n",
       "      <td>size_0</td>\n",
       "      <td>47.7379,-122.233</td>\n",
       "    </tr>\n",
       "    <tr>\n",
       "      <th>3</th>\n",
       "      <td>2487200875</td>\n",
       "      <td>20141209T000000</td>\n",
       "      <td>604000.0</td>\n",
       "      <td>4</td>\n",
       "      <td>3.00</td>\n",
       "      <td>1960</td>\n",
       "      <td>5000</td>\n",
       "      <td>1.0</td>\n",
       "      <td>0</td>\n",
       "      <td>0</td>\n",
       "      <td>...</td>\n",
       "      <td>1965</td>\n",
       "      <td>0</td>\n",
       "      <td>98136</td>\n",
       "      <td>47.5208</td>\n",
       "      <td>-122.393</td>\n",
       "      <td>1360</td>\n",
       "      <td>5000</td>\n",
       "      <td>level_2</td>\n",
       "      <td>size_2</td>\n",
       "      <td>47.5208,-122.393</td>\n",
       "    </tr>\n",
       "    <tr>\n",
       "      <th>4</th>\n",
       "      <td>1954400510</td>\n",
       "      <td>20150218T000000</td>\n",
       "      <td>510000.0</td>\n",
       "      <td>3</td>\n",
       "      <td>2.00</td>\n",
       "      <td>1680</td>\n",
       "      <td>8080</td>\n",
       "      <td>1.0</td>\n",
       "      <td>0</td>\n",
       "      <td>0</td>\n",
       "      <td>...</td>\n",
       "      <td>1987</td>\n",
       "      <td>0</td>\n",
       "      <td>98074</td>\n",
       "      <td>47.6168</td>\n",
       "      <td>-122.045</td>\n",
       "      <td>1800</td>\n",
       "      <td>7503</td>\n",
       "      <td>level_2</td>\n",
       "      <td>size_1</td>\n",
       "      <td>47.6168,-122.045</td>\n",
       "    </tr>\n",
       "  </tbody>\n",
       "</table>\n",
       "<p>5 rows × 24 columns</p>\n",
       "</div>"
      ],
      "text/plain": [
       "           id             date     price  bedrooms  bathrooms  sqft_living  \\\n",
       "0  7129300520  20141013T000000  221900.0         3       1.00         1180   \n",
       "1  6414100192  20141209T000000  538000.0         3       2.25         2570   \n",
       "2  5631500400  20150225T000000  180000.0         2       1.00          770   \n",
       "3  2487200875  20141209T000000  604000.0         4       3.00         1960   \n",
       "4  1954400510  20150218T000000  510000.0         3       2.00         1680   \n",
       "\n",
       "   sqft_lot  floors  waterfront  view  ...  yr_built  yr_renovated  zipcode  \\\n",
       "0      5650     1.0           0     0  ...      1955             0    98178   \n",
       "1      7242     2.0           0     0  ...      1951          1991    98125   \n",
       "2     10000     1.0           0     0  ...      1933             0    98028   \n",
       "3      5000     1.0           0     0  ...      1965             0    98136   \n",
       "4      8080     1.0           0     0  ...      1987             0    98074   \n",
       "\n",
       "       lat     long  sqft_living15  sqft_lot15    level    size  \\\n",
       "0  47.5112 -122.257           1340        5650  level_0  size_0   \n",
       "1  47.7210 -122.319           1690        7639  level_2  size_3   \n",
       "2  47.7379 -122.233           2720        8062  level_0  size_0   \n",
       "3  47.5208 -122.393           1360        5000  level_2  size_2   \n",
       "4  47.6168 -122.045           1800        7503  level_2  size_1   \n",
       "\n",
       "              query  \n",
       "0  47.5112,-122.257  \n",
       "1   47.721,-122.319  \n",
       "2  47.7379,-122.233  \n",
       "3  47.5208,-122.393  \n",
       "4  47.6168,-122.045  \n",
       "\n",
       "[5 rows x 24 columns]"
      ]
     },
     "execution_count": 21,
     "metadata": {},
     "output_type": "execute_result"
    }
   ],
   "source": [
    "df.head()"
   ]
  },
  {
   "cell_type": "code",
   "execution_count": 22,
   "id": "133aaf61",
   "metadata": {
    "ExecuteTime": {
     "end_time": "2021-10-30T12:18:34.899647Z",
     "start_time": "2021-10-30T12:18:12.635074Z"
    }
   },
   "outputs": [
    {
     "name": "stdout",
     "output_type": "stream",
     "text": [
      "Time Elapsed: {} 0.012159000000000031\n"
     ]
    }
   ],
   "source": [
    "import defs \n",
    "\n",
    "df1 = df[['id', 'query']].sample(10)\n",
    "\n",
    "p = Pool(3)\n",
    "\n",
    "start = time.process_time()\n",
    "df1[['place_id', 'osm_type', 'country', 'country_code']] = p.map(defs.get_data, df1.iterrows())\n",
    "end = time.process_time()\n",
    "\n",
    "print('Time Elapsed: {}', end - start)"
   ]
  },
  {
   "cell_type": "code",
   "execution_count": 23,
   "id": "94b9b3e7",
   "metadata": {
    "ExecuteTime": {
     "end_time": "2021-10-30T12:18:34.913090Z",
     "start_time": "2021-10-30T12:18:34.902592Z"
    }
   },
   "outputs": [
    {
     "data": {
      "text/html": [
       "<div>\n",
       "<style scoped>\n",
       "    .dataframe tbody tr th:only-of-type {\n",
       "        vertical-align: middle;\n",
       "    }\n",
       "\n",
       "    .dataframe tbody tr th {\n",
       "        vertical-align: top;\n",
       "    }\n",
       "\n",
       "    .dataframe thead th {\n",
       "        text-align: right;\n",
       "    }\n",
       "</style>\n",
       "<table border=\"1\" class=\"dataframe\">\n",
       "  <thead>\n",
       "    <tr style=\"text-align: right;\">\n",
       "      <th></th>\n",
       "      <th>id</th>\n",
       "      <th>query</th>\n",
       "      <th>place_id</th>\n",
       "      <th>osm_type</th>\n",
       "      <th>country</th>\n",
       "      <th>country_code</th>\n",
       "    </tr>\n",
       "  </thead>\n",
       "  <tbody>\n",
       "    <tr>\n",
       "      <th>10080</th>\n",
       "      <td>3092000030</td>\n",
       "      <td>47.4968,-122.302</td>\n",
       "      <td>235626696</td>\n",
       "      <td>way</td>\n",
       "      <td>United States</td>\n",
       "      <td>us</td>\n",
       "    </tr>\n",
       "    <tr>\n",
       "      <th>9200</th>\n",
       "      <td>1555300490</td>\n",
       "      <td>47.3784,-122.29</td>\n",
       "      <td>231019591</td>\n",
       "      <td>way</td>\n",
       "      <td>United States</td>\n",
       "      <td>us</td>\n",
       "    </tr>\n",
       "    <tr>\n",
       "      <th>7777</th>\n",
       "      <td>7011201016</td>\n",
       "      <td>47.6373,-122.369</td>\n",
       "      <td>156261142</td>\n",
       "      <td>way</td>\n",
       "      <td>United States</td>\n",
       "      <td>us</td>\n",
       "    </tr>\n",
       "    <tr>\n",
       "      <th>16520</th>\n",
       "      <td>9185700414</td>\n",
       "      <td>47.6279,-122.287</td>\n",
       "      <td>156158234</td>\n",
       "      <td>way</td>\n",
       "      <td>United States</td>\n",
       "      <td>us</td>\n",
       "    </tr>\n",
       "    <tr>\n",
       "      <th>21237</th>\n",
       "      <td>9293000170</td>\n",
       "      <td>47.5459,-122.184</td>\n",
       "      <td>292590629</td>\n",
       "      <td>way</td>\n",
       "      <td>United States</td>\n",
       "      <td>us</td>\n",
       "    </tr>\n",
       "    <tr>\n",
       "      <th>16323</th>\n",
       "      <td>267000170</td>\n",
       "      <td>47.6252,-122.104</td>\n",
       "      <td>292600752</td>\n",
       "      <td>way</td>\n",
       "      <td>United States</td>\n",
       "      <td>us</td>\n",
       "    </tr>\n",
       "    <tr>\n",
       "      <th>6402</th>\n",
       "      <td>2624049091</td>\n",
       "      <td>47.5379,-122.264</td>\n",
       "      <td>157276618</td>\n",
       "      <td>way</td>\n",
       "      <td>United States</td>\n",
       "      <td>us</td>\n",
       "    </tr>\n",
       "    <tr>\n",
       "      <th>16494</th>\n",
       "      <td>6633900170</td>\n",
       "      <td>47.6953,-122.199</td>\n",
       "      <td>179368857</td>\n",
       "      <td>way</td>\n",
       "      <td>United States</td>\n",
       "      <td>us</td>\n",
       "    </tr>\n",
       "    <tr>\n",
       "      <th>7055</th>\n",
       "      <td>3329530480</td>\n",
       "      <td>47.3321,-122.261</td>\n",
       "      <td>230865768</td>\n",
       "      <td>way</td>\n",
       "      <td>United States</td>\n",
       "      <td>us</td>\n",
       "    </tr>\n",
       "    <tr>\n",
       "      <th>3327</th>\n",
       "      <td>2473250850</td>\n",
       "      <td>47.4562,-122.158</td>\n",
       "      <td>230691571</td>\n",
       "      <td>way</td>\n",
       "      <td>United States</td>\n",
       "      <td>us</td>\n",
       "    </tr>\n",
       "  </tbody>\n",
       "</table>\n",
       "</div>"
      ],
      "text/plain": [
       "               id             query   place_id osm_type        country  \\\n",
       "10080  3092000030  47.4968,-122.302  235626696      way  United States   \n",
       "9200   1555300490   47.3784,-122.29  231019591      way  United States   \n",
       "7777   7011201016  47.6373,-122.369  156261142      way  United States   \n",
       "16520  9185700414  47.6279,-122.287  156158234      way  United States   \n",
       "21237  9293000170  47.5459,-122.184  292590629      way  United States   \n",
       "16323   267000170  47.6252,-122.104  292600752      way  United States   \n",
       "6402   2624049091  47.5379,-122.264  157276618      way  United States   \n",
       "16494  6633900170  47.6953,-122.199  179368857      way  United States   \n",
       "7055   3329530480  47.3321,-122.261  230865768      way  United States   \n",
       "3327   2473250850  47.4562,-122.158  230691571      way  United States   \n",
       "\n",
       "      country_code  \n",
       "10080           us  \n",
       "9200            us  \n",
       "7777            us  \n",
       "16520           us  \n",
       "21237           us  \n",
       "16323           us  \n",
       "6402            us  \n",
       "16494           us  \n",
       "7055            us  \n",
       "3327            us  "
      ]
     },
     "execution_count": 23,
     "metadata": {},
     "output_type": "execute_result"
    }
   ],
   "source": [
    "df1"
   ]
  },
  {
   "cell_type": "markdown",
   "id": "a5cd9b5a",
   "metadata": {},
   "source": [
    "## 4. Adicione os seguintes filtros no mapa:\n",
    "\n",
    "- Tamanho mínimo da área da sala de estar\n",
    "- Número mínimo de banheiros\n",
    "- Valos máximo do preço\n",
    "- Tamanho máximo da área do porão\n",
    "- Filtro das Condições do Imóvel\n",
    "- Filtro por Ano de Construção"
   ]
  },
  {
   "cell_type": "code",
   "execution_count": 24,
   "id": "218e81e8",
   "metadata": {
    "ExecuteTime": {
     "end_time": "2021-10-30T12:18:34.921267Z",
     "start_time": "2021-10-30T12:18:34.914493Z"
    }
   },
   "outputs": [],
   "source": [
    "# Construindo os filtros\n",
    "df['is_waterfront'] = df['waterfront'].apply(lambda x: 'yes' if x == 1 else 'no')"
   ]
  },
  {
   "cell_type": "code",
   "execution_count": 25,
   "id": "3b680f7c",
   "metadata": {
    "ExecuteTime": {
     "end_time": "2021-10-30T12:18:34.932091Z",
     "start_time": "2021-10-30T12:18:34.924285Z"
    }
   },
   "outputs": [
    {
     "data": {
      "text/plain": [
       "no     21450\n",
       "yes      163\n",
       "Name: is_waterfront, dtype: int64"
      ]
     },
     "execution_count": 25,
     "metadata": {},
     "output_type": "execute_result"
    }
   ],
   "source": [
    "df['is_waterfront'].value_counts() # checando se deu certo"
   ]
  },
  {
   "cell_type": "code",
   "execution_count": 26,
   "id": "0b245920",
   "metadata": {
    "ExecuteTime": {
     "end_time": "2021-10-30T12:18:34.938610Z",
     "start_time": "2021-10-30T12:18:34.933631Z"
    }
   },
   "outputs": [
    {
     "data": {
      "text/plain": [
       "0    21450\n",
       "1      163\n",
       "Name: waterfront, dtype: int64"
      ]
     },
     "execution_count": 26,
     "metadata": {},
     "output_type": "execute_result"
    }
   ],
   "source": [
    "df['waterfront'].value_counts() # checando se deu certo"
   ]
  },
  {
   "cell_type": "code",
   "execution_count": 27,
   "id": "fa4be1d8",
   "metadata": {
    "ExecuteTime": {
     "end_time": "2021-10-30T12:18:35.125536Z",
     "start_time": "2021-10-30T12:18:34.940194Z"
    }
   },
   "outputs": [],
   "source": [
    "import ipywidgets as widgets\n",
    "from ipywidgets import interact, interactive, fixed, interact_manual\n",
    "import plotly.express as px"
   ]
  },
  {
   "cell_type": "code",
   "execution_count": 28,
   "id": "6e351b37",
   "metadata": {
    "ExecuteTime": {
     "end_time": "2021-10-30T12:18:35.163530Z",
     "start_time": "2021-10-30T12:18:35.126719Z"
    }
   },
   "outputs": [],
   "source": [
    "# Defining interactive buttons\n",
    "\n",
    "### Preço Máximo\n",
    "price_limit = widgets.IntSlider(\n",
    "    value = df['price'].mean(),\n",
    "    min = df['price'].min(),\n",
    "    max = df['price'].max(),\n",
    "    step = 1,\n",
    "    description = 'Maximum Price',\n",
    "    disable = False,\n",
    "    style = {'description_width': 'initial'}\n",
    ")\n",
    "\n",
    "### Tamanho mínimo da área da sala de estar\n",
    "living_limit = widgets.IntSlider(\n",
    "    value = int(df['sqft_living'].mean()),\n",
    "    min = df['sqft_living'].min(),\n",
    "    max = df['sqft_living'].max(),\n",
    "    step = 1,\n",
    "    description = 'Minimum Living Room Size',\n",
    "    disable = False,\n",
    "    style = {'description_width': 'initial'}\n",
    ")\n",
    "\n",
    "\n",
    "### Número mínimo de banheiros\n",
    "bathrooms_limit = widgets.IntSlider(\n",
    "    value = df['bathrooms'].mean(),\n",
    "    min = df['bathrooms'].min(),\n",
    "    max = df['bathrooms'].max(),\n",
    "    step = 1,\n",
    "    description = 'Minimum number of bathrooms',\n",
    "    disable = False,\n",
    "    style = {'description_width': 'initial'}\n",
    ")\n",
    "\n",
    "\n",
    "### Tamanho máximo da área do porão.\n",
    "basement_limit = widgets.IntSlider(\n",
    "    value = df['sqft_basement'].mean(),\n",
    "    min = df['sqft_basement'].min(),\n",
    "    max = df['sqft_basement'].max(),\n",
    "    step = 1,\n",
    "    description = 'Maximum basement area',\n",
    "    disable = False,\n",
    "    style = {'description_width': 'initial'}\n",
    ")\n",
    "\n",
    "\n",
    "### Condition \n",
    "condition_limit = widgets.IntSlider(\n",
    "    value = df['condition'].mean(),\n",
    "    min = df['condition'].min(),\n",
    "    max = df['condition'].max(),\n",
    "    step = 1,\n",
    "    description = 'House Condition',\n",
    "    disable = False,\n",
    "    style = {'description_width': 'initial'}\n",
    ")\n",
    "\n",
    "### Ano de construção\n",
    "yr_built_limit = widgets.IntSlider(\n",
    "    value = df['yr_built'].mean(),\n",
    "    min = df['yr_built'].min(),\n",
    "    max = df['yr_built'].max(),\n",
    "    step = 1,\n",
    "    description = 'Year built',\n",
    "    disable = False,\n",
    "    style = {'description_width': 'initial'}\n",
    ")"
   ]
  },
  {
   "cell_type": "code",
   "execution_count": 29,
   "id": "8aa047e7",
   "metadata": {
    "ExecuteTime": {
     "end_time": "2021-10-30T12:18:35.169637Z",
     "start_time": "2021-10-30T12:18:35.165117Z"
    }
   },
   "outputs": [],
   "source": [
    "# Criando mapa\n",
    "def update_map(df, price_limit, living_limit, bathrooms_limit, basement_limit, condition_limit,\n",
    "              yr_built_limit):\n",
    "    \n",
    "    # filter date\n",
    "    houses = df[(df['price'] < price_limit) & \n",
    "                (df['sqft_living'] > living_limit) &\n",
    "                (df['bathrooms'] > bathrooms_limit) &\n",
    "                (df['sqft_basement'] < basement_limit) &\n",
    "                (df['condition'] == condition_limit) &\n",
    "                (df['yr_built'] > yr_built_limit)][['id', 'lat', 'long', 'price', 'sqft_living']].copy()\n",
    "    \n",
    "    # plot map\n",
    "    fig = px.scatter_mapbox(\n",
    "        houses,\n",
    "        lat = 'lat',\n",
    "        lon = 'long',\n",
    "        size = 'price',\n",
    "        color_continuous_scale = px.colors.cyclical.IceFire,\n",
    "        size_max = 15,\n",
    "        zoom = 10\n",
    "    )\n",
    "    \n",
    "    fig.update_layout(mapbox_style = 'open-street-map')\n",
    "    fig.update_layout(height = 600, margin = {'r': 0, 'l': 0, 't': 0, 'b': 0})\n",
    "    fig.show()"
   ]
  },
  {
   "cell_type": "code",
   "execution_count": 30,
   "id": "8eacd181",
   "metadata": {
    "ExecuteTime": {
     "end_time": "2021-10-30T12:18:35.980392Z",
     "start_time": "2021-10-30T12:18:35.170860Z"
    }
   },
   "outputs": [
    {
     "data": {
      "application/vnd.jupyter.widget-view+json": {
       "model_id": "26bc377777dd4a1e969673c7e61a4a11",
       "version_major": 2,
       "version_minor": 0
      },
      "text/plain": [
       "interactive(children=(IntSlider(value=540088, description='Maximum Price', max=7700000, min=75000, style=Slide…"
      ]
     },
     "metadata": {},
     "output_type": "display_data"
    }
   ],
   "source": [
    "widgets.interactive(update_map, df = fixed(df), \n",
    "                    price_limit = price_limit, \n",
    "                    living_limit = living_limit,\n",
    "                    bathrooms_limit = bathrooms_limit,\n",
    "                   basement_limit = basement_limit,\n",
    "                   condition_limit = condition_limit,\n",
    "                   yr_built_limit = yr_built_limit)"
   ]
  },
  {
   "cell_type": "markdown",
   "id": "ab59c72c",
   "metadata": {},
   "source": [
    "## 5. Adicione os seguintes filtros no dashboard:\n",
    "\n",
    "- Filtro por data disponível para compra\n",
    "- Filtro por ano de renovação\n",
    "- Filtro se poussui vista para a água ou não"
   ]
  },
  {
   "cell_type": "code",
   "execution_count": 58,
   "id": "2522d6af",
   "metadata": {
    "ExecuteTime": {
     "end_time": "2021-10-30T17:26:22.195148Z",
     "start_time": "2021-10-30T17:26:21.598719Z"
    }
   },
   "outputs": [],
   "source": [
    "# Imports\n",
    "from matplotlib import pyplot as plt\n",
    "from matplotlib import gridspec\n",
    "import seaborn as sns"
   ]
  },
  {
   "cell_type": "code",
   "execution_count": 41,
   "id": "86bd4216",
   "metadata": {
    "ExecuteTime": {
     "end_time": "2021-10-30T17:04:49.263070Z",
     "start_time": "2021-10-30T17:04:48.925810Z"
    }
   },
   "outputs": [],
   "source": [
    "df['year'] = pd.to_datetime(df['date']).dt.strftime('%Y')\n",
    "df['date'] = pd.to_datetime(df['date']).dt.strftime('%Y-%m-%d')\n",
    "df['year_week'] = pd.to_datetime(df['date']).dt.strftime('%Y-%U')"
   ]
  },
  {
   "cell_type": "code",
   "execution_count": 42,
   "id": "4f5fb5d2",
   "metadata": {
    "ExecuteTime": {
     "end_time": "2021-10-30T17:04:49.382706Z",
     "start_time": "2021-10-30T17:04:49.363481Z"
    }
   },
   "outputs": [
    {
     "data": {
      "text/html": [
       "<div>\n",
       "<style scoped>\n",
       "    .dataframe tbody tr th:only-of-type {\n",
       "        vertical-align: middle;\n",
       "    }\n",
       "\n",
       "    .dataframe tbody tr th {\n",
       "        vertical-align: top;\n",
       "    }\n",
       "\n",
       "    .dataframe thead th {\n",
       "        text-align: right;\n",
       "    }\n",
       "</style>\n",
       "<table border=\"1\" class=\"dataframe\">\n",
       "  <thead>\n",
       "    <tr style=\"text-align: right;\">\n",
       "      <th></th>\n",
       "      <th>id</th>\n",
       "      <th>date</th>\n",
       "      <th>price</th>\n",
       "      <th>bedrooms</th>\n",
       "      <th>bathrooms</th>\n",
       "      <th>sqft_living</th>\n",
       "      <th>sqft_lot</th>\n",
       "      <th>floors</th>\n",
       "      <th>waterfront</th>\n",
       "      <th>view</th>\n",
       "      <th>...</th>\n",
       "      <th>lat</th>\n",
       "      <th>long</th>\n",
       "      <th>sqft_living15</th>\n",
       "      <th>sqft_lot15</th>\n",
       "      <th>level</th>\n",
       "      <th>size</th>\n",
       "      <th>query</th>\n",
       "      <th>is_waterfront</th>\n",
       "      <th>year</th>\n",
       "      <th>year_week</th>\n",
       "    </tr>\n",
       "  </thead>\n",
       "  <tbody>\n",
       "    <tr>\n",
       "      <th>0</th>\n",
       "      <td>7129300520</td>\n",
       "      <td>2014-10-13</td>\n",
       "      <td>221900.0</td>\n",
       "      <td>3</td>\n",
       "      <td>1.00</td>\n",
       "      <td>1180</td>\n",
       "      <td>5650</td>\n",
       "      <td>1.0</td>\n",
       "      <td>0</td>\n",
       "      <td>0</td>\n",
       "      <td>...</td>\n",
       "      <td>47.5112</td>\n",
       "      <td>-122.257</td>\n",
       "      <td>1340</td>\n",
       "      <td>5650</td>\n",
       "      <td>level_0</td>\n",
       "      <td>size_0</td>\n",
       "      <td>47.5112,-122.257</td>\n",
       "      <td>no</td>\n",
       "      <td>2014</td>\n",
       "      <td>2014-41</td>\n",
       "    </tr>\n",
       "    <tr>\n",
       "      <th>1</th>\n",
       "      <td>6414100192</td>\n",
       "      <td>2014-12-09</td>\n",
       "      <td>538000.0</td>\n",
       "      <td>3</td>\n",
       "      <td>2.25</td>\n",
       "      <td>2570</td>\n",
       "      <td>7242</td>\n",
       "      <td>2.0</td>\n",
       "      <td>0</td>\n",
       "      <td>0</td>\n",
       "      <td>...</td>\n",
       "      <td>47.7210</td>\n",
       "      <td>-122.319</td>\n",
       "      <td>1690</td>\n",
       "      <td>7639</td>\n",
       "      <td>level_2</td>\n",
       "      <td>size_3</td>\n",
       "      <td>47.721,-122.319</td>\n",
       "      <td>no</td>\n",
       "      <td>2014</td>\n",
       "      <td>2014-49</td>\n",
       "    </tr>\n",
       "    <tr>\n",
       "      <th>2</th>\n",
       "      <td>5631500400</td>\n",
       "      <td>2015-02-25</td>\n",
       "      <td>180000.0</td>\n",
       "      <td>2</td>\n",
       "      <td>1.00</td>\n",
       "      <td>770</td>\n",
       "      <td>10000</td>\n",
       "      <td>1.0</td>\n",
       "      <td>0</td>\n",
       "      <td>0</td>\n",
       "      <td>...</td>\n",
       "      <td>47.7379</td>\n",
       "      <td>-122.233</td>\n",
       "      <td>2720</td>\n",
       "      <td>8062</td>\n",
       "      <td>level_0</td>\n",
       "      <td>size_0</td>\n",
       "      <td>47.7379,-122.233</td>\n",
       "      <td>no</td>\n",
       "      <td>2015</td>\n",
       "      <td>2015-08</td>\n",
       "    </tr>\n",
       "    <tr>\n",
       "      <th>3</th>\n",
       "      <td>2487200875</td>\n",
       "      <td>2014-12-09</td>\n",
       "      <td>604000.0</td>\n",
       "      <td>4</td>\n",
       "      <td>3.00</td>\n",
       "      <td>1960</td>\n",
       "      <td>5000</td>\n",
       "      <td>1.0</td>\n",
       "      <td>0</td>\n",
       "      <td>0</td>\n",
       "      <td>...</td>\n",
       "      <td>47.5208</td>\n",
       "      <td>-122.393</td>\n",
       "      <td>1360</td>\n",
       "      <td>5000</td>\n",
       "      <td>level_2</td>\n",
       "      <td>size_2</td>\n",
       "      <td>47.5208,-122.393</td>\n",
       "      <td>no</td>\n",
       "      <td>2014</td>\n",
       "      <td>2014-49</td>\n",
       "    </tr>\n",
       "    <tr>\n",
       "      <th>4</th>\n",
       "      <td>1954400510</td>\n",
       "      <td>2015-02-18</td>\n",
       "      <td>510000.0</td>\n",
       "      <td>3</td>\n",
       "      <td>2.00</td>\n",
       "      <td>1680</td>\n",
       "      <td>8080</td>\n",
       "      <td>1.0</td>\n",
       "      <td>0</td>\n",
       "      <td>0</td>\n",
       "      <td>...</td>\n",
       "      <td>47.6168</td>\n",
       "      <td>-122.045</td>\n",
       "      <td>1800</td>\n",
       "      <td>7503</td>\n",
       "      <td>level_2</td>\n",
       "      <td>size_1</td>\n",
       "      <td>47.6168,-122.045</td>\n",
       "      <td>no</td>\n",
       "      <td>2015</td>\n",
       "      <td>2015-07</td>\n",
       "    </tr>\n",
       "  </tbody>\n",
       "</table>\n",
       "<p>5 rows × 27 columns</p>\n",
       "</div>"
      ],
      "text/plain": [
       "           id        date     price  bedrooms  bathrooms  sqft_living  \\\n",
       "0  7129300520  2014-10-13  221900.0         3       1.00         1180   \n",
       "1  6414100192  2014-12-09  538000.0         3       2.25         2570   \n",
       "2  5631500400  2015-02-25  180000.0         2       1.00          770   \n",
       "3  2487200875  2014-12-09  604000.0         4       3.00         1960   \n",
       "4  1954400510  2015-02-18  510000.0         3       2.00         1680   \n",
       "\n",
       "   sqft_lot  floors  waterfront  view  ...      lat     long  sqft_living15  \\\n",
       "0      5650     1.0           0     0  ...  47.5112 -122.257           1340   \n",
       "1      7242     2.0           0     0  ...  47.7210 -122.319           1690   \n",
       "2     10000     1.0           0     0  ...  47.7379 -122.233           2720   \n",
       "3      5000     1.0           0     0  ...  47.5208 -122.393           1360   \n",
       "4      8080     1.0           0     0  ...  47.6168 -122.045           1800   \n",
       "\n",
       "   sqft_lot15    level    size             query  is_waterfront  year  \\\n",
       "0        5650  level_0  size_0  47.5112,-122.257             no  2014   \n",
       "1        7639  level_2  size_3   47.721,-122.319             no  2014   \n",
       "2        8062  level_0  size_0  47.7379,-122.233             no  2015   \n",
       "3        5000  level_2  size_2  47.5208,-122.393             no  2014   \n",
       "4        7503  level_2  size_1  47.6168,-122.045             no  2015   \n",
       "\n",
       "   year_week  \n",
       "0    2014-41  \n",
       "1    2014-49  \n",
       "2    2015-08  \n",
       "3    2014-49  \n",
       "4    2015-07  \n",
       "\n",
       "[5 rows x 27 columns]"
      ]
     },
     "execution_count": 42,
     "metadata": {},
     "output_type": "execute_result"
    }
   ],
   "source": [
    "df.head()"
   ]
  },
  {
   "cell_type": "code",
   "execution_count": 43,
   "id": "ef1cb2e8",
   "metadata": {
    "ExecuteTime": {
     "end_time": "2021-10-30T17:04:49.818881Z",
     "start_time": "2021-10-30T17:04:49.813340Z"
    }
   },
   "outputs": [
    {
     "data": {
      "text/plain": [
       "id                 int64\n",
       "date              object\n",
       "price            float64\n",
       "bedrooms           int64\n",
       "bathrooms        float64\n",
       "sqft_living        int64\n",
       "sqft_lot           int64\n",
       "floors           float64\n",
       "waterfront         int64\n",
       "view               int64\n",
       "condition          int64\n",
       "grade              int64\n",
       "sqft_above         int64\n",
       "sqft_basement      int64\n",
       "yr_built           int64\n",
       "yr_renovated       int64\n",
       "zipcode            int64\n",
       "lat              float64\n",
       "long             float64\n",
       "sqft_living15      int64\n",
       "sqft_lot15         int64\n",
       "level             object\n",
       "size              object\n",
       "query             object\n",
       "is_waterfront     object\n",
       "year              object\n",
       "year_week         object\n",
       "dtype: object"
      ]
     },
     "execution_count": 43,
     "metadata": {},
     "output_type": "execute_result"
    }
   ],
   "source": [
    "df.dtypes"
   ]
  },
  {
   "cell_type": "code",
   "execution_count": 53,
   "id": "053dc600",
   "metadata": {
    "ExecuteTime": {
     "end_time": "2021-10-30T17:24:46.990826Z",
     "start_time": "2021-10-30T17:24:46.952533Z"
    }
   },
   "outputs": [],
   "source": [
    "# -----------\n",
    "# Filtering\n",
    "# -----------\n",
    "date_limit = widgets.SelectionSlider(\n",
    "    options = df['date'].sort_values().unique().tolist(),\n",
    "    value = '2014-12-01',\n",
    "    description = \"Max available date\",\n",
    "    disable = False,\n",
    "    continuous_update = False,\n",
    "    style = {'description_width':'initial'},\n",
    "    redout = True\n",
    ")\n",
    "\n",
    "year_limit = widgets.SelectionSlider(\n",
    "    options = df['yr_renovated'].sort_values().unique().tolist(),\n",
    "    value = 2000,\n",
    "    description = \"Max year\",\n",
    "    disable = False,\n",
    "    continuous_update = False,\n",
    "    style = {'description_width':'initial'},\n",
    "    redout = True\n",
    ")\n",
    "\n",
    "waterfront_limit = widgets.Checkbox(\n",
    "    value = False,\n",
    "    description = \"Is Waterfront?\",\n",
    "    disable = False,\n",
    "    indent = False\n",
    ")"
   ]
  },
  {
   "cell_type": "code",
   "execution_count": 54,
   "id": "8543cc1e",
   "metadata": {
    "ExecuteTime": {
     "end_time": "2021-10-30T17:24:48.325142Z",
     "start_time": "2021-10-30T17:24:48.320390Z"
    }
   },
   "outputs": [
    {
     "data": {
      "application/vnd.jupyter.widget-view+json": {
       "model_id": "61d5c627235e4836b5029d7498737bdd",
       "version_major": 2,
       "version_minor": 0
      },
      "text/plain": [
       "Checkbox(value=False, description='Is Waterfront?', indent=False)"
      ]
     },
     "metadata": {},
     "output_type": "display_data"
    }
   ],
   "source": [
    "waterfront_limit"
   ]
  },
  {
   "cell_type": "code",
   "execution_count": 80,
   "id": "cf4e5c12",
   "metadata": {
    "ExecuteTime": {
     "end_time": "2021-10-30T21:34:50.061510Z",
     "start_time": "2021-10-30T21:34:50.054742Z"
    }
   },
   "outputs": [],
   "source": [
    "def update_map(df, date_limit, year_limit, waterfront_limit):\n",
    "    # filtering data\n",
    "    df = df[(df['date'] < date_limit) &\n",
    "       (df['yr_renovated'] >= year_limit) &\n",
    "       (df['waterfront'] == waterfront_limit)\n",
    "      ].copy()\n",
    "    \n",
    "    fig = plt.figure(figsize=(24, 12))\n",
    "    specs = gridspec.GridSpec(ncols = 2, nrows = 2, figure = fig)\n",
    "    \n",
    "    ax1 = fig.add_subplot(specs[0, :])\n",
    "    ax2 = fig.add_subplot(specs[1, 0])\n",
    "    ax3 = fig.add_subplot(specs[1, 1])\n",
    "\n",
    "    # 1st plot\n",
    "    by_year = df[['price', 'year']].groupby('year').sum().reset_index()\n",
    "    sns.barplot(x = 'year', y = 'price', data = by_year, ax = ax1)\n",
    "    \n",
    "    # 2nd plot\n",
    "    by_day = df[['price', 'date']].groupby('date').mean().reset_index()\n",
    "    sns.lineplot(x = 'date', y = 'price', data = by_day, ax = ax2)\n",
    "    plt.xticks(rotation = 90)\n",
    "    \n",
    "    # 3rd plot\n",
    "    by_week_of_year = df[['price', 'year_week']].groupby('year_week').mean().reset_index()\n",
    "    sns.barplot(x = 'year_week', y = 'price', data = by_week_of_year, ax = ax3)\n",
    "    plt.xticks(rotation = 90)\n",
    "    "
   ]
  },
  {
   "cell_type": "code",
   "execution_count": 81,
   "id": "7f76c062",
   "metadata": {
    "ExecuteTime": {
     "end_time": "2021-10-30T21:34:50.959029Z",
     "start_time": "2021-10-30T21:34:50.326927Z"
    }
   },
   "outputs": [
    {
     "data": {
      "application/vnd.jupyter.widget-view+json": {
       "model_id": "c484582ab88e48d1b77aefc157878b06",
       "version_major": 2,
       "version_minor": 0
      },
      "text/plain": [
       "interactive(children=(SelectionSlider(continuous_update=False, description='Max available date', index=334, op…"
      ]
     },
     "metadata": {},
     "output_type": "display_data"
    },
    {
     "data": {
      "image/png": "[encoded data removed]",
      "text/plain": [
       "<Figure size 1728x864 with 3 Axes>"
      ]
     },
     "metadata": {
      "needs_background": "light"
     },
     "output_type": "display_data"
    }
   ],
   "source": [
    "widgets.interactive(update_map,\n",
    "                   df = fixed(df),\n",
    "                   date_limit = date_limit,\n",
    "                   year_limit = year_limit,\n",
    "                   waterfront_limit = waterfront_limit)"
   ]
  },
  {
   "cell_type": "code",
   "execution_count": null,
   "id": "3713a91d",
   "metadata": {},
   "outputs": [],
   "source": []
  },
  {
   "cell_type": "code",
   "execution_count": null,
   "id": "5d1bb7ef",
   "metadata": {},
   "outputs": [],
   "source": []
  }
 ],
 "metadata": {
  "kernelspec": {
   "display_name": "Python 3 (ipykernel)",
   "language": "python",
   "name": "python3"
  },
  "language_info": {
   "codemirror_mode": {
    "name": "ipython",
    "version": 3
   },
   "file_extension": ".py",
   "mimetype": "text/x-python",
   "name": "python",
   "nbconvert_exporter": "python",
   "pygments_lexer": "ipython3",
   "version": "3.9.7"
  }
 },
 "nbformat": 4,
 "nbformat_minor": 5
}
