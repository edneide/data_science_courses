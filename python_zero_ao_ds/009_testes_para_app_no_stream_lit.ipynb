{
 "cells": [
  {
   "cell_type": "markdown",
   "id": "c0be365e",
   "metadata": {},
   "source": [
    "# 0. Imports"
   ]
  },
  {
   "cell_type": "code",
   "execution_count": 1,
   "id": "d1ace284",
   "metadata": {
    "ExecuteTime": {
     "end_time": "2021-11-18T11:17:24.971759Z",
     "start_time": "2021-11-18T11:17:24.099162Z"
    }
   },
   "outputs": [],
   "source": [
    "import pandas as pd\n",
    "import numpy as np\n",
    "import plotly.express as px\n",
    "from datetime import datetime"
   ]
  },
  {
   "cell_type": "markdown",
   "id": "00acd632",
   "metadata": {},
   "source": [
    "# 1. Load Dataframe"
   ]
  },
  {
   "cell_type": "code",
   "execution_count": 2,
   "id": "3c91bad6",
   "metadata": {
    "ExecuteTime": {
     "end_time": "2021-11-18T11:17:25.213864Z",
     "start_time": "2021-11-18T11:17:25.158707Z"
    }
   },
   "outputs": [],
   "source": [
    "data = pd.read_csv('datasets/kc_house_data.csv')"
   ]
  },
  {
   "cell_type": "code",
   "execution_count": 3,
   "id": "0d7cac2b",
   "metadata": {
    "ExecuteTime": {
     "end_time": "2021-11-18T11:17:25.486635Z",
     "start_time": "2021-11-18T11:17:25.458991Z"
    }
   },
   "outputs": [
    {
     "data": {
      "text/html": [
       "<div>\n",
       "<style scoped>\n",
       "    .dataframe tbody tr th:only-of-type {\n",
       "        vertical-align: middle;\n",
       "    }\n",
       "\n",
       "    .dataframe tbody tr th {\n",
       "        vertical-align: top;\n",
       "    }\n",
       "\n",
       "    .dataframe thead th {\n",
       "        text-align: right;\n",
       "    }\n",
       "</style>\n",
       "<table border=\"1\" class=\"dataframe\">\n",
       "  <thead>\n",
       "    <tr style=\"text-align: right;\">\n",
       "      <th></th>\n",
       "      <th>id</th>\n",
       "      <th>date</th>\n",
       "      <th>price</th>\n",
       "      <th>bedrooms</th>\n",
       "      <th>bathrooms</th>\n",
       "      <th>sqft_living</th>\n",
       "      <th>sqft_lot</th>\n",
       "      <th>floors</th>\n",
       "      <th>waterfront</th>\n",
       "      <th>view</th>\n",
       "      <th>...</th>\n",
       "      <th>grade</th>\n",
       "      <th>sqft_above</th>\n",
       "      <th>sqft_basement</th>\n",
       "      <th>yr_built</th>\n",
       "      <th>yr_renovated</th>\n",
       "      <th>zipcode</th>\n",
       "      <th>lat</th>\n",
       "      <th>long</th>\n",
       "      <th>sqft_living15</th>\n",
       "      <th>sqft_lot15</th>\n",
       "    </tr>\n",
       "  </thead>\n",
       "  <tbody>\n",
       "    <tr>\n",
       "      <th>0</th>\n",
       "      <td>7129300520</td>\n",
       "      <td>20141013T000000</td>\n",
       "      <td>221900.0</td>\n",
       "      <td>3</td>\n",
       "      <td>1.00</td>\n",
       "      <td>1180</td>\n",
       "      <td>5650</td>\n",
       "      <td>1.0</td>\n",
       "      <td>0</td>\n",
       "      <td>0</td>\n",
       "      <td>...</td>\n",
       "      <td>7</td>\n",
       "      <td>1180</td>\n",
       "      <td>0</td>\n",
       "      <td>1955</td>\n",
       "      <td>0</td>\n",
       "      <td>98178</td>\n",
       "      <td>47.5112</td>\n",
       "      <td>-122.257</td>\n",
       "      <td>1340</td>\n",
       "      <td>5650</td>\n",
       "    </tr>\n",
       "    <tr>\n",
       "      <th>1</th>\n",
       "      <td>6414100192</td>\n",
       "      <td>20141209T000000</td>\n",
       "      <td>538000.0</td>\n",
       "      <td>3</td>\n",
       "      <td>2.25</td>\n",
       "      <td>2570</td>\n",
       "      <td>7242</td>\n",
       "      <td>2.0</td>\n",
       "      <td>0</td>\n",
       "      <td>0</td>\n",
       "      <td>...</td>\n",
       "      <td>7</td>\n",
       "      <td>2170</td>\n",
       "      <td>400</td>\n",
       "      <td>1951</td>\n",
       "      <td>1991</td>\n",
       "      <td>98125</td>\n",
       "      <td>47.7210</td>\n",
       "      <td>-122.319</td>\n",
       "      <td>1690</td>\n",
       "      <td>7639</td>\n",
       "    </tr>\n",
       "    <tr>\n",
       "      <th>2</th>\n",
       "      <td>5631500400</td>\n",
       "      <td>20150225T000000</td>\n",
       "      <td>180000.0</td>\n",
       "      <td>2</td>\n",
       "      <td>1.00</td>\n",
       "      <td>770</td>\n",
       "      <td>10000</td>\n",
       "      <td>1.0</td>\n",
       "      <td>0</td>\n",
       "      <td>0</td>\n",
       "      <td>...</td>\n",
       "      <td>6</td>\n",
       "      <td>770</td>\n",
       "      <td>0</td>\n",
       "      <td>1933</td>\n",
       "      <td>0</td>\n",
       "      <td>98028</td>\n",
       "      <td>47.7379</td>\n",
       "      <td>-122.233</td>\n",
       "      <td>2720</td>\n",
       "      <td>8062</td>\n",
       "    </tr>\n",
       "    <tr>\n",
       "      <th>3</th>\n",
       "      <td>2487200875</td>\n",
       "      <td>20141209T000000</td>\n",
       "      <td>604000.0</td>\n",
       "      <td>4</td>\n",
       "      <td>3.00</td>\n",
       "      <td>1960</td>\n",
       "      <td>5000</td>\n",
       "      <td>1.0</td>\n",
       "      <td>0</td>\n",
       "      <td>0</td>\n",
       "      <td>...</td>\n",
       "      <td>7</td>\n",
       "      <td>1050</td>\n",
       "      <td>910</td>\n",
       "      <td>1965</td>\n",
       "      <td>0</td>\n",
       "      <td>98136</td>\n",
       "      <td>47.5208</td>\n",
       "      <td>-122.393</td>\n",
       "      <td>1360</td>\n",
       "      <td>5000</td>\n",
       "    </tr>\n",
       "    <tr>\n",
       "      <th>4</th>\n",
       "      <td>1954400510</td>\n",
       "      <td>20150218T000000</td>\n",
       "      <td>510000.0</td>\n",
       "      <td>3</td>\n",
       "      <td>2.00</td>\n",
       "      <td>1680</td>\n",
       "      <td>8080</td>\n",
       "      <td>1.0</td>\n",
       "      <td>0</td>\n",
       "      <td>0</td>\n",
       "      <td>...</td>\n",
       "      <td>8</td>\n",
       "      <td>1680</td>\n",
       "      <td>0</td>\n",
       "      <td>1987</td>\n",
       "      <td>0</td>\n",
       "      <td>98074</td>\n",
       "      <td>47.6168</td>\n",
       "      <td>-122.045</td>\n",
       "      <td>1800</td>\n",
       "      <td>7503</td>\n",
       "    </tr>\n",
       "  </tbody>\n",
       "</table>\n",
       "<p>5 rows × 21 columns</p>\n",
       "</div>"
      ],
      "text/plain": [
       "           id             date     price  bedrooms  bathrooms  sqft_living  \\\n",
       "0  7129300520  20141013T000000  221900.0         3       1.00         1180   \n",
       "1  6414100192  20141209T000000  538000.0         3       2.25         2570   \n",
       "2  5631500400  20150225T000000  180000.0         2       1.00          770   \n",
       "3  2487200875  20141209T000000  604000.0         4       3.00         1960   \n",
       "4  1954400510  20150218T000000  510000.0         3       2.00         1680   \n",
       "\n",
       "   sqft_lot  floors  waterfront  view  ...  grade  sqft_above  sqft_basement  \\\n",
       "0      5650     1.0           0     0  ...      7        1180              0   \n",
       "1      7242     2.0           0     0  ...      7        2170            400   \n",
       "2     10000     1.0           0     0  ...      6         770              0   \n",
       "3      5000     1.0           0     0  ...      7        1050            910   \n",
       "4      8080     1.0           0     0  ...      8        1680              0   \n",
       "\n",
       "   yr_built  yr_renovated  zipcode      lat     long  sqft_living15  \\\n",
       "0      1955             0    98178  47.5112 -122.257           1340   \n",
       "1      1951          1991    98125  47.7210 -122.319           1690   \n",
       "2      1933             0    98028  47.7379 -122.233           2720   \n",
       "3      1965             0    98136  47.5208 -122.393           1360   \n",
       "4      1987             0    98074  47.6168 -122.045           1800   \n",
       "\n",
       "   sqft_lot15  \n",
       "0        5650  \n",
       "1        7639  \n",
       "2        8062  \n",
       "3        5000  \n",
       "4        7503  \n",
       "\n",
       "[5 rows x 21 columns]"
      ]
     },
     "execution_count": 3,
     "metadata": {},
     "output_type": "execute_result"
    }
   ],
   "source": [
    "data.head()"
   ]
  },
  {
   "cell_type": "code",
   "execution_count": 4,
   "id": "711bfc1f",
   "metadata": {
    "ExecuteTime": {
     "end_time": "2021-11-18T11:17:25.665054Z",
     "start_time": "2021-11-18T11:17:25.661292Z"
    }
   },
   "outputs": [
    {
     "data": {
      "text/plain": [
       "(21613, 21)"
      ]
     },
     "execution_count": 4,
     "metadata": {},
     "output_type": "execute_result"
    }
   ],
   "source": [
    "data.shape"
   ]
  },
  {
   "cell_type": "code",
   "execution_count": 5,
   "id": "8d35a88a",
   "metadata": {
    "ExecuteTime": {
     "end_time": "2021-11-18T11:17:26.308248Z",
     "start_time": "2021-11-18T11:17:26.304427Z"
    }
   },
   "outputs": [
    {
     "data": {
      "text/plain": [
       "Index(['id', 'date', 'price', 'bedrooms', 'bathrooms', 'sqft_living',\n",
       "       'sqft_lot', 'floors', 'waterfront', 'view', 'condition', 'grade',\n",
       "       'sqft_above', 'sqft_basement', 'yr_built', 'yr_renovated', 'zipcode',\n",
       "       'lat', 'long', 'sqft_living15', 'sqft_lot15'],\n",
       "      dtype='object')"
      ]
     },
     "execution_count": 5,
     "metadata": {},
     "output_type": "execute_result"
    }
   ],
   "source": [
    "data.columns"
   ]
  },
  {
   "cell_type": "code",
   "execution_count": 6,
   "id": "b791de1d",
   "metadata": {
    "ExecuteTime": {
     "end_time": "2021-11-18T11:17:26.996683Z",
     "start_time": "2021-11-18T11:17:26.991138Z"
    }
   },
   "outputs": [
    {
     "data": {
      "text/plain": [
       "id                 int64\n",
       "date              object\n",
       "price            float64\n",
       "bedrooms           int64\n",
       "bathrooms        float64\n",
       "sqft_living        int64\n",
       "sqft_lot           int64\n",
       "floors           float64\n",
       "waterfront         int64\n",
       "view               int64\n",
       "condition          int64\n",
       "grade              int64\n",
       "sqft_above         int64\n",
       "sqft_basement      int64\n",
       "yr_built           int64\n",
       "yr_renovated       int64\n",
       "zipcode            int64\n",
       "lat              float64\n",
       "long             float64\n",
       "sqft_living15      int64\n",
       "sqft_lot15         int64\n",
       "dtype: object"
      ]
     },
     "execution_count": 6,
     "metadata": {},
     "output_type": "execute_result"
    }
   ],
   "source": [
    "data.dtypes"
   ]
  },
  {
   "cell_type": "markdown",
   "id": "cdb47273",
   "metadata": {},
   "source": [
    "# Transformação da data"
   ]
  },
  {
   "cell_type": "code",
   "execution_count": 7,
   "id": "fcc2321e",
   "metadata": {
    "ExecuteTime": {
     "end_time": "2021-11-18T11:17:29.290922Z",
     "start_time": "2021-11-18T11:17:29.285514Z"
    }
   },
   "outputs": [
    {
     "data": {
      "text/plain": [
       "0    20141013T000000\n",
       "1    20141209T000000\n",
       "2    20150225T000000\n",
       "3    20141209T000000\n",
       "4    20150218T000000\n",
       "Name: date, dtype: object"
      ]
     },
     "execution_count": 7,
     "metadata": {},
     "output_type": "execute_result"
    }
   ],
   "source": [
    "data['date'].head()"
   ]
  },
  {
   "cell_type": "code",
   "execution_count": 17,
   "id": "8b4afa67",
   "metadata": {
    "ExecuteTime": {
     "end_time": "2021-11-18T11:31:23.827862Z",
     "start_time": "2021-11-18T11:31:23.802367Z"
    }
   },
   "outputs": [],
   "source": [
    "# Converitng data from object to date\n",
    "data['date'] = pd.to_datetime(data['date']).dt.date"
   ]
  },
  {
   "cell_type": "code",
   "execution_count": 18,
   "id": "594d649d",
   "metadata": {
    "ExecuteTime": {
     "end_time": "2021-11-18T11:31:24.830918Z",
     "start_time": "2021-11-18T11:31:24.825405Z"
    }
   },
   "outputs": [
    {
     "data": {
      "text/plain": [
       "0    2014-10-13\n",
       "1    2014-12-09\n",
       "2    2015-02-25\n",
       "3    2014-12-09\n",
       "4    2015-02-18\n",
       "Name: date, dtype: object"
      ]
     },
     "execution_count": 18,
     "metadata": {},
     "output_type": "execute_result"
    }
   ],
   "source": [
    "data['date'].head()"
   ]
  },
  {
   "cell_type": "code",
   "execution_count": 19,
   "id": "2b77f226",
   "metadata": {
    "ExecuteTime": {
     "end_time": "2021-11-18T11:31:37.249945Z",
     "start_time": "2021-11-18T11:31:37.245511Z"
    }
   },
   "outputs": [
    {
     "data": {
      "text/plain": [
       "datetime.date(2014, 10, 13)"
      ]
     },
     "execution_count": 19,
     "metadata": {},
     "output_type": "execute_result"
    }
   ],
   "source": [
    "data['date'][0]"
   ]
  },
  {
   "cell_type": "code",
   "execution_count": 20,
   "id": "fcd3ec87",
   "metadata": {
    "ExecuteTime": {
     "end_time": "2021-11-18T11:32:05.408058Z",
     "start_time": "2021-11-18T11:32:05.403945Z"
    }
   },
   "outputs": [],
   "source": [
    "min_date = data['date'].min()"
   ]
  },
  {
   "cell_type": "code",
   "execution_count": 21,
   "id": "3bfc489e",
   "metadata": {
    "ExecuteTime": {
     "end_time": "2021-11-18T11:32:06.218482Z",
     "start_time": "2021-11-18T11:32:06.213673Z"
    }
   },
   "outputs": [],
   "source": [
    "max_date = data['date'].max()"
   ]
  },
  {
   "cell_type": "code",
   "execution_count": 22,
   "id": "9f5db4ea",
   "metadata": {
    "ExecuteTime": {
     "end_time": "2021-11-18T11:32:08.276751Z",
     "start_time": "2021-11-18T11:32:08.272704Z"
    }
   },
   "outputs": [
    {
     "data": {
      "text/plain": [
       "datetime.date"
      ]
     },
     "execution_count": 22,
     "metadata": {},
     "output_type": "execute_result"
    }
   ],
   "source": [
    "type(min_date)"
   ]
  },
  {
   "cell_type": "code",
   "execution_count": 23,
   "id": "2be3fcf3",
   "metadata": {
    "ExecuteTime": {
     "end_time": "2021-11-18T11:32:12.518216Z",
     "start_time": "2021-11-18T11:32:12.513762Z"
    }
   },
   "outputs": [
    {
     "data": {
      "text/plain": [
       "datetime.date"
      ]
     },
     "execution_count": 23,
     "metadata": {},
     "output_type": "execute_result"
    }
   ],
   "source": [
    "type(data['date'][0])"
   ]
  },
  {
   "cell_type": "code",
   "execution_count": 24,
   "id": "d09650e0",
   "metadata": {
    "ExecuteTime": {
     "end_time": "2021-11-18T11:32:34.861151Z",
     "start_time": "2021-11-18T11:32:34.857190Z"
    }
   },
   "outputs": [
    {
     "data": {
      "text/plain": [
       "True"
      ]
     },
     "execution_count": 24,
     "metadata": {},
     "output_type": "execute_result"
    }
   ],
   "source": [
    "data['date'][0] > min_date"
   ]
  },
  {
   "cell_type": "markdown",
   "id": "83053041",
   "metadata": {},
   "source": [
    "# 2. Filters"
   ]
  },
  {
   "cell_type": "code",
   "execution_count": null,
   "id": "2deb41bf",
   "metadata": {
    "ExecuteTime": {
     "end_time": "2021-11-11T13:24:49.311362Z",
     "start_time": "2021-11-11T13:24:49.307601Z"
    }
   },
   "outputs": [],
   "source": [
    "price_limit = data['price'].mean()\n",
    "bedrooms_values = data['bedrooms'].unique()"
   ]
  },
  {
   "cell_type": "code",
   "execution_count": null,
   "id": "27dd888c",
   "metadata": {
    "ExecuteTime": {
     "end_time": "2021-11-11T13:25:58.454749Z",
     "start_time": "2021-11-11T13:25:58.451042Z"
    }
   },
   "outputs": [],
   "source": [
    "bedrooms_values"
   ]
  },
  {
   "cell_type": "code",
   "execution_count": null,
   "id": "0452e1b3",
   "metadata": {
    "ExecuteTime": {
     "end_time": "2021-11-11T13:24:50.156278Z",
     "start_time": "2021-11-11T13:24:50.151912Z"
    }
   },
   "outputs": [],
   "source": [
    "type(bedrooms_values)"
   ]
  },
  {
   "cell_type": "code",
   "execution_count": null,
   "id": "ebca90dc",
   "metadata": {
    "ExecuteTime": {
     "end_time": "2021-11-11T13:30:55.953481Z",
     "start_time": "2021-11-11T13:30:55.951017Z"
    }
   },
   "outputs": [],
   "source": [
    "bedrooms_filter = [0, 3, 1]"
   ]
  },
  {
   "cell_type": "code",
   "execution_count": null,
   "id": "6d1118ba",
   "metadata": {
    "ExecuteTime": {
     "end_time": "2021-11-11T13:30:56.415403Z",
     "start_time": "2021-11-11T13:30:56.411777Z"
    }
   },
   "outputs": [],
   "source": [
    "bedrooms_values[bedrooms_filter]"
   ]
  },
  {
   "cell_type": "code",
   "execution_count": null,
   "id": "4a8905c9",
   "metadata": {
    "ExecuteTime": {
     "end_time": "2021-11-11T13:30:56.979219Z",
     "start_time": "2021-11-11T13:30:56.975034Z"
    }
   },
   "outputs": [],
   "source": [
    "bedrooms_values[bedrooms_filter].tolist()"
   ]
  },
  {
   "cell_type": "code",
   "execution_count": null,
   "id": "acceb457",
   "metadata": {
    "ExecuteTime": {
     "end_time": "2021-11-11T13:30:59.623235Z",
     "start_time": "2021-11-11T13:30:59.614010Z"
    }
   },
   "outputs": [],
   "source": [
    "data[data['bedrooms'].isin(bedrooms_values[bedrooms_filter].tolist())][['id','bedrooms']]"
   ]
  },
  {
   "cell_type": "code",
   "execution_count": null,
   "id": "842b0fd7",
   "metadata": {},
   "outputs": [],
   "source": []
  },
  {
   "cell_type": "code",
   "execution_count": null,
   "id": "1831b1a7",
   "metadata": {},
   "outputs": [],
   "source": []
  },
  {
   "cell_type": "code",
   "execution_count": null,
   "id": "3c3550d9",
   "metadata": {},
   "outputs": [],
   "source": []
  },
  {
   "cell_type": "code",
   "execution_count": null,
   "id": "b4537ac2",
   "metadata": {},
   "outputs": [],
   "source": []
  },
  {
   "cell_type": "code",
   "execution_count": null,
   "id": "9313d25b",
   "metadata": {
    "ExecuteTime": {
     "end_time": "2021-11-11T13:32:00.730551Z",
     "start_time": "2021-11-11T13:32:00.717009Z"
    }
   },
   "outputs": [],
   "source": [
    "data[(data['price'] <= price_limit) & (data['bedrooms'].isin(bedrooms_values[bedrooms_filter].tolist()))][['id', 'lat', 'long', 'price', 'bedrooms']]"
   ]
  },
  {
   "cell_type": "code",
   "execution_count": null,
   "id": "537e68bd",
   "metadata": {},
   "outputs": [],
   "source": []
  }
 ],
 "metadata": {
  "kernelspec": {
   "display_name": "Python 3 (ipykernel)",
   "language": "python",
   "name": "python3"
  },
  "language_info": {
   "codemirror_mode": {
    "name": "ipython",
    "version": 3
   },
   "file_extension": ".py",
   "mimetype": "text/x-python",
   "name": "python",
   "nbconvert_exporter": "python",
   "pygments_lexer": "ipython3",
   "version": "3.9.7"
  }
 },
 "nbformat": 4,
 "nbformat_minor": 5
}
