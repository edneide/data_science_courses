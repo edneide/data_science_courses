{
 "cells": [
  {
   "cell_type": "markdown",
   "id": "a6eab9f6",
   "metadata": {
    "heading_collapsed": true
   },
   "source": [
    "# <span style=\"color:#E18C12\">0. Imports</span> "
   ]
  },
  {
   "cell_type": "code",
   "execution_count": 4,
   "id": "39d02a1d",
   "metadata": {
    "ExecuteTime": {
     "end_time": "2022-05-05T18:47:18.703870Z",
     "start_time": "2022-05-05T18:47:18.700688Z"
    },
    "hidden": true
   },
   "outputs": [],
   "source": [
    "from sklearn import datasets\n",
    "import pandas as pd\n",
    "import numpy as np\n",
    "import matplotlib.pyplot as plt\n",
    "import seaborn as sns\n",
    "plt.style.use('ggplot')"
   ]
  },
  {
   "cell_type": "markdown",
   "id": "101335e6",
   "metadata": {
    "heading_collapsed": true
   },
   "source": [
    "# <span style=\"color:#E18C12\">1. Classification Metrics</span>"
   ]
  },
  {
   "cell_type": "markdown",
   "id": "55e32bce",
   "metadata": {
    "hidden": true
   },
   "source": [
    "- Measuring model performance with accuracy:\n",
    "    + Fraction of correctly classified samples\n",
    "    + Not always a useful metric\n",
    "\n",
    "- One example: <span style=\"color:blue\"><b>class imbalance</b></span>\n",
    "    + Imagine you need to classify an e-mail as spam or not-spam:\n",
    "        + 99% of emails in your data set are real; 1% of emails are spam\n",
    "        + Could build a classifier that predicts ALL emails as real.\n",
    "        + It would be 99% accurate!\n",
    "        + But horriblw at actually classyfing spam\n",
    "\n",
    "So, we need more nuanced metrics.\n",
    "        "
   ]
  },
  {
   "cell_type": "markdown",
   "id": "fc3f8081",
   "metadata": {
    "ExecuteTime": {
     "end_time": "2022-05-04T22:14:55.475041Z",
     "start_time": "2022-05-04T22:14:55.461728Z"
    },
    "hidden": true
   },
   "source": [
    "**CONFUSION MATRIX**\n",
    "\n",
    "|                  | Predicted: Spam| Predicted: Not Spam  |                   |\n",
    "|:----------------:|:--------------:|:-------------------:|:-------------------:|\n",
    "| **Actual: Spam**     |  <span style=\"color:green\">True Positive</span>  |<span style=\"color:red\">False Negative</span> | tp + fn\n",
    "| **Actual: Not Spam** |  <span style=\"color:red\">False Positive</span> | <span style=\"color:green\">True Negative</span>| fp + tn\n",
    "| |tp + fp|fn + tn|tp + fn + fp + tn|"
   ]
  },
  {
   "cell_type": "markdown",
   "id": "f5d5783c",
   "metadata": {
    "hidden": true
   },
   "source": [
    "- Accuracy\n",
    "\n",
    "$$\n",
    "\\dfrac{tp + tn}{tp + tn + fp + fn}\n",
    "$$"
   ]
  },
  {
   "cell_type": "markdown",
   "id": "e39b66e4",
   "metadata": {
    "ExecuteTime": {
     "end_time": "2022-05-04T22:25:10.594063Z",
     "start_time": "2022-05-04T22:25:10.590013Z"
    },
    "heading_collapsed": true,
    "hidden": true
   },
   "source": [
    "## <span style=\"color:#12CBE1\">1.1. Metrics from the confusion matrix</span>"
   ]
  },
  {
   "cell_type": "markdown",
   "id": "f2f01ce0",
   "metadata": {
    "hidden": true
   },
   "source": [
    "- Precision = $\\dfrac{tp}{tp + fp}$\n",
    "\n",
    "\n",
    "\n",
    "- Recall ou Sensitivity = $\\dfrac{tp}{tp + fn}$\n",
    "\n",
    "\n",
    "\n",
    "- F1 score = $ 2 \\cdot \\dfrac{precision \\times recall}{precision + recall}$"
   ]
  },
  {
   "cell_type": "markdown",
   "id": "363794d1",
   "metadata": {
    "hidden": true
   },
   "source": [
    "- **High precision**: Not many real emails predicted as spam\n",
    "- **High recall**: Predicted most spam emails correctly "
   ]
  },
  {
   "cell_type": "markdown",
   "id": "00676909",
   "metadata": {
    "heading_collapsed": true,
    "hidden": true
   },
   "source": [
    "## <span style=\"color:#12CBE1\">1.2. Confusion matrix in scikit-learn</span>"
   ]
  },
  {
   "cell_type": "markdown",
   "id": "637845f7",
   "metadata": {
    "hidden": true
   },
   "source": [
    "```python\n",
    "from sklearn.metrics import classification_report\n",
    "from sklearn.metrics import confusion_matrix\n",
    "\n",
    "# Classifier\n",
    "knn = KNeighborsClassifier(n_neighbors=8)\n",
    "\n",
    "# Split into train an test\n",
    "X_train, X_test, y_train, y_test = train_test_split(X, y, test_size=0.4, random_state=42)\n",
    "\n",
    "# Fit\n",
    "knn.fit(X_train, y_train)\n",
    "\n",
    "# Prediction\n",
    "y_pred = knn.predict(X_test)\n",
    "\n",
    "# Confusio nmatrix\n",
    "print(confusion_matrix(y_test, y_pred))\n",
    "print(classification_report(y_test, y_pred))\n",
    "```"
   ]
  },
  {
   "cell_type": "markdown",
   "id": "f604c9c5",
   "metadata": {
    "heading_collapsed": true,
    "hidden": true
   },
   "source": [
    "## <span style=\"color:#12CBE1\">1.3. Exercise</span>\n"
   ]
  },
  {
   "cell_type": "markdown",
   "id": "3bef4a19",
   "metadata": {
    "hidden": true
   },
   "source": [
    "> ### 1. Metrics for classification\n",
    "\n",
    "In Chapter 1, you evaluated the performance of your k-NN classifier based on its accuracy. However, as Andy discussed, accuracy is not always an informative metric. In this exercise, you will dive more deeply into evaluating the performance of binary classifiers by computing a confusion matrix and generating a classification report.\n",
    "\n",
    "You may have noticed in the video that the classification report consisted of three rows, and an additional support column. The support gives the number of samples of the true response that lie in that class - so in the video example, the support was the number of Republicans or Democrats in the test set on which the classification report was computed. The precision, recall, and f1-score columns, then, gave the respective metrics for that particular class.\n",
    "\n",
    "Here, you'll work with the PIMA Indians dataset obtained from the UCI Machine Learning Repository. The goal is to predict whether or not a given female patient will contract diabetes based on features such as BMI, age, and number of pregnancies. Therefore, it is a binary classification problem. A target value of 0 indicates that the patient does not have diabetes, while a value of 1 indicates that the patient does have diabetes. As in Chapters 1 and 2, the dataset has been preprocessed to deal with missing values.\n",
    "\n",
    "The dataset has been loaded into a DataFrame df and the feature and target variable arrays X and y have been created for you. In addition, sklearn.model_selection.train_test_split and sklearn.neighbors.KNeighborsClassifier have already been imported.\n",
    "\n",
    "Your job is to train a k-NN classifier to the data and evaluate its performance by generating a confusion matrix and classification report.\n",
    "\n",
    "**Steps**\n",
    "\n",
    "- Import `classification_report` and `confusion_matrix` from `sklearn.metrics`.\n",
    "- Create training and testing sets with 40% of the data used for testing. Use a random state of `42`.\n",
    "- Instantiate a k-NN classifier with `6` neighbors, fit it to the training data, and predict the labels of the test set.\n",
    "- Compute and print the confusion matrix and classification report using the `confusion_matrix()`\u0003 and `classification_report()` functions."
   ]
  },
  {
   "cell_type": "code",
   "execution_count": 5,
   "id": "4b08bb6b",
   "metadata": {
    "ExecuteTime": {
     "end_time": "2022-05-05T18:51:33.929430Z",
     "start_time": "2022-05-05T18:51:33.246640Z"
    },
    "hidden": true
   },
   "outputs": [],
   "source": [
    "# Imports\n",
    "import pandas as pd\n",
    "import numpy as np\n",
    "from sklearn.neighbors import KNeighborsClassifier \n",
    "from sklearn.model_selection import train_test_split\n",
    "\n",
    "# Data\n",
    "url_diabetes = \"https://assets.datacamp.com/production/repositories/628/datasets/444cdbf175d5fbf564b564bd36ac21740627a834/diabetes.csv\"\n",
    "diabetes = pd.read_csv(url_diabetes)\n",
    "diabetes.head()\n",
    "\n",
    "# X and y\n",
    "X = diabetes.drop('diabetes', axis=1)\n",
    "y = diabetes['diabetes']"
   ]
  },
  {
   "cell_type": "code",
   "execution_count": 14,
   "id": "ba8af836",
   "metadata": {
    "ExecuteTime": {
     "end_time": "2022-05-04T23:25:19.230415Z",
     "start_time": "2022-05-04T23:25:19.196679Z"
    },
    "hidden": true
   },
   "outputs": [
    {
     "name": "stdout",
     "output_type": "stream",
     "text": [
      "[[176  30]\n",
      " [ 56  46]]\n",
      "              precision    recall  f1-score   support\n",
      "\n",
      "           0       0.76      0.85      0.80       206\n",
      "           1       0.61      0.45      0.52       102\n",
      "\n",
      "    accuracy                           0.72       308\n",
      "   macro avg       0.68      0.65      0.66       308\n",
      "weighted avg       0.71      0.72      0.71       308\n",
      "\n"
     ]
    }
   ],
   "source": [
    "# Import necessary modules\n",
    "from sklearn.metrics import classification_report \n",
    "from sklearn.metrics import confusion_matrix \n",
    "\n",
    "# Create training and test set\n",
    "X_train, X_test, y_train, y_test = train_test_split(X, y, test_size=0.40, random_state=42)\n",
    "\n",
    "# Instantiate a k-NN classifier: knn\n",
    "knn = KNeighborsClassifier(n_neighbors=6)\n",
    "\n",
    "# Fit the classifier to the training data\n",
    "knn.fit(X_train, y_train)\n",
    "\n",
    "# Predict the labels of the test data: y_pred\n",
    "y_pred = knn.predict(X_test)\n",
    "\n",
    "# Generate the confusion matrix and classification report\n",
    "print(confusion_matrix(y_test, y_pred))\n",
    "print(classification_report(y_test, y_pred))\n"
   ]
  },
  {
   "cell_type": "markdown",
   "id": "0b25133e",
   "metadata": {
    "heading_collapsed": true
   },
   "source": [
    "# <span style=\"color:#E18C12\">2. Logistic Regression and the ROC curve</span>"
   ]
  },
  {
   "cell_type": "code",
   "execution_count": 2,
   "id": "e423f638",
   "metadata": {
    "ExecuteTime": {
     "end_time": "2022-05-05T18:35:33.955745Z",
     "start_time": "2022-05-05T18:35:33.953181Z"
    },
    "hidden": true
   },
   "outputs": [],
   "source": [
    "# Imports\n",
    "from sklearn.linear_model import LogisticRegression\n",
    "from sklearn.model_selection import train_test_split"
   ]
  },
  {
   "cell_type": "markdown",
   "id": "7a573a36",
   "metadata": {
    "hidden": true
   },
   "source": [
    "```python\n",
    "logreg = LogisticRegression()\n",
    "X_train, X_test, y_train, y_test = train_test_split(X, y, test_size=0.4, random_state=42)\n",
    "logreg.fit(X_train, y_train)\n",
    "y_pred = logreg.predict(X_test)\n",
    "```"
   ]
  },
  {
   "cell_type": "markdown",
   "id": "e23dd213",
   "metadata": {
    "hidden": true
   },
   "source": [
    "default threshold = 0.5"
   ]
  },
  {
   "cell_type": "markdown",
   "id": "79945f78",
   "metadata": {
    "heading_collapsed": true,
    "hidden": true
   },
   "source": [
    "##  <span style=\"color:#12CBE1\">2.1. Plotting the ROC curve</span>"
   ]
  },
  {
   "cell_type": "markdown",
   "id": "821ec6f1",
   "metadata": {
    "hidden": true
   },
   "source": [
    "```python\n",
    "from sklearn.metrics import roc_curve\n",
    "y_pred_prob = logreg.predict_proba(X_test)[:,1]\n",
    "fpr, tpr, thresholds = roc_curve(y_test, y_pred_prob)\n",
    "\n",
    "plt.plot([0, 1], [0, 1], 'k--')\n",
    "plt.plot(fpr, tpr, label='Logistic Regression')\n",
    "plt.xlabel('False Positive Rate')\n",
    "plt.ylabel('True Positive Rate')\n",
    "plt.title('Logidtic Regression ROC Curve')\n",
    "plt.show();\n",
    "```"
   ]
  },
  {
   "cell_type": "markdown",
   "id": "c572d178",
   "metadata": {
    "heading_collapsed": true,
    "hidden": true
   },
   "source": [
    "##  <span style=\"color:#12CBE1\">2.2. Exercises</span>"
   ]
  },
  {
   "cell_type": "markdown",
   "id": "4931a5a6",
   "metadata": {
    "hidden": true
   },
   "source": [
    "> ### 1. Building a logistic regression model\n",
    "\n",
    "Time to build your first logistic regression model! As Hugo showed in the video, scikit-learn makes it very easy to try different models, since the Train-Test-Split/Instantiate/Fit/Predict paradigm applies to all classifiers and regressors - which are known in scikit-learn as 'estimators'. You'll see this now for yourself as you train a logistic regression model on exactly the same data as in the previous exercise. Will it outperform k-NN? There's only one way to find out!\n",
    "\n",
    "The feature and target variable arrays X and y have been pre-loaded, and `train_test_split` has been imported for you from `sklearn.model_selection`.\n",
    "\n",
    "**Steps**\n",
    "- Import:\n",
    "    + `LogisticRegression` from `sklearn.linear_model`.\n",
    "    + `confusion_matrix` and `classification_report` from `sklearn.metrics`.\n",
    "- Create training and test sets with 40% (or 0.4) of the data used for testing. Use a random state of 42. This has been done for you.\n",
    "- Instantiate a `LogisticRegression` classifier called `logreg`.\n",
    "- Fit the classifier to the training data and predict the labels of the test set.\n",
    "- Compute and print the confusion matrix and classification report. This has been done for you, so hit submit to see how logistic regression compares to k-NN!"
   ]
  },
  {
   "cell_type": "code",
   "execution_count": 6,
   "id": "c7f0ba2d",
   "metadata": {
    "ExecuteTime": {
     "end_time": "2022-05-05T18:52:35.285484Z",
     "start_time": "2022-05-05T18:52:35.237468Z"
    },
    "hidden": true
   },
   "outputs": [
    {
     "name": "stdout",
     "output_type": "stream",
     "text": [
      "[[170  36]\n",
      " [ 36  66]]\n",
      "              precision    recall  f1-score   support\n",
      "\n",
      "           0       0.83      0.83      0.83       206\n",
      "           1       0.65      0.65      0.65       102\n",
      "\n",
      "    accuracy                           0.77       308\n",
      "   macro avg       0.74      0.74      0.74       308\n",
      "weighted avg       0.77      0.77      0.77       308\n",
      "\n"
     ]
    },
    {
     "name": "stderr",
     "output_type": "stream",
     "text": [
      "/usr/local/lib/python3.9/site-packages/sklearn/linear_model/_logistic.py:762: ConvergenceWarning: lbfgs failed to converge (status=1):\n",
      "STOP: TOTAL NO. of ITERATIONS REACHED LIMIT.\n",
      "\n",
      "Increase the number of iterations (max_iter) or scale the data as shown in:\n",
      "    https://scikit-learn.org/stable/modules/preprocessing.html\n",
      "Please also refer to the documentation for alternative solver options:\n",
      "    https://scikit-learn.org/stable/modules/linear_model.html#logistic-regression\n",
      "  n_iter_i = _check_optimize_result(\n"
     ]
    }
   ],
   "source": [
    "# Import the necessary modules\n",
    "from sklearn.linear_model import LogisticRegression\n",
    "from sklearn.metrics import confusion_matrix, classification_report\n",
    "\n",
    "# Create training and test sets\n",
    "X_train, X_test, y_train, y_test = train_test_split(X, y, test_size = 0.4, random_state=42)\n",
    "\n",
    "# Create the classifier: logreg\n",
    "logreg = LogisticRegression()\n",
    "\n",
    "# Fit the classifier to the training data\n",
    "logreg.fit(X_train, y_train)\n",
    "\n",
    "# Predict the labels of the test set: y_pred\n",
    "y_pred = logreg.predict(X_test)\n",
    "\n",
    "# Compute and print the confusion matrix and classification report\n",
    "print(confusion_matrix(y_test, y_pred))\n",
    "print(classification_report(y_test, y_pred))\n"
   ]
  },
  {
   "cell_type": "markdown",
   "id": "38d3fd93",
   "metadata": {
    "hidden": true
   },
   "source": [
    "> ### 2. Plotting an ROC curve\n",
    "\n",
    "Great job in the previous exercise - you now have a new addition to your toolbox of classifiers!\n",
    "\n",
    "Classification reports and confusion matrices are great methods to quantitatively evaluate model performance, while ROC curves provide a way to visually evaluate models. As Hugo demonstrated in the video, most classifiers in scikit-learn have a `.predict_proba()` method which returns the probability of a given sample being in a particular class. Having built a logistic regression model, you'll now evaluate its performance by plotting an ROC curve. In doing so, you'll make use of the `.predict_proba()` method and become familiar with its functionality.\n",
    "\n",
    "Here, you'll continue working with the PIMA Indians diabetes dataset. The classifier has already been fit to the training data and is available as logreg.\n",
    "\n",
    "**Steps**\n",
    "\n",
    "- Import `roc_curve` from `sklearn.metrics`.\n",
    "- Using the `logreg` classifier, which has been fit to the training data, compute the predicted probabilities of the labels of the test set `X_test`. Save the result as `y_pred_prob`.\n",
    "- Use the `roc_curve()` function with `y_test` and `y_pred_prob` and unpack the result into the variables `fpr`, `tpr`, and `thresholds`.\n",
    "- Plot the ROC curve with `fpr` on the x-axis and `tpr` on the y-axis."
   ]
  },
  {
   "cell_type": "code",
   "execution_count": 8,
   "id": "53d63d04",
   "metadata": {
    "ExecuteTime": {
     "end_time": "2022-05-05T18:58:53.737632Z",
     "start_time": "2022-05-05T18:58:53.626081Z"
    },
    "hidden": true
   },
   "outputs": [
    {
     "data": {
      "image/png": "[encoded data removed]",
      "text/plain": [
       "<Figure size 432x288 with 1 Axes>"
      ]
     },
     "metadata": {},
     "output_type": "display_data"
    }
   ],
   "source": [
    "# Import necessary modules\n",
    "from sklearn.metrics import roc_curve\n",
    "\n",
    "# Compute predicted probabilities: y_pred_prob\n",
    "y_pred_prob = logreg.predict_proba(X_test)[:,1]\n",
    "\n",
    "# Generate ROC curve values: fpr, tpr, thresholds\n",
    "fpr, tpr, thresholds = roc_curve(y_test, y_pred_prob)\n",
    "\n",
    "# Plot ROC curve\n",
    "plt.plot([0, 1], [0, 1], 'k--')\n",
    "plt.plot(fpr, tpr)\n",
    "plt.xlabel('False Positive Rate')\n",
    "plt.ylabel('True Positive Rate')\n",
    "plt.title('ROC Curve')\n",
    "plt.show()"
   ]
  },
  {
   "cell_type": "markdown",
   "id": "86c33690",
   "metadata": {
    "hidden": true
   },
   "source": [
    "> ### 3. Precision-recall Curve\n",
    "\n",
    "\n",
    "<img style=\"float: right;\" src=\"images/precision_recall_curve.svg\">\n",
    "\n",
    "When looking at your ROC curve, you may have noticed that the y-axis (True positive rate) is also known as recall. Indeed, in addition to the ROC curve, there are other ways to visually evaluate model performance. One such way is the precision-recall curve, which is generated by plotting the precision and recall for different thresholds. As a reminder, precision and recall are defined as:\n",
    "\n",
    " \n",
    "$$\n",
    "Precision = \\dfrac{TP}{TP + FP}\n",
    "$$\n",
    "\n",
    "\n",
    "$$\n",
    "Recall = \\dfrac{TP}{TP + FN}\n",
    "$$\n",
    " \n",
    "\n",
    "On the right, a precision-recall curve has been generated for the diabetes dataset. The classification report and confusion matrix are displayed in the IPython Shell.\n",
    "\n",
    "```python\n",
    "             precision    recall  f1-score   support\n",
    "\n",
    "          0       0.83      0.85      0.84       206\n",
    "          1       0.69      0.66      0.67       102\n",
    "\n",
    "avg / total       0.79      0.79      0.79       308\n",
    "\n",
    "[[176  30]\n",
    " [ 35  67]]\n",
    "``` \n",
    "\n",
    "Study the precision-recall curve and then consider the statements given below. Choose the one statement that is not true. Note that here, the class is positive (1) if the individual has diabetes.\n",
    "\n",
    "### Possible Answers\n",
    "\n",
    "**A)** A recall of 1 corresponds to a classifier with a low threshold in which all females who contract diabetes were correctly classified as such, at the expense of many misclassifications of those who did not have diabetes.✅\n",
    "\n",
    "**B)** Precision is undefined for a classifier which makes no positive predictions, that is, classifies everyone as not having diabetes.✅\n",
    "\n",
    "**C)** When the threshold is very close to 1, precision is also 1, because the classifier is absolutely certain about its predictions.✅\n",
    "\n",
    "**D)** Precision and recall take true negatives into consideration. ❌"
   ]
  },
  {
   "cell_type": "markdown",
   "id": "e0ef8fcf",
   "metadata": {},
   "source": [
    "# <span style=\"color:#E18C12\">3. Area under the ROC curve</span>"
   ]
  },
  {
   "cell_type": "code",
   "execution_count": null,
   "id": "39765a6b",
   "metadata": {},
   "outputs": [],
   "source": []
  }
 ],
 "metadata": {
  "kernelspec": {
   "display_name": "Python 3 (ipykernel)",
   "language": "python",
   "name": "python3"
  },
  "language_info": {
   "codemirror_mode": {
    "name": "ipython",
    "version": 3
   },
   "file_extension": ".py",
   "mimetype": "text/x-python",
   "name": "python",
   "nbconvert_exporter": "python",
   "pygments_lexer": "ipython3",
   "version": "3.9.7"
  }
 },
 "nbformat": 4,
 "nbformat_minor": 5
}
