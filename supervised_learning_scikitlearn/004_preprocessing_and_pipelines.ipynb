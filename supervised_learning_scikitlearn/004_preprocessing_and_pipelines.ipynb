{
 "cells": [
  {
   "cell_type": "markdown",
   "id": "036a557e",
   "metadata": {},
   "source": [
    "# <span style=\"color:#E18C12\">1. Dealing with categorical featured</span>"
   ]
  },
  {
   "cell_type": "markdown",
   "id": "05e1c972",
   "metadata": {},
   "source": [
    "- Scikit-learn will not accept categorical features by default\n",
    "- Need to encode categorical features numerically\n",
    "- Convert to 'dummy variables'\n",
    "    + 0: Observation was not that category\n",
    "    + 1: Observation was that category\n",
    "- scikit-learn: `OneHotEncoder()`\n",
    "- pandas: `get_dummies()`"
   ]
  },
  {
   "cell_type": "markdown",
   "id": "55fda37c",
   "metadata": {},
   "source": [
    "## Example:"
   ]
  },
  {
   "cell_type": "code",
   "execution_count": 3,
   "id": "b47a995f",
   "metadata": {
    "ExecuteTime": {
     "end_time": "2022-05-12T18:37:24.303911Z",
     "start_time": "2022-05-12T18:37:23.771101Z"
    }
   },
   "outputs": [
    {
     "data": {
      "text/html": [
       "<div>\n",
       "<style scoped>\n",
       "    .dataframe tbody tr th:only-of-type {\n",
       "        vertical-align: middle;\n",
       "    }\n",
       "\n",
       "    .dataframe tbody tr th {\n",
       "        vertical-align: top;\n",
       "    }\n",
       "\n",
       "    .dataframe thead th {\n",
       "        text-align: right;\n",
       "    }\n",
       "</style>\n",
       "<table border=\"1\" class=\"dataframe\">\n",
       "  <thead>\n",
       "    <tr style=\"text-align: right;\">\n",
       "      <th></th>\n",
       "      <th>mpg</th>\n",
       "      <th>displ</th>\n",
       "      <th>hp</th>\n",
       "      <th>weight</th>\n",
       "      <th>accel</th>\n",
       "      <th>origin</th>\n",
       "      <th>size</th>\n",
       "    </tr>\n",
       "  </thead>\n",
       "  <tbody>\n",
       "    <tr>\n",
       "      <th>0</th>\n",
       "      <td>18.0</td>\n",
       "      <td>250.0</td>\n",
       "      <td>88</td>\n",
       "      <td>3139</td>\n",
       "      <td>14.5</td>\n",
       "      <td>US</td>\n",
       "      <td>15.0</td>\n",
       "    </tr>\n",
       "    <tr>\n",
       "      <th>1</th>\n",
       "      <td>9.0</td>\n",
       "      <td>304.0</td>\n",
       "      <td>193</td>\n",
       "      <td>4732</td>\n",
       "      <td>18.5</td>\n",
       "      <td>US</td>\n",
       "      <td>20.0</td>\n",
       "    </tr>\n",
       "    <tr>\n",
       "      <th>2</th>\n",
       "      <td>36.1</td>\n",
       "      <td>91.0</td>\n",
       "      <td>60</td>\n",
       "      <td>1800</td>\n",
       "      <td>16.4</td>\n",
       "      <td>Asia</td>\n",
       "      <td>10.0</td>\n",
       "    </tr>\n",
       "    <tr>\n",
       "      <th>3</th>\n",
       "      <td>18.5</td>\n",
       "      <td>250.0</td>\n",
       "      <td>98</td>\n",
       "      <td>3525</td>\n",
       "      <td>19.0</td>\n",
       "      <td>US</td>\n",
       "      <td>15.0</td>\n",
       "    </tr>\n",
       "    <tr>\n",
       "      <th>4</th>\n",
       "      <td>34.3</td>\n",
       "      <td>97.0</td>\n",
       "      <td>78</td>\n",
       "      <td>2188</td>\n",
       "      <td>15.8</td>\n",
       "      <td>Europe</td>\n",
       "      <td>10.0</td>\n",
       "    </tr>\n",
       "  </tbody>\n",
       "</table>\n",
       "</div>"
      ],
      "text/plain": [
       "    mpg  displ   hp  weight  accel  origin  size\n",
       "0  18.0  250.0   88    3139   14.5      US  15.0\n",
       "1   9.0  304.0  193    4732   18.5      US  20.0\n",
       "2  36.1   91.0   60    1800   16.4    Asia  10.0\n",
       "3  18.5  250.0   98    3525   19.0      US  15.0\n",
       "4  34.3   97.0   78    2188   15.8  Europe  10.0"
      ]
     },
     "execution_count": 3,
     "metadata": {},
     "output_type": "execute_result"
    }
   ],
   "source": [
    "import pandas as pd\n",
    "auto_url = 'https://assets.datacamp.com/production/repositories/628/datasets/3781d588cf7b04b1e376c7e9dda489b3e6c7465b/auto.csv'\n",
    "df = pd.read_csv(auto_url)    \n",
    "df.head()    "
   ]
  },
  {
   "cell_type": "code",
   "execution_count": 4,
   "id": "f333b3c2",
   "metadata": {
    "ExecuteTime": {
     "end_time": "2022-05-12T18:37:46.049350Z",
     "start_time": "2022-05-12T18:37:46.033792Z"
    }
   },
   "outputs": [
    {
     "data": {
      "text/html": [
       "<div>\n",
       "<style scoped>\n",
       "    .dataframe tbody tr th:only-of-type {\n",
       "        vertical-align: middle;\n",
       "    }\n",
       "\n",
       "    .dataframe tbody tr th {\n",
       "        vertical-align: top;\n",
       "    }\n",
       "\n",
       "    .dataframe thead th {\n",
       "        text-align: right;\n",
       "    }\n",
       "</style>\n",
       "<table border=\"1\" class=\"dataframe\">\n",
       "  <thead>\n",
       "    <tr style=\"text-align: right;\">\n",
       "      <th></th>\n",
       "      <th>mpg</th>\n",
       "      <th>displ</th>\n",
       "      <th>hp</th>\n",
       "      <th>weight</th>\n",
       "      <th>accel</th>\n",
       "      <th>size</th>\n",
       "      <th>origin_Asia</th>\n",
       "      <th>origin_Europe</th>\n",
       "      <th>origin_US</th>\n",
       "    </tr>\n",
       "  </thead>\n",
       "  <tbody>\n",
       "    <tr>\n",
       "      <th>0</th>\n",
       "      <td>18.0</td>\n",
       "      <td>250.0</td>\n",
       "      <td>88</td>\n",
       "      <td>3139</td>\n",
       "      <td>14.5</td>\n",
       "      <td>15.0</td>\n",
       "      <td>0</td>\n",
       "      <td>0</td>\n",
       "      <td>1</td>\n",
       "    </tr>\n",
       "    <tr>\n",
       "      <th>1</th>\n",
       "      <td>9.0</td>\n",
       "      <td>304.0</td>\n",
       "      <td>193</td>\n",
       "      <td>4732</td>\n",
       "      <td>18.5</td>\n",
       "      <td>20.0</td>\n",
       "      <td>0</td>\n",
       "      <td>0</td>\n",
       "      <td>1</td>\n",
       "    </tr>\n",
       "    <tr>\n",
       "      <th>2</th>\n",
       "      <td>36.1</td>\n",
       "      <td>91.0</td>\n",
       "      <td>60</td>\n",
       "      <td>1800</td>\n",
       "      <td>16.4</td>\n",
       "      <td>10.0</td>\n",
       "      <td>1</td>\n",
       "      <td>0</td>\n",
       "      <td>0</td>\n",
       "    </tr>\n",
       "    <tr>\n",
       "      <th>3</th>\n",
       "      <td>18.5</td>\n",
       "      <td>250.0</td>\n",
       "      <td>98</td>\n",
       "      <td>3525</td>\n",
       "      <td>19.0</td>\n",
       "      <td>15.0</td>\n",
       "      <td>0</td>\n",
       "      <td>0</td>\n",
       "      <td>1</td>\n",
       "    </tr>\n",
       "    <tr>\n",
       "      <th>4</th>\n",
       "      <td>34.3</td>\n",
       "      <td>97.0</td>\n",
       "      <td>78</td>\n",
       "      <td>2188</td>\n",
       "      <td>15.8</td>\n",
       "      <td>10.0</td>\n",
       "      <td>0</td>\n",
       "      <td>1</td>\n",
       "      <td>0</td>\n",
       "    </tr>\n",
       "  </tbody>\n",
       "</table>\n",
       "</div>"
      ],
      "text/plain": [
       "    mpg  displ   hp  weight  accel  size  origin_Asia  origin_Europe  \\\n",
       "0  18.0  250.0   88    3139   14.5  15.0            0              0   \n",
       "1   9.0  304.0  193    4732   18.5  20.0            0              0   \n",
       "2  36.1   91.0   60    1800   16.4  10.0            1              0   \n",
       "3  18.5  250.0   98    3525   19.0  15.0            0              0   \n",
       "4  34.3   97.0   78    2188   15.8  10.0            0              1   \n",
       "\n",
       "   origin_US  \n",
       "0          1  \n",
       "1          1  \n",
       "2          0  \n",
       "3          1  \n",
       "4          0  "
      ]
     },
     "execution_count": 4,
     "metadata": {},
     "output_type": "execute_result"
    }
   ],
   "source": [
    "df_origin = pd.get_dummies(df)\n",
    "df_origin.head()"
   ]
  },
  {
   "cell_type": "markdown",
   "id": "931d7ac4",
   "metadata": {},
   "source": [
    "- We can drop one of the origin dummy variable, because if two of them are 0, we know the third one will be 1:"
   ]
  },
  {
   "cell_type": "code",
   "execution_count": 5,
   "id": "19f723be",
   "metadata": {
    "ExecuteTime": {
     "end_time": "2022-05-12T18:43:14.220941Z",
     "start_time": "2022-05-12T18:43:14.208820Z"
    }
   },
   "outputs": [
    {
     "data": {
      "text/html": [
       "<div>\n",
       "<style scoped>\n",
       "    .dataframe tbody tr th:only-of-type {\n",
       "        vertical-align: middle;\n",
       "    }\n",
       "\n",
       "    .dataframe tbody tr th {\n",
       "        vertical-align: top;\n",
       "    }\n",
       "\n",
       "    .dataframe thead th {\n",
       "        text-align: right;\n",
       "    }\n",
       "</style>\n",
       "<table border=\"1\" class=\"dataframe\">\n",
       "  <thead>\n",
       "    <tr style=\"text-align: right;\">\n",
       "      <th></th>\n",
       "      <th>mpg</th>\n",
       "      <th>displ</th>\n",
       "      <th>hp</th>\n",
       "      <th>weight</th>\n",
       "      <th>accel</th>\n",
       "      <th>size</th>\n",
       "      <th>origin_Europe</th>\n",
       "      <th>origin_US</th>\n",
       "    </tr>\n",
       "  </thead>\n",
       "  <tbody>\n",
       "    <tr>\n",
       "      <th>0</th>\n",
       "      <td>18.0</td>\n",
       "      <td>250.0</td>\n",
       "      <td>88</td>\n",
       "      <td>3139</td>\n",
       "      <td>14.5</td>\n",
       "      <td>15.0</td>\n",
       "      <td>0</td>\n",
       "      <td>1</td>\n",
       "    </tr>\n",
       "    <tr>\n",
       "      <th>1</th>\n",
       "      <td>9.0</td>\n",
       "      <td>304.0</td>\n",
       "      <td>193</td>\n",
       "      <td>4732</td>\n",
       "      <td>18.5</td>\n",
       "      <td>20.0</td>\n",
       "      <td>0</td>\n",
       "      <td>1</td>\n",
       "    </tr>\n",
       "    <tr>\n",
       "      <th>2</th>\n",
       "      <td>36.1</td>\n",
       "      <td>91.0</td>\n",
       "      <td>60</td>\n",
       "      <td>1800</td>\n",
       "      <td>16.4</td>\n",
       "      <td>10.0</td>\n",
       "      <td>0</td>\n",
       "      <td>0</td>\n",
       "    </tr>\n",
       "    <tr>\n",
       "      <th>3</th>\n",
       "      <td>18.5</td>\n",
       "      <td>250.0</td>\n",
       "      <td>98</td>\n",
       "      <td>3525</td>\n",
       "      <td>19.0</td>\n",
       "      <td>15.0</td>\n",
       "      <td>0</td>\n",
       "      <td>1</td>\n",
       "    </tr>\n",
       "    <tr>\n",
       "      <th>4</th>\n",
       "      <td>34.3</td>\n",
       "      <td>97.0</td>\n",
       "      <td>78</td>\n",
       "      <td>2188</td>\n",
       "      <td>15.8</td>\n",
       "      <td>10.0</td>\n",
       "      <td>1</td>\n",
       "      <td>0</td>\n",
       "    </tr>\n",
       "  </tbody>\n",
       "</table>\n",
       "</div>"
      ],
      "text/plain": [
       "    mpg  displ   hp  weight  accel  size  origin_Europe  origin_US\n",
       "0  18.0  250.0   88    3139   14.5  15.0              0          1\n",
       "1   9.0  304.0  193    4732   18.5  20.0              0          1\n",
       "2  36.1   91.0   60    1800   16.4  10.0              0          0\n",
       "3  18.5  250.0   98    3525   19.0  15.0              0          1\n",
       "4  34.3   97.0   78    2188   15.8  10.0              1          0"
      ]
     },
     "execution_count": 5,
     "metadata": {},
     "output_type": "execute_result"
    }
   ],
   "source": [
    "df_origin = df_origin.drop('origin_Asia', axis=1)\n",
    "df_origin.head()"
   ]
  },
  {
   "cell_type": "markdown",
   "id": "0a5a1b73",
   "metadata": {},
   "source": [
    "# <span style=\"color:#E18C12\">Linear Regression with dummy variables</span> "
   ]
  },
  {
   "cell_type": "code",
   "execution_count": 13,
   "id": "45f77317",
   "metadata": {
    "ExecuteTime": {
     "end_time": "2022-05-12T18:56:33.683256Z",
     "start_time": "2022-05-12T18:56:33.658647Z"
    }
   },
   "outputs": [
    {
     "data": {
      "text/plain": [
       "0.7190645190217895"
      ]
     },
     "execution_count": 13,
     "metadata": {},
     "output_type": "execute_result"
    }
   ],
   "source": [
    "from sklearn.model_selection import train_test_split\n",
    "from sklearn.linear_model import Ridge\n",
    "\n",
    "X = df_origin.drop('mpg', axis=1).values\n",
    "y = df_origin['mpg'].values\n",
    "\n",
    "X_train, X_test, y_train, y_test = train_test_split(X, y, test_size=0.3, random_state=42)\n",
    "\n",
    "ridge = Ridge(alpha=0.5, normalize=True).fit(X_train, y_train)\n",
    "ridge.score(X_test, y_test)"
   ]
  },
  {
   "cell_type": "markdown",
   "id": "d119cff0",
   "metadata": {},
   "source": [
    "# <span style=\"color:#E18C12\">Exercises</span> \n",
    "\n",
    "> ## 1. Exploring categorical features\n",
    "\n",
    "\n",
    "The Gapminder dataset that you worked with in previous chapters also contained a categorical 'Region' feature, which we dropped in previous exercises since you did not have the tools to deal with it. Now however, you do, so we have added it back in!\n",
    "\n",
    "Your job in this exercise is to explore this feature. Boxplots are particularly useful for visualizing categorical features such as this.\n",
    "\n",
    "\n",
    "- Import pandas as pd.\n",
    "- Read the CSV file `'gapminder.csv'` into a DataFrame called `df`.\n",
    "- Use pandas to create a boxplot showing the variation of life expectancy (`'life'`) by region (`'Region'`). To do so, pass the column names in to `df.boxplot()` (in that order)."
   ]
  },
  {
   "cell_type": "code",
   "execution_count": 17,
   "id": "2002e7e5",
   "metadata": {
    "ExecuteTime": {
     "end_time": "2022-05-12T19:05:13.464784Z",
     "start_time": "2022-05-12T19:05:13.298533Z"
    }
   },
   "outputs": [
    {
     "data": {
      "image/png": "[encoded data removed]",
      "text/plain": [
       "<Figure size 432x288 with 1 Axes>"
      ]
     },
     "metadata": {
      "needs_background": "light"
     },
     "output_type": "display_data"
    }
   ],
   "source": [
    "# Import pandas\n",
    "import pandas as pd\n",
    "import matplotlib.pyplot as plt\n",
    "\n",
    "# Read 'gapminder.csv' into a DataFrame: df\n",
    "df = pd.read_csv('gapminder.csv')\n",
    "\n",
    "# Create a boxplot of life expectancy per region\n",
    "df.boxplot('life', 'Region', rot=60)\n",
    "\n",
    "# Show the plot\n",
    "plt.show()\n"
   ]
  },
  {
   "cell_type": "markdown",
   "id": "00aa698e",
   "metadata": {
    "ExecuteTime": {
     "end_time": "2022-05-12T19:03:28.200517Z",
     "start_time": "2022-05-12T19:03:28.196342Z"
    }
   },
   "source": [
    "> ## 2. Creating dummy variables\n",
    "\n",
    "As Andy discussed in the video, scikit-learn does not accept non-numerical features. You saw in the previous exercise that the `'Region'` feature contains very useful information that can predict life expectancy. For example, Sub-Saharan Africa has a lower life expectancy compared to Europe and Central Asia. Therefore, if you are trying to predict life expectancy, it would be preferable to retain the `'Region'` feature. To do this, you need to binarize it by creating dummy variables, which is what you will do in this exercise.\n",
    "\n",
    "\n",
    "- Use the pandas get_dummies() function to create dummy variables from the df DataFrame. Store the result as df_region.\n",
    "- Print the columns of df_region. This has been done for you.\n",
    "- Use the get_dummies() function again, this time specifying drop_first=True to drop the unneeded dummy variable (in this case, 'Region_America').\n",
    "- Hit submit to print the new columns of df_region and take note of how one column"
   ]
  },
  {
   "cell_type": "code",
   "execution_count": 20,
   "id": "89ba599d",
   "metadata": {
    "ExecuteTime": {
     "end_time": "2022-05-12T19:07:29.783301Z",
     "start_time": "2022-05-12T19:07:29.773283Z"
    }
   },
   "outputs": [
    {
     "name": "stdout",
     "output_type": "stream",
     "text": [
      "Index(['population', 'fertility', 'HIV', 'CO2', 'BMI_male', 'GDP',\n",
      "       'BMI_female', 'life', 'child_mortality', 'Region_America',\n",
      "       'Region_East Asia & Pacific', 'Region_Europe & Central Asia',\n",
      "       'Region_Middle East & North Africa', 'Region_South Asia',\n",
      "       'Region_Sub-Saharan Africa'],\n",
      "      dtype='object')\n",
      "Index(['population', 'fertility', 'HIV', 'CO2', 'BMI_male', 'GDP',\n",
      "       'BMI_female', 'life', 'child_mortality', 'Region_East Asia & Pacific',\n",
      "       'Region_Europe & Central Asia', 'Region_Middle East & North Africa',\n",
      "       'Region_South Asia', 'Region_Sub-Saharan Africa'],\n",
      "      dtype='object')\n"
     ]
    }
   ],
   "source": [
    "# Create dummy variables: df_region\n",
    "df_region = pd.get_dummies(df)\n",
    "\n",
    "# Print the columns of df_region\n",
    "print(df_region.columns)\n",
    "\n",
    "# Create dummy variables with drop_first=True: df_region\n",
    "df_region = pd.get_dummies(df, drop_first=True)\n",
    "\n",
    "# Print the new columns of df_region\n",
    "print(df_region.columns)"
   ]
  },
  {
   "cell_type": "markdown",
   "id": "6ebcacf0",
   "metadata": {},
   "source": [
    "> ## 3. Regression with categorical features\n",
    "\n",
    "Having created the dummy variables from the 'Region' feature, you can build regression models as you did before. Here, you'll use ridge regression to perform 5-fold cross-validation.\n",
    "\n",
    "The feature array X and target variable array y have been pre-loaded.\n",
    "\n",
    "\n",
    "- Import Ridge from sklearn.linear_model and cross_val_score from sklearn.model_selection.\n",
    "- Instantiate a ridge regressor called ridge with alpha=0.5 and normalize=True.\n",
    "- Perform 5-fold cross-validation on X and y using the cross_val_score() function.\n",
    "- Print the cross-validated scores."
   ]
  },
  {
   "cell_type": "code",
   "execution_count": 25,
   "id": "c7fc99a6",
   "metadata": {
    "ExecuteTime": {
     "end_time": "2022-05-12T19:10:59.311827Z",
     "start_time": "2022-05-12T19:10:59.308626Z"
    }
   },
   "outputs": [],
   "source": [
    "X = df_region.drop('life', axis=1).values\n",
    "y = df_region['life'].values"
   ]
  },
  {
   "cell_type": "code",
   "execution_count": 28,
   "id": "18678750",
   "metadata": {
    "ExecuteTime": {
     "end_time": "2022-05-12T19:14:33.501291Z",
     "start_time": "2022-05-12T19:14:33.491369Z"
    }
   },
   "outputs": [
    {
     "name": "stdout",
     "output_type": "stream",
     "text": [
      "[0.86808336 0.80623545 0.84004203 0.7754344  0.87503712]\n"
     ]
    }
   ],
   "source": [
    "# Import necessary modules\n",
    "from sklearn.linear_model import Ridge\n",
    "from sklearn.model_selection import cross_val_score\n",
    "\n",
    "# Instantiate a ridge regressor: ridge\n",
    "ridge = Ridge(alpha=0.5, normalize=True)\n",
    "\n",
    "# Perform 5-fold cross-validation: ridge_cv\n",
    "ridge_cv = cross_val_score(ridge, X, y, cv=5)\n",
    "\n",
    "# Print the cross-validated scores\n",
    "print(ridge_cv)\n"
   ]
  },
  {
   "cell_type": "code",
   "execution_count": null,
   "id": "3b5d3621",
   "metadata": {},
   "outputs": [],
   "source": []
  }
 ],
 "metadata": {
  "kernelspec": {
   "display_name": "Python 3 (ipykernel)",
   "language": "python",
   "name": "python3"
  },
  "language_info": {
   "codemirror_mode": {
    "name": "ipython",
    "version": 3
   },
   "file_extension": ".py",
   "mimetype": "text/x-python",
   "name": "python",
   "nbconvert_exporter": "python",
   "pygments_lexer": "ipython3",
   "version": "3.9.7"
  }
 },
 "nbformat": 4,
 "nbformat_minor": 5
}
